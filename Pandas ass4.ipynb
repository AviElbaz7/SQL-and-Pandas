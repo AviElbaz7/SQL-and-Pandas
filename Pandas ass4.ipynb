{
  "nbformat": 4,
  "nbformat_minor": 0,
  "metadata": {
    "colab": {
      "provenance": []
    },
    "kernelspec": {
      "name": "python3",
      "display_name": "Python 3"
    },
    "language_info": {
      "name": "python"
    }
  },
  "cells": [
    {
      "cell_type": "code",
      "execution_count": 1,
      "metadata": {
        "colab": {
          "base_uri": "https://localhost:8080/"
        },
        "id": "GMLnqNhr9JaG",
        "outputId": "39ebe1e3-e35f-4755-c7a8-cbf9318307bf"
      },
      "outputs": [
        {
          "output_type": "stream",
          "name": "stdout",
          "text": [
            "Looking in indexes: https://pypi.org/simple, https://us-python.pkg.dev/colab-wheels/public/simple/\n",
            "Requirement already satisfied: kaggle in /usr/local/lib/python3.7/dist-packages (1.5.12)\n",
            "Requirement already satisfied: certifi in /usr/local/lib/python3.7/dist-packages (from kaggle) (2022.9.24)\n",
            "Requirement already satisfied: requests in /usr/local/lib/python3.7/dist-packages (from kaggle) (2.23.0)\n",
            "Requirement already satisfied: python-slugify in /usr/local/lib/python3.7/dist-packages (from kaggle) (6.1.2)\n",
            "Requirement already satisfied: six>=1.10 in /usr/local/lib/python3.7/dist-packages (from kaggle) (1.15.0)\n",
            "Requirement already satisfied: python-dateutil in /usr/local/lib/python3.7/dist-packages (from kaggle) (2.8.2)\n",
            "Requirement already satisfied: urllib3 in /usr/local/lib/python3.7/dist-packages (from kaggle) (1.24.3)\n",
            "Requirement already satisfied: tqdm in /usr/local/lib/python3.7/dist-packages (from kaggle) (4.64.1)\n",
            "Requirement already satisfied: text-unidecode>=1.3 in /usr/local/lib/python3.7/dist-packages (from python-slugify->kaggle) (1.3)\n",
            "Requirement already satisfied: chardet<4,>=3.0.2 in /usr/local/lib/python3.7/dist-packages (from requests->kaggle) (3.0.4)\n",
            "Requirement already satisfied: idna<3,>=2.5 in /usr/local/lib/python3.7/dist-packages (from requests->kaggle) (2.10)\n"
          ]
        }
      ],
      "source": [
        "import json\n",
        "import os\n",
        "\n",
        "# Installing the Kaggle package\n",
        "!pip install kaggle \n",
        "\n",
        "!mkdir /root/.kaggle/ \n",
        "\n",
        "#Important Note: complete this with your own key - after running this for the first time remmember to **remove** your API_KEY\n",
        "api_token = {\"username\":\"avielbbaz\",\"key\":\"b9e35e8b71e0611fbd90b49b45fde304\"}\n",
        "\n",
        "\n",
        "# creating kaggle.json file with the personal API-Key details \n",
        "# You can also put this file on your Google Drive\n",
        "with open('/root/.kaggle/kaggle.json', 'w') as file:\n",
        "  json.dump(api_token, file)\n",
        "!chmod 600 /root/.kaggle/kaggle.json"
      ]
    },
    {
      "cell_type": "code",
      "source": [
        "!kaggle datasets list -s marvel"
      ],
      "metadata": {
        "colab": {
          "base_uri": "https://localhost:8080/"
        },
        "id": "990pLm-1ELfC",
        "outputId": "9e542467-c9d5-4573-bb70-10278f46aa5e"
      },
      "execution_count": null,
      "outputs": [
        {
          "output_type": "stream",
          "name": "stdout",
          "text": [
            "ref                                                       title                                          size  lastUpdated          downloadCount  voteCount  usabilityRating  \n",
            "--------------------------------------------------------  --------------------------------------------  -----  -------------------  -------------  ---------  ---------------  \n",
            "leonardopena/marvel-vs-dc                                 Marvel vs DC                                    2KB  2019-12-19 21:58:38           3247         64  1.0              \n",
            "csanhueza/the-marvel-universe-social-network              The Marvel Universe Social Network              3MB  2017-01-28 11:28:49          16984        204  0.9705882        \n",
            "deepcontractor/marvel-comic-books                         Marvel Comic Books Dataset                      4MB  2022-07-21 11:35:25           1065        105  1.0              \n",
            "dannielr/marvel-superheroes                               Marvel Superheroes                              8MB  2018-07-29 07:50:32           8546         86  0.29411766       \n",
            "hchen13/marvel-heroes                                     Marvel Heroes                                   1GB  2019-06-27 18:27:44           1226         37  0.4375           \n",
            "minisam/marvel-movie-dataset                              Marvel Movie dataset                            9KB  2022-03-02 20:03:37           2457         39  0.9411765        \n",
            "syedasimalishah/marvel-chracters                          Marvel Chracters                              256KB  2022-10-17 05:22:17            748         34  0.88235295       \n",
            "amirdhavarshinis/marvel-characters                        Marvel Characters                               6KB  2022-09-15 10:09:00            397         30  0.9411765        \n",
            "phiitm/marvel-cinematic-universe-dialogue-dataset         Marvel Cinematic Universe Dialogue Dataset    474KB  2020-05-30 08:46:10            589         31  1.0              \n",
            "davidgdong/marvel-cinematic-universe-box-office-dataset   Marvel Cinematic Universe Box Office Dataset    2KB  2022-04-14 23:28:03           2111         53  0.8235294        \n",
            "hetulmehta/marvel-vs-dc-imdb-dataset                      Marvel VS DC IMDB Dataset                     140KB  2021-06-03 12:39:27           1449         45  1.0              \n",
            "fivethirtyeight/fivethirtyeight-comic-characters-dataset  FiveThirtyEight Comic Characters Dataset      597KB  2019-04-26 15:01:41          20680       3186  0.8235294        \n",
            "yrdasilva/marvel-characters-and-universes                 Marvel Characters and Universes               907KB  2017-01-31 14:28:14           1009         26  0.7058824        \n",
            "jcraggy/marvel-vs-dc-imdb-rotten-tomatoes                 MARVEL vs. DC - IMDB & ROTTEN TOMATOES         73KB  2021-07-08 02:04:16            991         29  1.0              \n",
            "mysarahmadbhat/avengers-marvel                            Avengers - Marvel                               8KB  2021-09-12 12:52:30            419         13  0.9411765        \n",
            "vibster2397/superheroes                                   Marvel superheroes                             86MB  2018-08-29 18:38:06            278          9  0.5625           \n",
            "naveenchakravarthy/marvelcinematicuniverse-01-ironman     MarvelCinematicUniverse                        39KB  2021-03-23 04:10:20            116         10  0.9705882        \n",
            "jonbown/marvel-screen-time                                Marvel Character Screen Time                   17KB  2022-09-10 19:47:21             72         10  0.9705882        \n",
            "promptcloud/all-marvel-cinematic-universe-movies-on-imdb  All Marvel Cinematic Universe Movies on IMDB    6KB  2019-07-26 13:58:39           1245         16  1.0              \n",
            "tolgaik/marvel-comic-list                                 Marvel Comic List                             267KB  2022-10-28 17:44:10             25          9  0.9411765        \n"
          ]
        }
      ]
    },
    {
      "cell_type": "code",
      "source": [
        "!mkdir ./datasets\n",
        "!mkdir ./datasets/Marvel-Social-Network\n"
      ],
      "metadata": {
        "id": "V3eIgqRd9lRF"
      },
      "execution_count": null,
      "outputs": []
    },
    {
      "cell_type": "code",
      "source": [
        "!chmod 600 /root/.kaggle/kaggle.json\n",
        "# download the dataset from Kaggle and unzip it\n",
        "!kaggle datasets download csanhueza/the-marvel-universe-social-network -p ./datasets/Marvel-Social-Network\n",
        "!chdir ./datasets/Marvel-Social-Network\n",
        "!unzip ./datasets/Marvel-Social-Network/*.zip  -d ./datasets/Marvel-Social-Network\n",
        "!ls ./datasets/Marvel-Social-Network\n",
        "# !chdir ./datasets/Marvel-Social-Network/database.sqlite/\n",
        "# !unzip ./datasets/Marvel-Social-Network/database.sqlite/*.zip  -d ./datasets/Marvel-Social-Network/database.sqlite"
      ],
      "metadata": {
        "colab": {
          "base_uri": "https://localhost:8080/"
        },
        "id": "Xnr4pPRJ9t8t",
        "outputId": "bb03b486-d16f-4989-ceec-675a2ca59ae6"
      },
      "execution_count": null,
      "outputs": [
        {
          "output_type": "stream",
          "name": "stdout",
          "text": [
            "Downloading the-marvel-universe-social-network.zip to ./datasets/Marvel-Social-Network\n",
            "\r  0% 0.00/2.72M [00:00<?, ?B/s]\n",
            "\r100% 2.72M/2.72M [00:00<00:00, 191MB/s]\n",
            "/bin/bash: chdir: command not found\n",
            "Archive:  ./datasets/Marvel-Social-Network/the-marvel-universe-social-network.zip\n",
            "  inflating: ./datasets/Marvel-Social-Network/edges.csv  \n",
            "  inflating: ./datasets/Marvel-Social-Network/hero-network.csv  \n",
            "  inflating: ./datasets/Marvel-Social-Network/nodes.csv  \n",
            "edges.csv  hero-network.csv  nodes.csv\tthe-marvel-universe-social-network.zip\n"
          ]
        }
      ]
    },
    {
      "cell_type": "code",
      "source": [
        "## download most significant earthshakes database\n",
        "!mkdir ./datasets/Earthshakes\n",
        "!kaggle datasets download -d usgs/earthquake-database -p ./datasets/Earthshakes\n",
        "!chdir ./datasets/Earthshakes\n",
        "!unzip ./datasets/Earthshakes/*.zip  -d ./datasets/Earthshakes\n"
      ],
      "metadata": {
        "colab": {
          "base_uri": "https://localhost:8080/"
        },
        "id": "lzslX5Ce9wSg",
        "outputId": "1eca5be4-4fac-42d4-d64c-20b21c79cf9f"
      },
      "execution_count": null,
      "outputs": [
        {
          "output_type": "stream",
          "name": "stdout",
          "text": [
            "Downloading earthquake-database.zip to ./datasets/Earthshakes\n",
            "\r  0% 0.00/590k [00:00<?, ?B/s]\n",
            "\r100% 590k/590k [00:00<00:00, 108MB/s]\n",
            "/bin/bash: chdir: command not found\n",
            "Archive:  ./datasets/Earthshakes/earthquake-database.zip\n",
            "  inflating: ./datasets/Earthshakes/database.csv  \n"
          ]
        }
      ]
    },
    {
      "cell_type": "code",
      "source": [
        "!mkdir ./datasets/FIFA\n",
        "!kaggle datasets download -d martj42/international-football-results-from-1872-to-2017 -p ./datasets/FIFA\n",
        "!chdir ./datasets/FIFA\n",
        "!unzip ./datasets/FIFA/*.zip  -d ./datasets/FIFA\n",
        "\n"
      ],
      "metadata": {
        "colab": {
          "base_uri": "https://localhost:8080/"
        },
        "id": "mCFycf3X92U7",
        "outputId": "582e0285-28e5-4fc7-82e4-92a720356338"
      },
      "execution_count": 2,
      "outputs": [
        {
          "output_type": "stream",
          "name": "stdout",
          "text": [
            "mkdir: cannot create directory ‘./datasets/FIFA’: No such file or directory\n",
            "Downloading international-football-results-from-1872-to-2017.zip to ./datasets/FIFA\n",
            "  0% 0.00/700k [00:00<?, ?B/s]\n",
            "100% 700k/700k [00:00<00:00, 82.6MB/s]\n",
            "/bin/bash: chdir: command not found\n",
            "Archive:  ./datasets/FIFA/international-football-results-from-1872-to-2017.zip\n",
            "  inflating: ./datasets/FIFA/goalscorers.csv  \n",
            "  inflating: ./datasets/FIFA/results.csv  \n",
            "  inflating: ./datasets/FIFA/shootouts.csv  \n"
          ]
        }
      ]
    },
    {
      "cell_type": "code",
      "source": [
        "import pandas as pd\n",
        "import numpy as np"
      ],
      "metadata": {
        "id": "7wgpWHpr-CPM"
      },
      "execution_count": 3,
      "outputs": []
    },
    {
      "cell_type": "markdown",
      "source": [
        "**Part 1 - Marvel Social Network**"
      ],
      "metadata": {
        "id": "7Tj66f99-H7C"
      }
    },
    {
      "cell_type": "code",
      "source": [
        "\n",
        "\n",
        "# Data Importing\n",
        "hero_df = pd.read_csv('./datasets/Marvel-Social-Network/hero-network.csv',header=0)\n",
        "edges_df = pd.read_csv('./datasets/Marvel-Social-Network/edges.csv',header=0)\n",
        "nodes_df=pd.read_csv('./datasets/Marvel-Social-Network/nodes.csv',header=0)"
      ],
      "metadata": {
        "id": "GCh435s6-N3Q"
      },
      "execution_count": null,
      "outputs": []
    },
    {
      "cell_type": "markdown",
      "source": [
        "Q1"
      ],
      "metadata": {
        "id": "YXXmTCe06lQm"
      }
    },
    {
      "cell_type": "code",
      "source": [
        "switch_df = hero_df.rename(columns={'hero1':'hero2','hero2':'hero1'})\n",
        "friend_instances = hero_df.append(switch_df).drop_duplicates()\n",
        "g = friend_instances.groupby('hero1').count()\n",
        "g1 = g[g['hero2'] == 1]\n",
        "len(g1)"
      ],
      "metadata": {
        "colab": {
          "base_uri": "https://localhost:8080/"
        },
        "id": "GhvaQ8wu6nJg",
        "outputId": "c8665687-88bd-408b-ab28-64058e6b7bca"
      },
      "execution_count": null,
      "outputs": [
        {
          "output_type": "execute_result",
          "data": {
            "text/plain": [
              "53"
            ]
          },
          "metadata": {},
          "execution_count": 9
        }
      ]
    },
    {
      "cell_type": "markdown",
      "source": [
        "Q2"
      ],
      "metadata": {
        "id": "wao6kkyo_8j_"
      }
    },
    {
      "cell_type": "code",
      "source": [
        "def find_heroes_friends(hero_name):\n",
        "  heroes_friends = set(friend_instances[friend_instances['hero1'] == hero_name]['hero2'].values)\n",
        "  return heroes_friends\n",
        "spidermans_friends = find_heroes_friends('SPIDER-MAN/PETER PAR')\n",
        "cap_friends = find_heroes_friends('CAPTAIN AMERICA')\n",
        "iron_man_friends = find_heroes_friends('IRON MAN/TONY STARK ')\n",
        "common_friends = spidermans_friends.intersection(cap_friends,iron_man_friends) ## intersection- returns a list/set that have the same people in it\n",
        "len(common_friends)\n"
      ],
      "metadata": {
        "colab": {
          "base_uri": "https://localhost:8080/"
        },
        "id": "SYH0kY9wFQLk",
        "outputId": "4f4c88db-a40b-4247-80a2-1c6dd53e1ce7"
      },
      "execution_count": null,
      "outputs": [
        {
          "output_type": "execute_result",
          "data": {
            "text/plain": [
              "700"
            ]
          },
          "metadata": {},
          "execution_count": 10
        }
      ]
    },
    {
      "cell_type": "markdown",
      "source": [
        "Q3"
      ],
      "metadata": {
        "id": "EpShg9qcAWjZ"
      }
    },
    {
      "cell_type": "code",
      "source": [
        "all_heros_df = edges_df['hero'].drop_duplicates()\n",
        "length_heros = all_heros_df.str.len()\n",
        "heros_length = pd.merge(all_heros_df,length_heros,left_index=True,right_index=True)\n",
        "longest_n = heros_length[heros_length['hero_y'] == length_heros.max()]\n",
        "shortest_n = heros_length[heros_length['hero_y'] == length_heros.min()]\n",
        "print(f'The heroes whith the shortest names are: {list(shortest_n[\"hero_x\"])}')\n",
        "print(f'The heroes whith the longest names are: {list(longest_n[\"hero_x\"])}')"
      ],
      "metadata": {
        "colab": {
          "base_uri": "https://localhost:8080/"
        },
        "id": "8m__vI70AiW7",
        "outputId": "0b3c7aea-0703-4e0d-dec9-59f7d5820d01"
      },
      "execution_count": null,
      "outputs": [
        {
          "output_type": "stream",
          "name": "stdout",
          "text": [
            "The heroes whith the shortest names are: ['A', 'M', 'P', 'Q', 'T']\n",
            "The heroes whith the longest names are: ['SPIDER-MAN/PETER PARKER']\n"
          ]
        }
      ]
    },
    {
      "cell_type": "markdown",
      "source": [
        "Q4"
      ],
      "metadata": {
        "id": "fIRr7mC5AlaN"
      }
    },
    {
      "cell_type": "code",
      "source": [
        "def heroes_friends_but_not_captains_friends(heroes_name):\n",
        "  heroes_friends = find_heroes_friends(heroes_name)\n",
        "  heroes_friends_without_captains_friends = heroes_friends.difference(cap_friends) ## difference- returns a list/set that are not in the object\n",
        "  return len(heroes_friends_without_captains_friends)\n",
        "heroes_friends_but_not_captains_friends('SPIDER-MAN/PETER PAR')"
      ],
      "metadata": {
        "colab": {
          "base_uri": "https://localhost:8080/"
        },
        "id": "5qftHkX3MVS7",
        "outputId": "01af4591-24b3-4217-cef3-a20f9f537bc7"
      },
      "execution_count": null,
      "outputs": [
        {
          "output_type": "execute_result",
          "data": {
            "text/plain": [
              "815"
            ]
          },
          "metadata": {},
          "execution_count": 12
        }
      ]
    },
    {
      "cell_type": "markdown",
      "source": [
        "Q5"
      ],
      "metadata": {
        "id": "KuFX0qLqAr-b"
      }
    },
    {
      "cell_type": "code",
      "source": [
        "spidermans_friends_ = set(hero_df[hero_df['hero1']=='SPIDER-MAN/PETER PAR'] ['hero2'].values)\n",
        "spidermans_friends_ |= set(hero_df[hero_df['hero2']== 'SPIDER-MAN/PETER PAR'] ['hero1'].values)\n",
        "\n",
        "\n",
        "\n",
        "friends_of_spideys_friends = set()\n",
        "\n",
        "for friend in spidermans_friends_:\n",
        "  friends_of_spideys_friends |= set(hero_df[hero_df['hero1'] == friend] ['hero2'].values)\n",
        "  friends_of_spideys_friends |= set(hero_df[hero_df['hero2'] == friend] ['hero1'].values)\n",
        "\n",
        "len(friends_of_spideys_friends)\n",
        "print(f\"the total number of friends of spideys friends is:{len(friends_of_spideys_friends)}\")"
      ],
      "metadata": {
        "colab": {
          "base_uri": "https://localhost:8080/"
        },
        "id": "QU6K6ogLnf3E",
        "outputId": "f5e2f8fa-9eb3-49cd-93ab-570c46334e01"
      },
      "execution_count": null,
      "outputs": [
        {
          "output_type": "stream",
          "name": "stdout",
          "text": [
            "the total number of friends of spideys friends is:6355\n"
          ]
        }
      ]
    },
    {
      "cell_type": "markdown",
      "source": [
        "**Part 2 - Earthquake**"
      ],
      "metadata": {
        "id": "HcjdoEWEBmVg"
      }
    },
    {
      "cell_type": "code",
      "source": [
        "earthquake_df = pd.read_csv('/content/datasets/Earthshakes/database.csv')\n",
        "earthquake_df"
      ],
      "metadata": {
        "colab": {
          "base_uri": "https://localhost:8080/",
          "height": 522
        },
        "id": "pm53vkkOb7IF",
        "outputId": "ca6d1990-5077-462a-a187-247703585ee7"
      },
      "execution_count": null,
      "outputs": [
        {
          "output_type": "execute_result",
          "data": {
            "text/plain": [
              "             Date      Time  Latitude  Longitude        Type   Depth  \\\n",
              "0      01/02/1965  13:44:18   19.2460   145.6160  Earthquake  131.60   \n",
              "1      01/04/1965  11:29:49    1.8630   127.3520  Earthquake   80.00   \n",
              "2      01/05/1965  18:05:58  -20.5790  -173.9720  Earthquake   20.00   \n",
              "3      01/08/1965  18:49:43  -59.0760   -23.5570  Earthquake   15.00   \n",
              "4      01/09/1965  13:32:50   11.9380   126.4270  Earthquake   15.00   \n",
              "...           ...       ...       ...        ...         ...     ...   \n",
              "23407  12/28/2016  08:22:12   38.3917  -118.8941  Earthquake   12.30   \n",
              "23408  12/28/2016  09:13:47   38.3777  -118.8957  Earthquake    8.80   \n",
              "23409  12/28/2016  12:38:51   36.9179   140.4262  Earthquake   10.00   \n",
              "23410  12/29/2016  22:30:19   -9.0283   118.6639  Earthquake   79.00   \n",
              "23411  12/30/2016  20:08:28   37.3973   141.4103  Earthquake   11.94   \n",
              "\n",
              "       Depth Error  Depth Seismic Stations  Magnitude Magnitude Type  ...  \\\n",
              "0              NaN                     NaN        6.0             MW  ...   \n",
              "1              NaN                     NaN        5.8             MW  ...   \n",
              "2              NaN                     NaN        6.2             MW  ...   \n",
              "3              NaN                     NaN        5.8             MW  ...   \n",
              "4              NaN                     NaN        5.8             MW  ...   \n",
              "...            ...                     ...        ...            ...  ...   \n",
              "23407          1.2                    40.0        5.6             ML  ...   \n",
              "23408          2.0                    33.0        5.5             ML  ...   \n",
              "23409          1.8                     NaN        5.9            MWW  ...   \n",
              "23410          1.8                     NaN        6.3            MWW  ...   \n",
              "23411          2.2                     NaN        5.5             MB  ...   \n",
              "\n",
              "       Magnitude Seismic Stations  Azimuthal Gap  Horizontal Distance  \\\n",
              "0                             NaN            NaN                  NaN   \n",
              "1                             NaN            NaN                  NaN   \n",
              "2                             NaN            NaN                  NaN   \n",
              "3                             NaN            NaN                  NaN   \n",
              "4                             NaN            NaN                  NaN   \n",
              "...                           ...            ...                  ...   \n",
              "23407                        18.0          42.47                0.120   \n",
              "23408                        18.0          48.58                0.129   \n",
              "23409                         NaN          91.00                0.992   \n",
              "23410                         NaN          26.00                3.553   \n",
              "23411                       428.0          97.00                0.681   \n",
              "\n",
              "       Horizontal Error  Root Mean Square            ID  Source  \\\n",
              "0                   NaN               NaN  ISCGEM860706  ISCGEM   \n",
              "1                   NaN               NaN  ISCGEM860737  ISCGEM   \n",
              "2                   NaN               NaN  ISCGEM860762  ISCGEM   \n",
              "3                   NaN               NaN  ISCGEM860856  ISCGEM   \n",
              "4                   NaN               NaN  ISCGEM860890  ISCGEM   \n",
              "...                 ...               ...           ...     ...   \n",
              "23407               NaN            0.1898    NN00570710      NN   \n",
              "23408               NaN            0.2187    NN00570744      NN   \n",
              "23409               4.8            1.5200    US10007NAF      US   \n",
              "23410               6.0            1.4300    US10007NL0      US   \n",
              "23411               4.5            0.9100    US10007NTD      US   \n",
              "\n",
              "      Location Source Magnitude Source     Status  \n",
              "0              ISCGEM           ISCGEM  Automatic  \n",
              "1              ISCGEM           ISCGEM  Automatic  \n",
              "2              ISCGEM           ISCGEM  Automatic  \n",
              "3              ISCGEM           ISCGEM  Automatic  \n",
              "4              ISCGEM           ISCGEM  Automatic  \n",
              "...               ...              ...        ...  \n",
              "23407              NN               NN   Reviewed  \n",
              "23408              NN               NN   Reviewed  \n",
              "23409              US               US   Reviewed  \n",
              "23410              US               US   Reviewed  \n",
              "23411              US               US   Reviewed  \n",
              "\n",
              "[23412 rows x 21 columns]"
            ],
            "text/html": [
              "\n",
              "  <div id=\"df-fbb21c9d-470b-4602-909b-89e40a1d0e68\">\n",
              "    <div class=\"colab-df-container\">\n",
              "      <div>\n",
              "<style scoped>\n",
              "    .dataframe tbody tr th:only-of-type {\n",
              "        vertical-align: middle;\n",
              "    }\n",
              "\n",
              "    .dataframe tbody tr th {\n",
              "        vertical-align: top;\n",
              "    }\n",
              "\n",
              "    .dataframe thead th {\n",
              "        text-align: right;\n",
              "    }\n",
              "</style>\n",
              "<table border=\"1\" class=\"dataframe\">\n",
              "  <thead>\n",
              "    <tr style=\"text-align: right;\">\n",
              "      <th></th>\n",
              "      <th>Date</th>\n",
              "      <th>Time</th>\n",
              "      <th>Latitude</th>\n",
              "      <th>Longitude</th>\n",
              "      <th>Type</th>\n",
              "      <th>Depth</th>\n",
              "      <th>Depth Error</th>\n",
              "      <th>Depth Seismic Stations</th>\n",
              "      <th>Magnitude</th>\n",
              "      <th>Magnitude Type</th>\n",
              "      <th>...</th>\n",
              "      <th>Magnitude Seismic Stations</th>\n",
              "      <th>Azimuthal Gap</th>\n",
              "      <th>Horizontal Distance</th>\n",
              "      <th>Horizontal Error</th>\n",
              "      <th>Root Mean Square</th>\n",
              "      <th>ID</th>\n",
              "      <th>Source</th>\n",
              "      <th>Location Source</th>\n",
              "      <th>Magnitude Source</th>\n",
              "      <th>Status</th>\n",
              "    </tr>\n",
              "  </thead>\n",
              "  <tbody>\n",
              "    <tr>\n",
              "      <th>0</th>\n",
              "      <td>01/02/1965</td>\n",
              "      <td>13:44:18</td>\n",
              "      <td>19.2460</td>\n",
              "      <td>145.6160</td>\n",
              "      <td>Earthquake</td>\n",
              "      <td>131.60</td>\n",
              "      <td>NaN</td>\n",
              "      <td>NaN</td>\n",
              "      <td>6.0</td>\n",
              "      <td>MW</td>\n",
              "      <td>...</td>\n",
              "      <td>NaN</td>\n",
              "      <td>NaN</td>\n",
              "      <td>NaN</td>\n",
              "      <td>NaN</td>\n",
              "      <td>NaN</td>\n",
              "      <td>ISCGEM860706</td>\n",
              "      <td>ISCGEM</td>\n",
              "      <td>ISCGEM</td>\n",
              "      <td>ISCGEM</td>\n",
              "      <td>Automatic</td>\n",
              "    </tr>\n",
              "    <tr>\n",
              "      <th>1</th>\n",
              "      <td>01/04/1965</td>\n",
              "      <td>11:29:49</td>\n",
              "      <td>1.8630</td>\n",
              "      <td>127.3520</td>\n",
              "      <td>Earthquake</td>\n",
              "      <td>80.00</td>\n",
              "      <td>NaN</td>\n",
              "      <td>NaN</td>\n",
              "      <td>5.8</td>\n",
              "      <td>MW</td>\n",
              "      <td>...</td>\n",
              "      <td>NaN</td>\n",
              "      <td>NaN</td>\n",
              "      <td>NaN</td>\n",
              "      <td>NaN</td>\n",
              "      <td>NaN</td>\n",
              "      <td>ISCGEM860737</td>\n",
              "      <td>ISCGEM</td>\n",
              "      <td>ISCGEM</td>\n",
              "      <td>ISCGEM</td>\n",
              "      <td>Automatic</td>\n",
              "    </tr>\n",
              "    <tr>\n",
              "      <th>2</th>\n",
              "      <td>01/05/1965</td>\n",
              "      <td>18:05:58</td>\n",
              "      <td>-20.5790</td>\n",
              "      <td>-173.9720</td>\n",
              "      <td>Earthquake</td>\n",
              "      <td>20.00</td>\n",
              "      <td>NaN</td>\n",
              "      <td>NaN</td>\n",
              "      <td>6.2</td>\n",
              "      <td>MW</td>\n",
              "      <td>...</td>\n",
              "      <td>NaN</td>\n",
              "      <td>NaN</td>\n",
              "      <td>NaN</td>\n",
              "      <td>NaN</td>\n",
              "      <td>NaN</td>\n",
              "      <td>ISCGEM860762</td>\n",
              "      <td>ISCGEM</td>\n",
              "      <td>ISCGEM</td>\n",
              "      <td>ISCGEM</td>\n",
              "      <td>Automatic</td>\n",
              "    </tr>\n",
              "    <tr>\n",
              "      <th>3</th>\n",
              "      <td>01/08/1965</td>\n",
              "      <td>18:49:43</td>\n",
              "      <td>-59.0760</td>\n",
              "      <td>-23.5570</td>\n",
              "      <td>Earthquake</td>\n",
              "      <td>15.00</td>\n",
              "      <td>NaN</td>\n",
              "      <td>NaN</td>\n",
              "      <td>5.8</td>\n",
              "      <td>MW</td>\n",
              "      <td>...</td>\n",
              "      <td>NaN</td>\n",
              "      <td>NaN</td>\n",
              "      <td>NaN</td>\n",
              "      <td>NaN</td>\n",
              "      <td>NaN</td>\n",
              "      <td>ISCGEM860856</td>\n",
              "      <td>ISCGEM</td>\n",
              "      <td>ISCGEM</td>\n",
              "      <td>ISCGEM</td>\n",
              "      <td>Automatic</td>\n",
              "    </tr>\n",
              "    <tr>\n",
              "      <th>4</th>\n",
              "      <td>01/09/1965</td>\n",
              "      <td>13:32:50</td>\n",
              "      <td>11.9380</td>\n",
              "      <td>126.4270</td>\n",
              "      <td>Earthquake</td>\n",
              "      <td>15.00</td>\n",
              "      <td>NaN</td>\n",
              "      <td>NaN</td>\n",
              "      <td>5.8</td>\n",
              "      <td>MW</td>\n",
              "      <td>...</td>\n",
              "      <td>NaN</td>\n",
              "      <td>NaN</td>\n",
              "      <td>NaN</td>\n",
              "      <td>NaN</td>\n",
              "      <td>NaN</td>\n",
              "      <td>ISCGEM860890</td>\n",
              "      <td>ISCGEM</td>\n",
              "      <td>ISCGEM</td>\n",
              "      <td>ISCGEM</td>\n",
              "      <td>Automatic</td>\n",
              "    </tr>\n",
              "    <tr>\n",
              "      <th>...</th>\n",
              "      <td>...</td>\n",
              "      <td>...</td>\n",
              "      <td>...</td>\n",
              "      <td>...</td>\n",
              "      <td>...</td>\n",
              "      <td>...</td>\n",
              "      <td>...</td>\n",
              "      <td>...</td>\n",
              "      <td>...</td>\n",
              "      <td>...</td>\n",
              "      <td>...</td>\n",
              "      <td>...</td>\n",
              "      <td>...</td>\n",
              "      <td>...</td>\n",
              "      <td>...</td>\n",
              "      <td>...</td>\n",
              "      <td>...</td>\n",
              "      <td>...</td>\n",
              "      <td>...</td>\n",
              "      <td>...</td>\n",
              "      <td>...</td>\n",
              "    </tr>\n",
              "    <tr>\n",
              "      <th>23407</th>\n",
              "      <td>12/28/2016</td>\n",
              "      <td>08:22:12</td>\n",
              "      <td>38.3917</td>\n",
              "      <td>-118.8941</td>\n",
              "      <td>Earthquake</td>\n",
              "      <td>12.30</td>\n",
              "      <td>1.2</td>\n",
              "      <td>40.0</td>\n",
              "      <td>5.6</td>\n",
              "      <td>ML</td>\n",
              "      <td>...</td>\n",
              "      <td>18.0</td>\n",
              "      <td>42.47</td>\n",
              "      <td>0.120</td>\n",
              "      <td>NaN</td>\n",
              "      <td>0.1898</td>\n",
              "      <td>NN00570710</td>\n",
              "      <td>NN</td>\n",
              "      <td>NN</td>\n",
              "      <td>NN</td>\n",
              "      <td>Reviewed</td>\n",
              "    </tr>\n",
              "    <tr>\n",
              "      <th>23408</th>\n",
              "      <td>12/28/2016</td>\n",
              "      <td>09:13:47</td>\n",
              "      <td>38.3777</td>\n",
              "      <td>-118.8957</td>\n",
              "      <td>Earthquake</td>\n",
              "      <td>8.80</td>\n",
              "      <td>2.0</td>\n",
              "      <td>33.0</td>\n",
              "      <td>5.5</td>\n",
              "      <td>ML</td>\n",
              "      <td>...</td>\n",
              "      <td>18.0</td>\n",
              "      <td>48.58</td>\n",
              "      <td>0.129</td>\n",
              "      <td>NaN</td>\n",
              "      <td>0.2187</td>\n",
              "      <td>NN00570744</td>\n",
              "      <td>NN</td>\n",
              "      <td>NN</td>\n",
              "      <td>NN</td>\n",
              "      <td>Reviewed</td>\n",
              "    </tr>\n",
              "    <tr>\n",
              "      <th>23409</th>\n",
              "      <td>12/28/2016</td>\n",
              "      <td>12:38:51</td>\n",
              "      <td>36.9179</td>\n",
              "      <td>140.4262</td>\n",
              "      <td>Earthquake</td>\n",
              "      <td>10.00</td>\n",
              "      <td>1.8</td>\n",
              "      <td>NaN</td>\n",
              "      <td>5.9</td>\n",
              "      <td>MWW</td>\n",
              "      <td>...</td>\n",
              "      <td>NaN</td>\n",
              "      <td>91.00</td>\n",
              "      <td>0.992</td>\n",
              "      <td>4.8</td>\n",
              "      <td>1.5200</td>\n",
              "      <td>US10007NAF</td>\n",
              "      <td>US</td>\n",
              "      <td>US</td>\n",
              "      <td>US</td>\n",
              "      <td>Reviewed</td>\n",
              "    </tr>\n",
              "    <tr>\n",
              "      <th>23410</th>\n",
              "      <td>12/29/2016</td>\n",
              "      <td>22:30:19</td>\n",
              "      <td>-9.0283</td>\n",
              "      <td>118.6639</td>\n",
              "      <td>Earthquake</td>\n",
              "      <td>79.00</td>\n",
              "      <td>1.8</td>\n",
              "      <td>NaN</td>\n",
              "      <td>6.3</td>\n",
              "      <td>MWW</td>\n",
              "      <td>...</td>\n",
              "      <td>NaN</td>\n",
              "      <td>26.00</td>\n",
              "      <td>3.553</td>\n",
              "      <td>6.0</td>\n",
              "      <td>1.4300</td>\n",
              "      <td>US10007NL0</td>\n",
              "      <td>US</td>\n",
              "      <td>US</td>\n",
              "      <td>US</td>\n",
              "      <td>Reviewed</td>\n",
              "    </tr>\n",
              "    <tr>\n",
              "      <th>23411</th>\n",
              "      <td>12/30/2016</td>\n",
              "      <td>20:08:28</td>\n",
              "      <td>37.3973</td>\n",
              "      <td>141.4103</td>\n",
              "      <td>Earthquake</td>\n",
              "      <td>11.94</td>\n",
              "      <td>2.2</td>\n",
              "      <td>NaN</td>\n",
              "      <td>5.5</td>\n",
              "      <td>MB</td>\n",
              "      <td>...</td>\n",
              "      <td>428.0</td>\n",
              "      <td>97.00</td>\n",
              "      <td>0.681</td>\n",
              "      <td>4.5</td>\n",
              "      <td>0.9100</td>\n",
              "      <td>US10007NTD</td>\n",
              "      <td>US</td>\n",
              "      <td>US</td>\n",
              "      <td>US</td>\n",
              "      <td>Reviewed</td>\n",
              "    </tr>\n",
              "  </tbody>\n",
              "</table>\n",
              "<p>23412 rows × 21 columns</p>\n",
              "</div>\n",
              "      <button class=\"colab-df-convert\" onclick=\"convertToInteractive('df-fbb21c9d-470b-4602-909b-89e40a1d0e68')\"\n",
              "              title=\"Convert this dataframe to an interactive table.\"\n",
              "              style=\"display:none;\">\n",
              "        \n",
              "  <svg xmlns=\"http://www.w3.org/2000/svg\" height=\"24px\"viewBox=\"0 0 24 24\"\n",
              "       width=\"24px\">\n",
              "    <path d=\"M0 0h24v24H0V0z\" fill=\"none\"/>\n",
              "    <path d=\"M18.56 5.44l.94 2.06.94-2.06 2.06-.94-2.06-.94-.94-2.06-.94 2.06-2.06.94zm-11 1L8.5 8.5l.94-2.06 2.06-.94-2.06-.94L8.5 2.5l-.94 2.06-2.06.94zm10 10l.94 2.06.94-2.06 2.06-.94-2.06-.94-.94-2.06-.94 2.06-2.06.94z\"/><path d=\"M17.41 7.96l-1.37-1.37c-.4-.4-.92-.59-1.43-.59-.52 0-1.04.2-1.43.59L10.3 9.45l-7.72 7.72c-.78.78-.78 2.05 0 2.83L4 21.41c.39.39.9.59 1.41.59.51 0 1.02-.2 1.41-.59l7.78-7.78 2.81-2.81c.8-.78.8-2.07 0-2.86zM5.41 20L4 18.59l7.72-7.72 1.47 1.35L5.41 20z\"/>\n",
              "  </svg>\n",
              "      </button>\n",
              "      \n",
              "  <style>\n",
              "    .colab-df-container {\n",
              "      display:flex;\n",
              "      flex-wrap:wrap;\n",
              "      gap: 12px;\n",
              "    }\n",
              "\n",
              "    .colab-df-convert {\n",
              "      background-color: #E8F0FE;\n",
              "      border: none;\n",
              "      border-radius: 50%;\n",
              "      cursor: pointer;\n",
              "      display: none;\n",
              "      fill: #1967D2;\n",
              "      height: 32px;\n",
              "      padding: 0 0 0 0;\n",
              "      width: 32px;\n",
              "    }\n",
              "\n",
              "    .colab-df-convert:hover {\n",
              "      background-color: #E2EBFA;\n",
              "      box-shadow: 0px 1px 2px rgba(60, 64, 67, 0.3), 0px 1px 3px 1px rgba(60, 64, 67, 0.15);\n",
              "      fill: #174EA6;\n",
              "    }\n",
              "\n",
              "    [theme=dark] .colab-df-convert {\n",
              "      background-color: #3B4455;\n",
              "      fill: #D2E3FC;\n",
              "    }\n",
              "\n",
              "    [theme=dark] .colab-df-convert:hover {\n",
              "      background-color: #434B5C;\n",
              "      box-shadow: 0px 1px 3px 1px rgba(0, 0, 0, 0.15);\n",
              "      filter: drop-shadow(0px 1px 2px rgba(0, 0, 0, 0.3));\n",
              "      fill: #FFFFFF;\n",
              "    }\n",
              "  </style>\n",
              "\n",
              "      <script>\n",
              "        const buttonEl =\n",
              "          document.querySelector('#df-fbb21c9d-470b-4602-909b-89e40a1d0e68 button.colab-df-convert');\n",
              "        buttonEl.style.display =\n",
              "          google.colab.kernel.accessAllowed ? 'block' : 'none';\n",
              "\n",
              "        async function convertToInteractive(key) {\n",
              "          const element = document.querySelector('#df-fbb21c9d-470b-4602-909b-89e40a1d0e68');\n",
              "          const dataTable =\n",
              "            await google.colab.kernel.invokeFunction('convertToInteractive',\n",
              "                                                     [key], {});\n",
              "          if (!dataTable) return;\n",
              "\n",
              "          const docLinkHtml = 'Like what you see? Visit the ' +\n",
              "            '<a target=\"_blank\" href=https://colab.research.google.com/notebooks/data_table.ipynb>data table notebook</a>'\n",
              "            + ' to learn more about interactive tables.';\n",
              "          element.innerHTML = '';\n",
              "          dataTable['output_type'] = 'display_data';\n",
              "          await google.colab.output.renderOutput(dataTable, element);\n",
              "          const docLink = document.createElement('div');\n",
              "          docLink.innerHTML = docLinkHtml;\n",
              "          element.appendChild(docLink);\n",
              "        }\n",
              "      </script>\n",
              "    </div>\n",
              "  </div>\n",
              "  "
            ]
          },
          "metadata": {},
          "execution_count": 14
        }
      ]
    },
    {
      "cell_type": "markdown",
      "source": [
        "Q1"
      ],
      "metadata": {
        "id": "SIGrufIuBscd"
      }
    },
    {
      "cell_type": "code",
      "source": [
        "highest_magnitude = earthquake_df[earthquake_df['Magnitude']==earthquake_df['Magnitude'].max()]\n",
        "highest_magnitude"
      ],
      "metadata": {
        "id": "ZCnmOcXTBthD",
        "colab": {
          "base_uri": "https://localhost:8080/",
          "height": 240
        },
        "outputId": "0a92fc76-030a-4d41-ecbe-9f1156ca5db4"
      },
      "execution_count": null,
      "outputs": [
        {
          "output_type": "execute_result",
          "data": {
            "text/plain": [
              "             Date      Time  Latitude  Longitude        Type  Depth  \\\n",
              "17083  12/26/2004  00:58:53     3.295     95.982  Earthquake   30.0   \n",
              "20501  03/11/2011  05:46:24    38.297    142.373  Earthquake   29.0   \n",
              "\n",
              "       Depth Error  Depth Seismic Stations  Magnitude Magnitude Type  ...  \\\n",
              "17083          NaN                   601.0        9.1             MW  ...   \n",
              "20501          NaN                   541.0        9.1            MWW  ...   \n",
              "\n",
              "       Magnitude Seismic Stations  Azimuthal Gap  Horizontal Distance  \\\n",
              "17083                         NaN           22.0                  NaN   \n",
              "20501                         NaN            9.5                  NaN   \n",
              "\n",
              "       Horizontal Error  Root Mean Square                            ID  \\\n",
              "17083               NaN              1.17  OFFICIAL20041226005853450_30   \n",
              "20501               NaN              1.16  OFFICIAL20110311054624120_30   \n",
              "\n",
              "         Source Location Source Magnitude Source    Status  \n",
              "17083  OFFICIAL              US         OFFICIAL  Reviewed  \n",
              "20501  OFFICIAL              US         OFFICIAL  Reviewed  \n",
              "\n",
              "[2 rows x 21 columns]"
            ],
            "text/html": [
              "\n",
              "  <div id=\"df-fb453702-3946-4d1b-88a4-7be002f0d59b\">\n",
              "    <div class=\"colab-df-container\">\n",
              "      <div>\n",
              "<style scoped>\n",
              "    .dataframe tbody tr th:only-of-type {\n",
              "        vertical-align: middle;\n",
              "    }\n",
              "\n",
              "    .dataframe tbody tr th {\n",
              "        vertical-align: top;\n",
              "    }\n",
              "\n",
              "    .dataframe thead th {\n",
              "        text-align: right;\n",
              "    }\n",
              "</style>\n",
              "<table border=\"1\" class=\"dataframe\">\n",
              "  <thead>\n",
              "    <tr style=\"text-align: right;\">\n",
              "      <th></th>\n",
              "      <th>Date</th>\n",
              "      <th>Time</th>\n",
              "      <th>Latitude</th>\n",
              "      <th>Longitude</th>\n",
              "      <th>Type</th>\n",
              "      <th>Depth</th>\n",
              "      <th>Depth Error</th>\n",
              "      <th>Depth Seismic Stations</th>\n",
              "      <th>Magnitude</th>\n",
              "      <th>Magnitude Type</th>\n",
              "      <th>...</th>\n",
              "      <th>Magnitude Seismic Stations</th>\n",
              "      <th>Azimuthal Gap</th>\n",
              "      <th>Horizontal Distance</th>\n",
              "      <th>Horizontal Error</th>\n",
              "      <th>Root Mean Square</th>\n",
              "      <th>ID</th>\n",
              "      <th>Source</th>\n",
              "      <th>Location Source</th>\n",
              "      <th>Magnitude Source</th>\n",
              "      <th>Status</th>\n",
              "    </tr>\n",
              "  </thead>\n",
              "  <tbody>\n",
              "    <tr>\n",
              "      <th>17083</th>\n",
              "      <td>12/26/2004</td>\n",
              "      <td>00:58:53</td>\n",
              "      <td>3.295</td>\n",
              "      <td>95.982</td>\n",
              "      <td>Earthquake</td>\n",
              "      <td>30.0</td>\n",
              "      <td>NaN</td>\n",
              "      <td>601.0</td>\n",
              "      <td>9.1</td>\n",
              "      <td>MW</td>\n",
              "      <td>...</td>\n",
              "      <td>NaN</td>\n",
              "      <td>22.0</td>\n",
              "      <td>NaN</td>\n",
              "      <td>NaN</td>\n",
              "      <td>1.17</td>\n",
              "      <td>OFFICIAL20041226005853450_30</td>\n",
              "      <td>OFFICIAL</td>\n",
              "      <td>US</td>\n",
              "      <td>OFFICIAL</td>\n",
              "      <td>Reviewed</td>\n",
              "    </tr>\n",
              "    <tr>\n",
              "      <th>20501</th>\n",
              "      <td>03/11/2011</td>\n",
              "      <td>05:46:24</td>\n",
              "      <td>38.297</td>\n",
              "      <td>142.373</td>\n",
              "      <td>Earthquake</td>\n",
              "      <td>29.0</td>\n",
              "      <td>NaN</td>\n",
              "      <td>541.0</td>\n",
              "      <td>9.1</td>\n",
              "      <td>MWW</td>\n",
              "      <td>...</td>\n",
              "      <td>NaN</td>\n",
              "      <td>9.5</td>\n",
              "      <td>NaN</td>\n",
              "      <td>NaN</td>\n",
              "      <td>1.16</td>\n",
              "      <td>OFFICIAL20110311054624120_30</td>\n",
              "      <td>OFFICIAL</td>\n",
              "      <td>US</td>\n",
              "      <td>OFFICIAL</td>\n",
              "      <td>Reviewed</td>\n",
              "    </tr>\n",
              "  </tbody>\n",
              "</table>\n",
              "<p>2 rows × 21 columns</p>\n",
              "</div>\n",
              "      <button class=\"colab-df-convert\" onclick=\"convertToInteractive('df-fb453702-3946-4d1b-88a4-7be002f0d59b')\"\n",
              "              title=\"Convert this dataframe to an interactive table.\"\n",
              "              style=\"display:none;\">\n",
              "        \n",
              "  <svg xmlns=\"http://www.w3.org/2000/svg\" height=\"24px\"viewBox=\"0 0 24 24\"\n",
              "       width=\"24px\">\n",
              "    <path d=\"M0 0h24v24H0V0z\" fill=\"none\"/>\n",
              "    <path d=\"M18.56 5.44l.94 2.06.94-2.06 2.06-.94-2.06-.94-.94-2.06-.94 2.06-2.06.94zm-11 1L8.5 8.5l.94-2.06 2.06-.94-2.06-.94L8.5 2.5l-.94 2.06-2.06.94zm10 10l.94 2.06.94-2.06 2.06-.94-2.06-.94-.94-2.06-.94 2.06-2.06.94z\"/><path d=\"M17.41 7.96l-1.37-1.37c-.4-.4-.92-.59-1.43-.59-.52 0-1.04.2-1.43.59L10.3 9.45l-7.72 7.72c-.78.78-.78 2.05 0 2.83L4 21.41c.39.39.9.59 1.41.59.51 0 1.02-.2 1.41-.59l7.78-7.78 2.81-2.81c.8-.78.8-2.07 0-2.86zM5.41 20L4 18.59l7.72-7.72 1.47 1.35L5.41 20z\"/>\n",
              "  </svg>\n",
              "      </button>\n",
              "      \n",
              "  <style>\n",
              "    .colab-df-container {\n",
              "      display:flex;\n",
              "      flex-wrap:wrap;\n",
              "      gap: 12px;\n",
              "    }\n",
              "\n",
              "    .colab-df-convert {\n",
              "      background-color: #E8F0FE;\n",
              "      border: none;\n",
              "      border-radius: 50%;\n",
              "      cursor: pointer;\n",
              "      display: none;\n",
              "      fill: #1967D2;\n",
              "      height: 32px;\n",
              "      padding: 0 0 0 0;\n",
              "      width: 32px;\n",
              "    }\n",
              "\n",
              "    .colab-df-convert:hover {\n",
              "      background-color: #E2EBFA;\n",
              "      box-shadow: 0px 1px 2px rgba(60, 64, 67, 0.3), 0px 1px 3px 1px rgba(60, 64, 67, 0.15);\n",
              "      fill: #174EA6;\n",
              "    }\n",
              "\n",
              "    [theme=dark] .colab-df-convert {\n",
              "      background-color: #3B4455;\n",
              "      fill: #D2E3FC;\n",
              "    }\n",
              "\n",
              "    [theme=dark] .colab-df-convert:hover {\n",
              "      background-color: #434B5C;\n",
              "      box-shadow: 0px 1px 3px 1px rgba(0, 0, 0, 0.15);\n",
              "      filter: drop-shadow(0px 1px 2px rgba(0, 0, 0, 0.3));\n",
              "      fill: #FFFFFF;\n",
              "    }\n",
              "  </style>\n",
              "\n",
              "      <script>\n",
              "        const buttonEl =\n",
              "          document.querySelector('#df-fb453702-3946-4d1b-88a4-7be002f0d59b button.colab-df-convert');\n",
              "        buttonEl.style.display =\n",
              "          google.colab.kernel.accessAllowed ? 'block' : 'none';\n",
              "\n",
              "        async function convertToInteractive(key) {\n",
              "          const element = document.querySelector('#df-fb453702-3946-4d1b-88a4-7be002f0d59b');\n",
              "          const dataTable =\n",
              "            await google.colab.kernel.invokeFunction('convertToInteractive',\n",
              "                                                     [key], {});\n",
              "          if (!dataTable) return;\n",
              "\n",
              "          const docLinkHtml = 'Like what you see? Visit the ' +\n",
              "            '<a target=\"_blank\" href=https://colab.research.google.com/notebooks/data_table.ipynb>data table notebook</a>'\n",
              "            + ' to learn more about interactive tables.';\n",
              "          element.innerHTML = '';\n",
              "          dataTable['output_type'] = 'display_data';\n",
              "          await google.colab.output.renderOutput(dataTable, element);\n",
              "          const docLink = document.createElement('div');\n",
              "          docLink.innerHTML = docLinkHtml;\n",
              "          element.appendChild(docLink);\n",
              "        }\n",
              "      </script>\n",
              "    </div>\n",
              "  </div>\n",
              "  "
            ]
          },
          "metadata": {},
          "execution_count": 15
        }
      ]
    },
    {
      "cell_type": "markdown",
      "source": [
        "Q2"
      ],
      "metadata": {
        "id": "nvl__2YSBxbp"
      }
    },
    {
      "cell_type": "code",
      "source": [
        "median_magnitude_nuc = earthquake_df[earthquake_df['Type']=='Nuclear Explosion'] ['Magnitude'].median()\n",
        "print(f'the median magnitude caused by nuclear explosion is {median_magnitude_nuc}')"
      ],
      "metadata": {
        "id": "FJHOuMFfByiW",
        "colab": {
          "base_uri": "https://localhost:8080/"
        },
        "outputId": "586e1f6c-97ed-43ef-d817-bde59e3069c9"
      },
      "execution_count": null,
      "outputs": [
        {
          "output_type": "stream",
          "name": "stdout",
          "text": [
            "the median magnitude caused by nuclear explosion is 5.9\n"
          ]
        }
      ]
    },
    {
      "cell_type": "markdown",
      "source": [
        "Q3"
      ],
      "metadata": {
        "id": "H55WyauvByvX"
      }
    },
    {
      "cell_type": "code",
      "source": [
        "def max_number_earthquakes_by_year(number_magnitude,earthquake_df):\n",
        "  earthquake_df['year'] = earthquake_df['Date'].str.slice(start=6)\n",
        "  earthquake_df = earthquake_df[earthquake_df['Magnitude']>number_magnitude] [['year','Magnitude']]\n",
        "  group_year = earthquake_df.groupby(['year'],as_index=False).count()\n",
        "  year_with_max_earthquakes = group_year[group_year['Magnitude']==group_year['Magnitude'].max()] \n",
        "  return year_with_max_earthquakes['year'].values\n",
        "print(f'the year with the most earthquakes above magnitude 5: {max_number_earthquakes_by_year(5,earthquake_df)}')\n",
        "print(f'the years with the most earthquakes above magnitude 8: {max_number_earthquakes_by_year(8,earthquake_df)}')"
      ],
      "metadata": {
        "id": "gX8aqAQHBznR",
        "colab": {
          "base_uri": "https://localhost:8080/"
        },
        "outputId": "17abf6e9-a72e-4a22-e5e2-249566de8ccf"
      },
      "execution_count": null,
      "outputs": [
        {
          "output_type": "stream",
          "name": "stdout",
          "text": [
            "the year with the most earthquakes above magnitude 5: ['2011']\n",
            "the years with the most earthquakes above magnitude 8: ['2007']\n"
          ]
        }
      ]
    },
    {
      "cell_type": "markdown",
      "source": [
        "Q4"
      ],
      "metadata": {
        "id": "TmSdapKuBz08"
      }
    },
    {
      "cell_type": "code",
      "source": [
        "earthquake_df['hour'] = earthquake_df['Time'].str[:2]\n",
        "most_dangerous_hour = earthquake_df['hour'].mode().values ## mode- finds the most common value from series (numpy array)\n",
        "print(f'the most dangerous hour is: {int(most_dangerous_hour)}:00-{int(most_dangerous_hour)+1}:00')"
      ],
      "metadata": {
        "id": "H-400h_EB01j",
        "colab": {
          "base_uri": "https://localhost:8080/"
        },
        "outputId": "35c2a8e7-4372-423a-ad8f-e8feb58837b8"
      },
      "execution_count": null,
      "outputs": [
        {
          "output_type": "stream",
          "name": "stdout",
          "text": [
            "the most dangerous hour is: 13:00-14:00\n"
          ]
        }
      ]
    },
    {
      "cell_type": "markdown",
      "source": [
        "**Part 3 - Fifa 19**"
      ],
      "metadata": {
        "id": "NLmaXOLSB1lY"
      }
    },
    {
      "cell_type": "code",
      "source": [
        "goalscorers_df = pd.read_csv('/content/datasets/FIFA/goalscorers.csv')\n",
        "results_df = pd.read_csv('/content/datasets/FIFA/results.csv')\n",
        "shootouts_df = pd.read_csv('/content/datasets/FIFA/shootouts.csv')"
      ],
      "metadata": {
        "id": "QdrB0CALwcVW"
      },
      "execution_count": 4,
      "outputs": []
    },
    {
      "cell_type": "code",
      "source": [
        "results_df.head()"
      ],
      "metadata": {
        "id": "R9UAgtTvHiSw",
        "outputId": "d7d21a58-9492-4ea4-ea66-6fb3ca3d4af3",
        "colab": {
          "base_uri": "https://localhost:8080/",
          "height": 206
        }
      },
      "execution_count": 5,
      "outputs": [
        {
          "output_type": "execute_result",
          "data": {
            "text/plain": [
              "         date home_team away_team  home_score  away_score tournament     city  \\\n",
              "0  1872-11-30  Scotland   England         0.0         0.0   Friendly  Glasgow   \n",
              "1  1873-03-08   England  Scotland         4.0         2.0   Friendly   London   \n",
              "2  1874-03-07  Scotland   England         2.0         1.0   Friendly  Glasgow   \n",
              "3  1875-03-06   England  Scotland         2.0         2.0   Friendly   London   \n",
              "4  1876-03-04  Scotland   England         3.0         0.0   Friendly  Glasgow   \n",
              "\n",
              "    country  neutral  \n",
              "0  Scotland    False  \n",
              "1   England    False  \n",
              "2  Scotland    False  \n",
              "3   England    False  \n",
              "4  Scotland    False  "
            ],
            "text/html": [
              "\n",
              "  <div id=\"df-bccc9639-c240-4f9f-a343-3f6cb1a9e7a9\">\n",
              "    <div class=\"colab-df-container\">\n",
              "      <div>\n",
              "<style scoped>\n",
              "    .dataframe tbody tr th:only-of-type {\n",
              "        vertical-align: middle;\n",
              "    }\n",
              "\n",
              "    .dataframe tbody tr th {\n",
              "        vertical-align: top;\n",
              "    }\n",
              "\n",
              "    .dataframe thead th {\n",
              "        text-align: right;\n",
              "    }\n",
              "</style>\n",
              "<table border=\"1\" class=\"dataframe\">\n",
              "  <thead>\n",
              "    <tr style=\"text-align: right;\">\n",
              "      <th></th>\n",
              "      <th>date</th>\n",
              "      <th>home_team</th>\n",
              "      <th>away_team</th>\n",
              "      <th>home_score</th>\n",
              "      <th>away_score</th>\n",
              "      <th>tournament</th>\n",
              "      <th>city</th>\n",
              "      <th>country</th>\n",
              "      <th>neutral</th>\n",
              "    </tr>\n",
              "  </thead>\n",
              "  <tbody>\n",
              "    <tr>\n",
              "      <th>0</th>\n",
              "      <td>1872-11-30</td>\n",
              "      <td>Scotland</td>\n",
              "      <td>England</td>\n",
              "      <td>0.0</td>\n",
              "      <td>0.0</td>\n",
              "      <td>Friendly</td>\n",
              "      <td>Glasgow</td>\n",
              "      <td>Scotland</td>\n",
              "      <td>False</td>\n",
              "    </tr>\n",
              "    <tr>\n",
              "      <th>1</th>\n",
              "      <td>1873-03-08</td>\n",
              "      <td>England</td>\n",
              "      <td>Scotland</td>\n",
              "      <td>4.0</td>\n",
              "      <td>2.0</td>\n",
              "      <td>Friendly</td>\n",
              "      <td>London</td>\n",
              "      <td>England</td>\n",
              "      <td>False</td>\n",
              "    </tr>\n",
              "    <tr>\n",
              "      <th>2</th>\n",
              "      <td>1874-03-07</td>\n",
              "      <td>Scotland</td>\n",
              "      <td>England</td>\n",
              "      <td>2.0</td>\n",
              "      <td>1.0</td>\n",
              "      <td>Friendly</td>\n",
              "      <td>Glasgow</td>\n",
              "      <td>Scotland</td>\n",
              "      <td>False</td>\n",
              "    </tr>\n",
              "    <tr>\n",
              "      <th>3</th>\n",
              "      <td>1875-03-06</td>\n",
              "      <td>England</td>\n",
              "      <td>Scotland</td>\n",
              "      <td>2.0</td>\n",
              "      <td>2.0</td>\n",
              "      <td>Friendly</td>\n",
              "      <td>London</td>\n",
              "      <td>England</td>\n",
              "      <td>False</td>\n",
              "    </tr>\n",
              "    <tr>\n",
              "      <th>4</th>\n",
              "      <td>1876-03-04</td>\n",
              "      <td>Scotland</td>\n",
              "      <td>England</td>\n",
              "      <td>3.0</td>\n",
              "      <td>0.0</td>\n",
              "      <td>Friendly</td>\n",
              "      <td>Glasgow</td>\n",
              "      <td>Scotland</td>\n",
              "      <td>False</td>\n",
              "    </tr>\n",
              "  </tbody>\n",
              "</table>\n",
              "</div>\n",
              "      <button class=\"colab-df-convert\" onclick=\"convertToInteractive('df-bccc9639-c240-4f9f-a343-3f6cb1a9e7a9')\"\n",
              "              title=\"Convert this dataframe to an interactive table.\"\n",
              "              style=\"display:none;\">\n",
              "        \n",
              "  <svg xmlns=\"http://www.w3.org/2000/svg\" height=\"24px\"viewBox=\"0 0 24 24\"\n",
              "       width=\"24px\">\n",
              "    <path d=\"M0 0h24v24H0V0z\" fill=\"none\"/>\n",
              "    <path d=\"M18.56 5.44l.94 2.06.94-2.06 2.06-.94-2.06-.94-.94-2.06-.94 2.06-2.06.94zm-11 1L8.5 8.5l.94-2.06 2.06-.94-2.06-.94L8.5 2.5l-.94 2.06-2.06.94zm10 10l.94 2.06.94-2.06 2.06-.94-2.06-.94-.94-2.06-.94 2.06-2.06.94z\"/><path d=\"M17.41 7.96l-1.37-1.37c-.4-.4-.92-.59-1.43-.59-.52 0-1.04.2-1.43.59L10.3 9.45l-7.72 7.72c-.78.78-.78 2.05 0 2.83L4 21.41c.39.39.9.59 1.41.59.51 0 1.02-.2 1.41-.59l7.78-7.78 2.81-2.81c.8-.78.8-2.07 0-2.86zM5.41 20L4 18.59l7.72-7.72 1.47 1.35L5.41 20z\"/>\n",
              "  </svg>\n",
              "      </button>\n",
              "      \n",
              "  <style>\n",
              "    .colab-df-container {\n",
              "      display:flex;\n",
              "      flex-wrap:wrap;\n",
              "      gap: 12px;\n",
              "    }\n",
              "\n",
              "    .colab-df-convert {\n",
              "      background-color: #E8F0FE;\n",
              "      border: none;\n",
              "      border-radius: 50%;\n",
              "      cursor: pointer;\n",
              "      display: none;\n",
              "      fill: #1967D2;\n",
              "      height: 32px;\n",
              "      padding: 0 0 0 0;\n",
              "      width: 32px;\n",
              "    }\n",
              "\n",
              "    .colab-df-convert:hover {\n",
              "      background-color: #E2EBFA;\n",
              "      box-shadow: 0px 1px 2px rgba(60, 64, 67, 0.3), 0px 1px 3px 1px rgba(60, 64, 67, 0.15);\n",
              "      fill: #174EA6;\n",
              "    }\n",
              "\n",
              "    [theme=dark] .colab-df-convert {\n",
              "      background-color: #3B4455;\n",
              "      fill: #D2E3FC;\n",
              "    }\n",
              "\n",
              "    [theme=dark] .colab-df-convert:hover {\n",
              "      background-color: #434B5C;\n",
              "      box-shadow: 0px 1px 3px 1px rgba(0, 0, 0, 0.15);\n",
              "      filter: drop-shadow(0px 1px 2px rgba(0, 0, 0, 0.3));\n",
              "      fill: #FFFFFF;\n",
              "    }\n",
              "  </style>\n",
              "\n",
              "      <script>\n",
              "        const buttonEl =\n",
              "          document.querySelector('#df-bccc9639-c240-4f9f-a343-3f6cb1a9e7a9 button.colab-df-convert');\n",
              "        buttonEl.style.display =\n",
              "          google.colab.kernel.accessAllowed ? 'block' : 'none';\n",
              "\n",
              "        async function convertToInteractive(key) {\n",
              "          const element = document.querySelector('#df-bccc9639-c240-4f9f-a343-3f6cb1a9e7a9');\n",
              "          const dataTable =\n",
              "            await google.colab.kernel.invokeFunction('convertToInteractive',\n",
              "                                                     [key], {});\n",
              "          if (!dataTable) return;\n",
              "\n",
              "          const docLinkHtml = 'Like what you see? Visit the ' +\n",
              "            '<a target=\"_blank\" href=https://colab.research.google.com/notebooks/data_table.ipynb>data table notebook</a>'\n",
              "            + ' to learn more about interactive tables.';\n",
              "          element.innerHTML = '';\n",
              "          dataTable['output_type'] = 'display_data';\n",
              "          await google.colab.output.renderOutput(dataTable, element);\n",
              "          const docLink = document.createElement('div');\n",
              "          docLink.innerHTML = docLinkHtml;\n",
              "          element.appendChild(docLink);\n",
              "        }\n",
              "      </script>\n",
              "    </div>\n",
              "  </div>\n",
              "  "
            ]
          },
          "metadata": {},
          "execution_count": 5
        }
      ]
    },
    {
      "cell_type": "markdown",
      "source": [
        "Q1"
      ],
      "metadata": {
        "id": "WtkJqWcTB6Bo"
      }
    },
    {
      "cell_type": "code",
      "source": [
        "def get_weak_team(team_name):\n",
        "  results_wanted_away_team_df = results_df[results_df['away_team'] == team_name]\n",
        "  g_home_away = results_wanted_away_team_df.groupby('home_team',as_index=False).sum()\n",
        "  highest_away_score = g_home_away[g_home_away['away_score']==g_home_away['away_score'].max()]\n",
        "  highest_away_score = highest_away_score.sort_values(by = ['home_team']).iloc[0]\n",
        "  return highest_away_score['home_team']\n",
        "print(f\"the weekest team against Italy's team is: {get_weak_team('Italy')}\")\n",
        "print(f\"the weekest team against Israel's team is: {get_weak_team('Israel')}\")\n",
        "print(f\"the weekest team against Argentina's team is: {get_weak_team('Argentina')}\")"
      ],
      "metadata": {
        "id": "rlFi3GvmB6sG",
        "colab": {
          "base_uri": "https://localhost:8080/"
        },
        "outputId": "9d4412ef-93ec-4a8d-d0bc-8f25244760ca"
      },
      "execution_count": 7,
      "outputs": [
        {
          "output_type": "stream",
          "name": "stdout",
          "text": [
            "the weekest team against Italy's team is: Switzerland\n",
            "the weekest team against Israel's team is: Luxembourg\n",
            "the weekest team against Argentina's team is: Uruguay\n"
          ]
        }
      ]
    },
    {
      "cell_type": "markdown",
      "source": [
        "Q2"
      ],
      "metadata": {
        "id": "7FIRYNi7B63o"
      }
    },
    {
      "cell_type": "code",
      "source": [
        "def get_score_dates(team1,team2):\n",
        "  result_team1_team2_df = results_df[results_df['home_team'].isin([team1,team2])]\n",
        "  result_team1_team2_df = result_team1_team2_df[result_team1_team2_df['away_team'].isin([team1,team2])]\n",
        "  if len(result_team1_team2_df) == 0:\n",
        "    return '2022-21-11','2022-21-11'\n",
        "  result_team1_team2_df['total_score'] = result_team1_team2_df['away_score'].values + result_team1_team2_df['home_score'].values\n",
        "  max_score_date = result_team1_team2_df[result_team1_team2_df['total_score']==result_team1_team2_df['total_score'].max()] ['date']\n",
        "  max_score_date = max_score_date.sort_values().iloc[-1]\n",
        "  min_score_date = result_team1_team2_df[result_team1_team2_df['total_score']==result_team1_team2_df['total_score'].min()] ['date']\n",
        "  min_score_date = min_score_date.sort_values().iloc[-1]\n",
        "  return max_score_date , min_score_date\n",
        "print(f\"Argenrina-Brazil: dates of games with highest score: {get_score_dates('Argentina','Brazil')[0]},\\ndates of games with lowest scores: {get_score_dates('Argentina','Brazil')[1]} \")\n",
        "print(f\"Cameroon-England: dates of games with highest score: {get_score_dates('Cameroon','England')[0]},\\ndates of games with lowest scores: {get_score_dates('Cameroon','England')[1]} \")\n",
        "print(f\"Israel-Iran: dates of games with highest score: {get_score_dates('Israel','Iran')[0]},\\ndates of games with lowest scores: {get_score_dates('Israel','Iran')[1]} \")"
      ],
      "metadata": {
        "id": "jS0jqgmGB7fB",
        "colab": {
          "base_uri": "https://localhost:8080/"
        },
        "outputId": "971aee8a-4cc5-4aab-9276-012cbb6c9cea"
      },
      "execution_count": 13,
      "outputs": [
        {
          "output_type": "stream",
          "name": "stdout",
          "text": [
            "Argenrina-Brazil: dates of games with highest score: 1945-12-20,\n",
            "dates of games with lowest scores: 2021-11-16 \n",
            "Cameroon-England: dates of games with highest score: 1990-07-01,\n",
            "dates of games with lowest scores: 1997-11-15 \n",
            "Israel-Iran: dates of games with highest score: 1968-05-19,\n",
            "dates of games with lowest scores: 1959-12-12 \n"
          ]
        }
      ]
    },
    {
      "cell_type": "markdown",
      "source": [
        "Q3"
      ],
      "metadata": {
        "id": "26hFlTDWxBj4"
      }
    },
    {
      "cell_type": "code",
      "source": [
        "new_results_df = results_df\n",
        "new_results_df['total_score'] = results_df[['home_score','away_score']].sum(axis=1)\n",
        "g_tournament = new_results_df.groupby('tournament',as_index=False).mean()\n",
        "highest_average_score_tour = g_tournament[g_tournament['total_score']==g_tournament['total_score'].max()] ['tournament'].values\n",
        "lowest_average_score_tour = g_tournament[g_tournament['total_score']==g_tournament['total_score'].min()] ['tournament'].values\n",
        "print(f\"the tournament with the highest average score is: {highest_average_score_tour}\")\n",
        "print(f\"the tournament with the lowest average score is: {lowest_average_score_tour}\")"
      ],
      "metadata": {
        "colab": {
          "base_uri": "https://localhost:8080/"
        },
        "id": "BnDMnB6_xCTd",
        "outputId": "6826051a-7b5d-4501-b98d-e599df3c8ad2"
      },
      "execution_count": null,
      "outputs": [
        {
          "output_type": "stream",
          "name": "stdout",
          "text": [
            "the tournament with the highest average score is: ['Pacific Games']\n",
            "the tournament with the lowest average score is: ['FIFA 75th Anniversary Cup']\n"
          ]
        }
      ]
    }
  ]
}