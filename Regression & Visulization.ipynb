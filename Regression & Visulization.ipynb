{
  "nbformat": 4,
  "nbformat_minor": 0,
  "metadata": {
    "colab": {
      "provenance": []
    },
    "kernelspec": {
      "name": "python3",
      "display_name": "Python 3"
    },
    "language_info": {
      "name": "python"
    }
  },
  "cells": [
    {
      "cell_type": "markdown",
      "source": [
        "Work7_linear_regression"
      ],
      "metadata": {
        "id": "EslrJiqfULEF"
      }
    },
    {
      "cell_type": "code",
      "execution_count": 1,
      "metadata": {
        "colab": {
          "base_uri": "https://localhost:8080/"
        },
        "id": "Ds2O3skOTzEo",
        "outputId": "10656300-69a1-4391-b30e-72fca01494c9"
      },
      "outputs": [
        {
          "output_type": "stream",
          "name": "stdout",
          "text": [
            "Looking in indexes: https://pypi.org/simple, https://us-python.pkg.dev/colab-wheels/public/simple/\n",
            "Requirement already satisfied: kaggle in /usr/local/lib/python3.8/dist-packages (1.5.12)\n",
            "Requirement already satisfied: tqdm in /usr/local/lib/python3.8/dist-packages (from kaggle) (4.64.1)\n",
            "Requirement already satisfied: python-dateutil in /usr/local/lib/python3.8/dist-packages (from kaggle) (2.8.2)\n",
            "Requirement already satisfied: urllib3 in /usr/local/lib/python3.8/dist-packages (from kaggle) (1.24.3)\n",
            "Requirement already satisfied: requests in /usr/local/lib/python3.8/dist-packages (from kaggle) (2.23.0)\n",
            "Requirement already satisfied: six>=1.10 in /usr/local/lib/python3.8/dist-packages (from kaggle) (1.15.0)\n",
            "Requirement already satisfied: python-slugify in /usr/local/lib/python3.8/dist-packages (from kaggle) (7.0.0)\n",
            "Requirement already satisfied: certifi in /usr/local/lib/python3.8/dist-packages (from kaggle) (2022.12.7)\n",
            "Requirement already satisfied: text-unidecode>=1.3 in /usr/local/lib/python3.8/dist-packages (from python-slugify->kaggle) (1.3)\n",
            "Requirement already satisfied: chardet<4,>=3.0.2 in /usr/local/lib/python3.8/dist-packages (from requests->kaggle) (3.0.4)\n",
            "Requirement already satisfied: idna<3,>=2.5 in /usr/local/lib/python3.8/dist-packages (from requests->kaggle) (2.10)\n"
          ]
        }
      ],
      "source": [
        "import json\n",
        "import os\n",
        "\n",
        "# Installing the Kaggle package\n",
        "!pip install kaggle \n",
        "\n",
        "!mkdir /root/.kaggle/ \n",
        "\n",
        "#Important Note: complete this with your own key - after running this for the first time remmember to **remove** your API_KEY\n",
        "api_token = {\"username\":\"avielbbaz\",\"key\":\"b9e35e8b71e0611fbd90b49b45fde304\"}\n",
        "\n",
        "\n",
        "# creating kaggle.json file with the personal API-Key details \n",
        "# You can also put this file on your Google Drive\n",
        "with open('/root/.kaggle/kaggle.json', 'w') as file:\n",
        "  json.dump(api_token, file)\n",
        "!chmod 600 /root/.kaggle/kaggle.json"
      ]
    },
    {
      "cell_type": "code",
      "source": [
        "import pandas as pd\n",
        "import numpy as np\n",
        "import matplotlib.pyplot as plt\n",
        "%matplotlib inline"
      ],
      "metadata": {
        "id": "jyft1WYuWFNc"
      },
      "execution_count": 2,
      "outputs": []
    },
    {
      "cell_type": "code",
      "source": [
        "!mkdir ./datasets\n",
        "!mkdir ./datasets/Diamonds\n",
        "!mkdir ./datasets/US_cars\n",
        "!mkdir ./datasets/Forbes_Billionaires"
      ],
      "metadata": {
        "id": "JFY2_Vv5UOv5"
      },
      "execution_count": 3,
      "outputs": []
    },
    {
      "cell_type": "code",
      "source": [
        "!kaggle datasets list -s Diamonds"
      ],
      "metadata": {
        "colab": {
          "base_uri": "https://localhost:8080/"
        },
        "id": "z2ZUyu7nUxxL",
        "outputId": "fdc8690b-ef68-476a-c309-81aba24680f7"
      },
      "execution_count": 4,
      "outputs": [
        {
          "output_type": "stream",
          "name": "stdout",
          "text": [
            "ref                                                        title                                             size  lastUpdated          downloadCount  voteCount  usabilityRating  \n",
            "---------------------------------------------------------  -----------------------------------------------  -----  -------------------  -------------  ---------  ---------------  \n",
            "shivam2503/diamonds                                        Diamonds                                         733KB  2017-05-25 03:06:57          62647        886  0.7647059        \n",
            "nancyalaswad90/diamonds-prices                             Diamonds Prices                                  711KB  2022-07-09 14:59:21           5285        151  1.0              \n",
            "miguelcorraljr/brilliant-diamonds                          Brilliant Diamonds                                 1MB  2020-12-14 04:18:52            967         31  1.0              \n",
            "harshitlakhani/natural-diamonds-prices-images              Natural Diamonds (Prices + Images)               154MB  2022-01-03 17:18:39            490         27  0.8235294        \n",
            "vittoriogiatti/diamondprices                               Diamond Prices                                   586KB  2022-10-24 16:29:13            843         27  1.0              \n",
            "ltrahul/diamonds-dataset                                   Diamonds dataset                                  164B  2022-07-12 16:23:29             38          9  0.6875           \n",
            "natedir/diamonds                                           diamonds                                         733KB  2022-06-10 15:04:27            154          2  0.9411765        \n",
            "resulcaliskan/diamonds                                     diamonds                                         582KB  2021-05-15 10:46:58            185          1  0.8235294        \n",
            "hosseinah1/poker-game-dataset                              Poker Game dataset                                 7MB  2022-09-18 11:41:02            532         33  1.0              \n",
            "rasvob/uci-poker-hand-dataset                              UCI Poker Hand Dataset                             6MB  2018-11-08 19:14:53            373          9  0.75             \n",
            "kalilurrahman/berkshire-hathaway-stock-latest-and-updated  Berkshire Hathaway - Stock - Latest and Updated  118KB  2022-12-17 20:22:29            231         24  1.0              \n",
            "jonnyasher/diamonds                                        diamonds                                         466KB  2022-11-23 19:47:49             80          2  0.4117647        \n",
            "barbefeu/mispriced-diamonds                                Mispriced Diamonds                               121KB  2018-02-28 19:57:09            233          5  0.14705883       \n",
            "dysphoria/poker-hand-classification                        Poker Hand Classification                          7MB  2018-11-13 17:47:22            757         12  0.8125           \n",
            "fakename6969/diamonds                                      diamonds                                         606KB  2021-09-05 17:39:54              6          1  0.29411766       \n",
            "muby98/diamonds                                            Diamonds                                         590KB  2021-02-01 19:03:41             10          1  0.1764706        \n",
            "ayushphutela/price-prediction-diamonds                     Price Prediction Diamonds                        608KB  2020-06-18 10:53:47             83          6  0.11764706       \n",
            "viccalexander/kanyewestverses                              Kanye West Rap Verses                            106KB  2016-09-12 05:46:43           1102         43  0.75             \n",
            "gpiosenka/cards-image-datasetclassification                Cards Image Dataset-Classification               385MB  2022-11-17 20:02:15           1342         42  0.9117647        \n",
            "abdelrahmanhosny/this-is-a-dataset-about-diamonds          dataset about diamonds                           454KB  2021-01-12 22:44:32             38          1  0.5294118        \n"
          ]
        }
      ]
    },
    {
      "cell_type": "code",
      "source": [
        "!kaggle datasets list -s US"
      ],
      "metadata": {
        "colab": {
          "base_uri": "https://localhost:8080/"
        },
        "id": "77T_vQZTWsBw",
        "outputId": "b51bd9ee-ec30-4232-da82-5ef476e08eda"
      },
      "execution_count": 5,
      "outputs": [
        {
          "output_type": "stream",
          "name": "stdout",
          "text": [
            "ref                                                        title                            size  lastUpdated          downloadCount  voteCount  usabilityRating  \n",
            "---------------------------------------------------------  ------------------------------  -----  -------------------  -------------  ---------  ---------------  \n",
            "unanimad/us-election-2020                                  US Election 2020                429KB  2020-12-28 21:12:35          19969        542  1.0              \n",
            "sobhanmoosavi/us-accidents                                 US Accidents (2016 - 2021)      269MB  2022-03-12 07:23:02          67730       1710  1.0              \n",
            "ahsen1330/us-police-shootings                              US Police Shootings             126KB  2020-07-30 04:23:34          12625        361  0.9705882        \n",
            "doaaalsenani/usa-cers-dataset                              US Cars Dataset                  66KB  2020-04-22 14:38:05          23538        318  1.0              \n",
            "benhamner/2016-us-election                                 2016 US Election                 17MB  2019-11-13 18:44:34          26338        522  0.7941176        \n",
            "tunguz/us-elections-dataset                                US Elections Dataset            133KB  2021-01-25 17:34:59           9598        195  1.0              \n",
            "rtatman/188-million-us-wildfires                           1.88 Million US Wildfires       168MB  2020-05-12 21:03:49          23333       1089  0.8235294        \n",
            "crowdflower/twitter-airline-sentiment                      Twitter US Airline Sentiment      3MB  2019-10-16 00:04:05          77681        950  0.8235294        \n",
            "zusmani/us-mass-shootings-last-50-years                    US Mass Shootings               310KB  2022-05-25 02:44:39          15964        352  0.7941176        \n",
            "manchunhui/us-election-2020-tweets                         US Election 2020 Tweets         353MB  2020-11-09 18:51:59          11341        368  1.0              \n",
            "brkurzawa/us-breweries                                     US Breweries                     76KB  2019-10-02 03:15:27           4575        113  1.0              \n",
            "jpmiller/publicassistance                                  US Public Food Assistance       703KB  2020-08-21 16:51:18          17804        412  0.9117647        \n",
            "fireballbyedimyrnmom/us-counties-covid-19-dataset          US counties COVID 19 dataset     28MB  2022-12-17 22:22:34          20082        438  1.0              \n",
            "divyansh22/us-border-crossing-data                         US Border Crossing Data           2MB  2020-04-19 09:38:10           3371        183  1.0              \n",
            "muonneutrino/us-census-demographic-data                    US Census Demographic Data       11MB  2019-03-03 23:46:15          23634        324  0.85294116       \n",
            "johnolafenwa/us-census-data                                US Adult Income                 703KB  2017-07-14 13:39:37          11754        124  0.85294116       \n",
            "ruchi798/among-us-dataset                                  Among Us Dataset                 47KB  2021-01-07 07:19:32           1171        103  1.0              \n",
            "kaggle/us-baby-names                                       US Baby Names                   173MB  2017-11-21 22:18:15          31576        324  0.5882353        \n",
            "austinreese/craigslist-carstrucks-data                     Used Cars Dataset               262MB  2021-05-06 17:14:08          54514       1152  1.0              \n",
            "goldenoakresearch/us-household-income-stats-geo-locations  US Household Income Statistics    2MB  2018-04-16 18:20:57          12515        229  0.8235294        \n"
          ]
        }
      ]
    },
    {
      "cell_type": "code",
      "source": [
        "!kaggle datasets list -s Billionaires"
      ],
      "metadata": {
        "colab": {
          "base_uri": "https://localhost:8080/"
        },
        "id": "RwiikdvKII0Z",
        "outputId": "3da2d025-639e-466d-bb49-d254d14022f1"
      },
      "execution_count": 6,
      "outputs": [
        {
          "output_type": "stream",
          "name": "stdout",
          "text": [
            "ref                                                        title                                            size  lastUpdated          downloadCount  voteCount  usabilityRating  \n",
            "---------------------------------------------------------  ----------------------------------------------  -----  -------------------  -------------  ---------  ---------------  \n",
            "jjdaguirre/forbes-billionaires-2022                        Forbes billionaires 2022                         56KB  2022-04-30 18:48:22           1941         46  1.0              \n",
            "roysouravcu/forbes-billionaires-of-2021                    Forbes Billionaires of 2021                      53KB  2021-05-17 08:59:44           4129         79  1.0              \n",
            "kkhandekar/billionaires-index                              Billionaires Index                               11KB  2021-11-01 02:01:18            670         28  1.0              \n",
            "alexanderbader/forbes-billionaires-2021-30                 Forbes Billionaires 2021 3.0                    114KB  2021-05-10 06:49:17           1517         48  1.0              \n",
            "alexandrparkhomenko/the-top-billionaires                   The Top Billionaires                             454B  2022-04-19 11:04:29            927         33  1.0              \n",
            "surajjha101/forbes-billionaires-data-preprocessed          Forbes 2022 Billionaires data [Pre-processed]    49KB  2022-05-23 11:11:26           1209        130  1.0              \n",
            "alexanderbader/forbes-billionaires-of-2021-20              Forbes Billionaires of 2021 2.0                  88KB  2021-05-07 11:55:00           1169         44  1.0              \n",
            "prasertk/forbes-worlds-billionaires-list-2022              Forbes World's Billionaires List 2022           703KB  2022-04-07 02:24:19           2043         45  0.88235295       \n",
            "seriadiallo1/world-billionaires                            World's Billionaires                              3KB  2021-05-19 15:08:31           2073         18  0.7058824        \n",
            "frtgnn/500-richest-people-2021                             500 Richest People 2021                          11KB  2021-05-13 08:48:33           2418         69  0.9411765        \n",
            "jaytilala/forbes-worlds-billionaires-in-2018               Forbes World's Billionaires in 2018              51KB  2021-11-11 06:42:53            750         29  1.0              \n",
            "fabrizio78/forbes-billionaires-modified                    Forbes Billionaires - Modified                  112KB  2021-06-25 22:05:07            200          5  1.0              \n",
            "marta99/elon-musks-tweets-dataset-2022                     Elon Musk's Tweets Dataset 2022                 293KB  2022-10-27 19:10:46           1646         60  1.0              \n",
            "soubenz/forbes-top-billionaires-list-2018                  Forbes' Top BIllionaires List 2018              112KB  2018-06-24 19:09:47            668         11  0.4117647        \n",
            "nithishsekaran/billionairesdataset2021                     Billionaires-Dataset-2021                        78KB  2021-06-13 06:21:12             85          4  0.64705884       \n",
            "ruhilasayyed/billionaires-in-the-world                     Billionaires Data                                56KB  2021-11-25 14:50:20             30          1  0.9411765        \n",
            "gauravarora1091/no-of-billionaires-by-different-countries  No Of Billionaires in Different Nations - 2022    1KB  2022-08-18 14:08:43              3          3  1.0              \n",
            "balabaskar/elon-musk-news-articles-corpora                 Elon Musk - News articles text corpora            2MB  2022-10-07 08:02:09            169         28  1.0              \n",
            "ravillatejakumar/billionaries-dataset                      Billionaries dataset                            100KB  2021-04-29 14:53:11            215         10  0.5294118        \n",
            "wenquanlu/forbes-billionaires-2020                         Forbes Billionaires 2020                         40KB  2020-09-07 02:59:18            185          3  0.23529412       \n"
          ]
        }
      ]
    },
    {
      "cell_type": "code",
      "source": [
        "!kaggle datasets download -d shivam2503/diamonds -p ./datasets/Diamonds\n",
        "!unzip ./datasets/Diamonds*.zip -d ./datasets/Diamonds\n",
        "!ls ./datasets/Diamonds"
      ],
      "metadata": {
        "colab": {
          "base_uri": "https://localhost:8080/"
        },
        "id": "WycevBd5VKsM",
        "outputId": "404a9f24-d7e3-4a44-9353-94a134c7e441"
      },
      "execution_count": 7,
      "outputs": [
        {
          "output_type": "stream",
          "name": "stdout",
          "text": [
            "Downloading diamonds.zip to ./datasets/Diamonds\n",
            "100% 733k/733k [00:00<00:00, 1.10MB/s]\n",
            "100% 733k/733k [00:00<00:00, 1.10MB/s]\n",
            "unzip:  cannot find or open ./datasets/Diamonds*.zip, ./datasets/Diamonds*.zip.zip or ./datasets/Diamonds*.zip.ZIP.\n",
            "\n",
            "No zipfiles found.\n",
            "diamonds.zip\n"
          ]
        }
      ]
    },
    {
      "cell_type": "code",
      "source": [
        "!kaggle datasets download -d doaaalsenani/usa-cers-dataset -p ./datasets/US_cars\n",
        "!unzip ./datasets/US_cars*.zip -d ./datasets/US_cars\n",
        "!ls ./datasets/US_cars"
      ],
      "metadata": {
        "colab": {
          "base_uri": "https://localhost:8080/"
        },
        "id": "pDZosKDDWlo4",
        "outputId": "b13edde6-3028-417d-a523-0203165353f2"
      },
      "execution_count": 8,
      "outputs": [
        {
          "output_type": "stream",
          "name": "stdout",
          "text": [
            "Downloading usa-cers-dataset.zip to ./datasets/US_cars\n",
            "\r  0% 0.00/65.9k [00:00<?, ?B/s]\r100% 65.9k/65.9k [00:00<00:00, 448kB/s]\n",
            "\r100% 65.9k/65.9k [00:00<00:00, 447kB/s]\n",
            "unzip:  cannot find or open ./datasets/US_cars*.zip, ./datasets/US_cars*.zip.zip or ./datasets/US_cars*.zip.ZIP.\n",
            "\n",
            "No zipfiles found.\n",
            "usa-cers-dataset.zip\n"
          ]
        }
      ]
    },
    {
      "cell_type": "code",
      "source": [
        "!kaggle datasets download -d roysouravcu/forbes-billionaires-of-2021 -p ./datasets/Forbes_Billionaires\n",
        "!unzip ./datasets/Forbes_Billionaires*.zip -d ./datasets/Forbes_Billionaires\n",
        "!ls ./datasets/Forbes_Billionaires"
      ],
      "metadata": {
        "colab": {
          "base_uri": "https://localhost:8080/"
        },
        "id": "rnXnn6s0Icdl",
        "outputId": "1d09d7fc-9a63-41f4-8136-e93634617fb1"
      },
      "execution_count": 69,
      "outputs": [
        {
          "output_type": "stream",
          "name": "stdout",
          "text": [
            "forbes-billionaires-of-2021.zip: Skipping, found more recently modified local copy (use --force to force download)\n",
            "unzip:  cannot find or open ./datasets/Forbes_Billionaires*.zip, ./datasets/Forbes_Billionaires*.zip.zip or ./datasets/Forbes_Billionaires*.zip.ZIP.\n",
            "\n",
            "No zipfiles found.\n",
            "forbes-billionaires-of-2021.zip\n"
          ]
        }
      ]
    },
    {
      "cell_type": "code",
      "source": [
        "diamond_df = pd.read_csv('/content/datasets/Diamonds/diamonds.zip')\n",
        "us_cars_df = pd.read_csv('/content/datasets/US_cars/usa-cers-dataset.zip')\n",
        "forbes_billionaires_df = pd.read_csv('/content/datasets/Forbes_Billionaires/forbes-billionaires-of-2021.zip')"
      ],
      "metadata": {
        "id": "XUvEa4frV_KV"
      },
      "execution_count": 70,
      "outputs": []
    },
    {
      "cell_type": "markdown",
      "source": [
        "Part 1 - Diamonds"
      ],
      "metadata": {
        "id": "tX6mU6UGXmiT"
      }
    },
    {
      "cell_type": "code",
      "source": [
        "diamond_df = diamond_df.drop_duplicates()\n",
        "diamond_df = diamond_df.dropna()\n",
        "diamond_df"
      ],
      "metadata": {
        "colab": {
          "base_uri": "https://localhost:8080/",
          "height": 424
        },
        "id": "WwOyDhbkXuoC",
        "outputId": "702a5647-8a73-438f-d1fc-922b94a8a1c9"
      },
      "execution_count": 11,
      "outputs": [
        {
          "output_type": "execute_result",
          "data": {
            "text/plain": [
              "       Unnamed: 0  carat        cut color clarity  depth  table  price     x  \\\n",
              "0               1   0.23      Ideal     E     SI2   61.5   55.0    326  3.95   \n",
              "1               2   0.21    Premium     E     SI1   59.8   61.0    326  3.89   \n",
              "2               3   0.23       Good     E     VS1   56.9   65.0    327  4.05   \n",
              "3               4   0.29    Premium     I     VS2   62.4   58.0    334  4.20   \n",
              "4               5   0.31       Good     J     SI2   63.3   58.0    335  4.34   \n",
              "...           ...    ...        ...   ...     ...    ...    ...    ...   ...   \n",
              "53935       53936   0.72      Ideal     D     SI1   60.8   57.0   2757  5.75   \n",
              "53936       53937   0.72       Good     D     SI1   63.1   55.0   2757  5.69   \n",
              "53937       53938   0.70  Very Good     D     SI1   62.8   60.0   2757  5.66   \n",
              "53938       53939   0.86    Premium     H     SI2   61.0   58.0   2757  6.15   \n",
              "53939       53940   0.75      Ideal     D     SI2   62.2   55.0   2757  5.83   \n",
              "\n",
              "          y     z  \n",
              "0      3.98  2.43  \n",
              "1      3.84  2.31  \n",
              "2      4.07  2.31  \n",
              "3      4.23  2.63  \n",
              "4      4.35  2.75  \n",
              "...     ...   ...  \n",
              "53935  5.76  3.50  \n",
              "53936  5.75  3.61  \n",
              "53937  5.68  3.56  \n",
              "53938  6.12  3.74  \n",
              "53939  5.87  3.64  \n",
              "\n",
              "[53940 rows x 11 columns]"
            ],
            "text/html": [
              "\n",
              "  <div id=\"df-70402a99-52d8-44c3-8680-0aa61914aedc\">\n",
              "    <div class=\"colab-df-container\">\n",
              "      <div>\n",
              "<style scoped>\n",
              "    .dataframe tbody tr th:only-of-type {\n",
              "        vertical-align: middle;\n",
              "    }\n",
              "\n",
              "    .dataframe tbody tr th {\n",
              "        vertical-align: top;\n",
              "    }\n",
              "\n",
              "    .dataframe thead th {\n",
              "        text-align: right;\n",
              "    }\n",
              "</style>\n",
              "<table border=\"1\" class=\"dataframe\">\n",
              "  <thead>\n",
              "    <tr style=\"text-align: right;\">\n",
              "      <th></th>\n",
              "      <th>Unnamed: 0</th>\n",
              "      <th>carat</th>\n",
              "      <th>cut</th>\n",
              "      <th>color</th>\n",
              "      <th>clarity</th>\n",
              "      <th>depth</th>\n",
              "      <th>table</th>\n",
              "      <th>price</th>\n",
              "      <th>x</th>\n",
              "      <th>y</th>\n",
              "      <th>z</th>\n",
              "    </tr>\n",
              "  </thead>\n",
              "  <tbody>\n",
              "    <tr>\n",
              "      <th>0</th>\n",
              "      <td>1</td>\n",
              "      <td>0.23</td>\n",
              "      <td>Ideal</td>\n",
              "      <td>E</td>\n",
              "      <td>SI2</td>\n",
              "      <td>61.5</td>\n",
              "      <td>55.0</td>\n",
              "      <td>326</td>\n",
              "      <td>3.95</td>\n",
              "      <td>3.98</td>\n",
              "      <td>2.43</td>\n",
              "    </tr>\n",
              "    <tr>\n",
              "      <th>1</th>\n",
              "      <td>2</td>\n",
              "      <td>0.21</td>\n",
              "      <td>Premium</td>\n",
              "      <td>E</td>\n",
              "      <td>SI1</td>\n",
              "      <td>59.8</td>\n",
              "      <td>61.0</td>\n",
              "      <td>326</td>\n",
              "      <td>3.89</td>\n",
              "      <td>3.84</td>\n",
              "      <td>2.31</td>\n",
              "    </tr>\n",
              "    <tr>\n",
              "      <th>2</th>\n",
              "      <td>3</td>\n",
              "      <td>0.23</td>\n",
              "      <td>Good</td>\n",
              "      <td>E</td>\n",
              "      <td>VS1</td>\n",
              "      <td>56.9</td>\n",
              "      <td>65.0</td>\n",
              "      <td>327</td>\n",
              "      <td>4.05</td>\n",
              "      <td>4.07</td>\n",
              "      <td>2.31</td>\n",
              "    </tr>\n",
              "    <tr>\n",
              "      <th>3</th>\n",
              "      <td>4</td>\n",
              "      <td>0.29</td>\n",
              "      <td>Premium</td>\n",
              "      <td>I</td>\n",
              "      <td>VS2</td>\n",
              "      <td>62.4</td>\n",
              "      <td>58.0</td>\n",
              "      <td>334</td>\n",
              "      <td>4.20</td>\n",
              "      <td>4.23</td>\n",
              "      <td>2.63</td>\n",
              "    </tr>\n",
              "    <tr>\n",
              "      <th>4</th>\n",
              "      <td>5</td>\n",
              "      <td>0.31</td>\n",
              "      <td>Good</td>\n",
              "      <td>J</td>\n",
              "      <td>SI2</td>\n",
              "      <td>63.3</td>\n",
              "      <td>58.0</td>\n",
              "      <td>335</td>\n",
              "      <td>4.34</td>\n",
              "      <td>4.35</td>\n",
              "      <td>2.75</td>\n",
              "    </tr>\n",
              "    <tr>\n",
              "      <th>...</th>\n",
              "      <td>...</td>\n",
              "      <td>...</td>\n",
              "      <td>...</td>\n",
              "      <td>...</td>\n",
              "      <td>...</td>\n",
              "      <td>...</td>\n",
              "      <td>...</td>\n",
              "      <td>...</td>\n",
              "      <td>...</td>\n",
              "      <td>...</td>\n",
              "      <td>...</td>\n",
              "    </tr>\n",
              "    <tr>\n",
              "      <th>53935</th>\n",
              "      <td>53936</td>\n",
              "      <td>0.72</td>\n",
              "      <td>Ideal</td>\n",
              "      <td>D</td>\n",
              "      <td>SI1</td>\n",
              "      <td>60.8</td>\n",
              "      <td>57.0</td>\n",
              "      <td>2757</td>\n",
              "      <td>5.75</td>\n",
              "      <td>5.76</td>\n",
              "      <td>3.50</td>\n",
              "    </tr>\n",
              "    <tr>\n",
              "      <th>53936</th>\n",
              "      <td>53937</td>\n",
              "      <td>0.72</td>\n",
              "      <td>Good</td>\n",
              "      <td>D</td>\n",
              "      <td>SI1</td>\n",
              "      <td>63.1</td>\n",
              "      <td>55.0</td>\n",
              "      <td>2757</td>\n",
              "      <td>5.69</td>\n",
              "      <td>5.75</td>\n",
              "      <td>3.61</td>\n",
              "    </tr>\n",
              "    <tr>\n",
              "      <th>53937</th>\n",
              "      <td>53938</td>\n",
              "      <td>0.70</td>\n",
              "      <td>Very Good</td>\n",
              "      <td>D</td>\n",
              "      <td>SI1</td>\n",
              "      <td>62.8</td>\n",
              "      <td>60.0</td>\n",
              "      <td>2757</td>\n",
              "      <td>5.66</td>\n",
              "      <td>5.68</td>\n",
              "      <td>3.56</td>\n",
              "    </tr>\n",
              "    <tr>\n",
              "      <th>53938</th>\n",
              "      <td>53939</td>\n",
              "      <td>0.86</td>\n",
              "      <td>Premium</td>\n",
              "      <td>H</td>\n",
              "      <td>SI2</td>\n",
              "      <td>61.0</td>\n",
              "      <td>58.0</td>\n",
              "      <td>2757</td>\n",
              "      <td>6.15</td>\n",
              "      <td>6.12</td>\n",
              "      <td>3.74</td>\n",
              "    </tr>\n",
              "    <tr>\n",
              "      <th>53939</th>\n",
              "      <td>53940</td>\n",
              "      <td>0.75</td>\n",
              "      <td>Ideal</td>\n",
              "      <td>D</td>\n",
              "      <td>SI2</td>\n",
              "      <td>62.2</td>\n",
              "      <td>55.0</td>\n",
              "      <td>2757</td>\n",
              "      <td>5.83</td>\n",
              "      <td>5.87</td>\n",
              "      <td>3.64</td>\n",
              "    </tr>\n",
              "  </tbody>\n",
              "</table>\n",
              "<p>53940 rows × 11 columns</p>\n",
              "</div>\n",
              "      <button class=\"colab-df-convert\" onclick=\"convertToInteractive('df-70402a99-52d8-44c3-8680-0aa61914aedc')\"\n",
              "              title=\"Convert this dataframe to an interactive table.\"\n",
              "              style=\"display:none;\">\n",
              "        \n",
              "  <svg xmlns=\"http://www.w3.org/2000/svg\" height=\"24px\"viewBox=\"0 0 24 24\"\n",
              "       width=\"24px\">\n",
              "    <path d=\"M0 0h24v24H0V0z\" fill=\"none\"/>\n",
              "    <path d=\"M18.56 5.44l.94 2.06.94-2.06 2.06-.94-2.06-.94-.94-2.06-.94 2.06-2.06.94zm-11 1L8.5 8.5l.94-2.06 2.06-.94-2.06-.94L8.5 2.5l-.94 2.06-2.06.94zm10 10l.94 2.06.94-2.06 2.06-.94-2.06-.94-.94-2.06-.94 2.06-2.06.94z\"/><path d=\"M17.41 7.96l-1.37-1.37c-.4-.4-.92-.59-1.43-.59-.52 0-1.04.2-1.43.59L10.3 9.45l-7.72 7.72c-.78.78-.78 2.05 0 2.83L4 21.41c.39.39.9.59 1.41.59.51 0 1.02-.2 1.41-.59l7.78-7.78 2.81-2.81c.8-.78.8-2.07 0-2.86zM5.41 20L4 18.59l7.72-7.72 1.47 1.35L5.41 20z\"/>\n",
              "  </svg>\n",
              "      </button>\n",
              "      \n",
              "  <style>\n",
              "    .colab-df-container {\n",
              "      display:flex;\n",
              "      flex-wrap:wrap;\n",
              "      gap: 12px;\n",
              "    }\n",
              "\n",
              "    .colab-df-convert {\n",
              "      background-color: #E8F0FE;\n",
              "      border: none;\n",
              "      border-radius: 50%;\n",
              "      cursor: pointer;\n",
              "      display: none;\n",
              "      fill: #1967D2;\n",
              "      height: 32px;\n",
              "      padding: 0 0 0 0;\n",
              "      width: 32px;\n",
              "    }\n",
              "\n",
              "    .colab-df-convert:hover {\n",
              "      background-color: #E2EBFA;\n",
              "      box-shadow: 0px 1px 2px rgba(60, 64, 67, 0.3), 0px 1px 3px 1px rgba(60, 64, 67, 0.15);\n",
              "      fill: #174EA6;\n",
              "    }\n",
              "\n",
              "    [theme=dark] .colab-df-convert {\n",
              "      background-color: #3B4455;\n",
              "      fill: #D2E3FC;\n",
              "    }\n",
              "\n",
              "    [theme=dark] .colab-df-convert:hover {\n",
              "      background-color: #434B5C;\n",
              "      box-shadow: 0px 1px 3px 1px rgba(0, 0, 0, 0.15);\n",
              "      filter: drop-shadow(0px 1px 2px rgba(0, 0, 0, 0.3));\n",
              "      fill: #FFFFFF;\n",
              "    }\n",
              "  </style>\n",
              "\n",
              "      <script>\n",
              "        const buttonEl =\n",
              "          document.querySelector('#df-70402a99-52d8-44c3-8680-0aa61914aedc button.colab-df-convert');\n",
              "        buttonEl.style.display =\n",
              "          google.colab.kernel.accessAllowed ? 'block' : 'none';\n",
              "\n",
              "        async function convertToInteractive(key) {\n",
              "          const element = document.querySelector('#df-70402a99-52d8-44c3-8680-0aa61914aedc');\n",
              "          const dataTable =\n",
              "            await google.colab.kernel.invokeFunction('convertToInteractive',\n",
              "                                                     [key], {});\n",
              "          if (!dataTable) return;\n",
              "\n",
              "          const docLinkHtml = 'Like what you see? Visit the ' +\n",
              "            '<a target=\"_blank\" href=https://colab.research.google.com/notebooks/data_table.ipynb>data table notebook</a>'\n",
              "            + ' to learn more about interactive tables.';\n",
              "          element.innerHTML = '';\n",
              "          dataTable['output_type'] = 'display_data';\n",
              "          await google.colab.output.renderOutput(dataTable, element);\n",
              "          const docLink = document.createElement('div');\n",
              "          docLink.innerHTML = docLinkHtml;\n",
              "          element.appendChild(docLink);\n",
              "        }\n",
              "      </script>\n",
              "    </div>\n",
              "  </div>\n",
              "  "
            ]
          },
          "metadata": {},
          "execution_count": 11
        }
      ]
    },
    {
      "cell_type": "markdown",
      "source": [
        "Q1"
      ],
      "metadata": {
        "id": "YHqmjI12Xq46"
      }
    },
    {
      "cell_type": "code",
      "source": [
        "from scipy.stats import pearsonr\n",
        "corr,_ = pearsonr(diamond_df['carat'],diamond_df['price'])\n",
        "print(f'Pearsons correlation between carat and price is: {corr}')\n",
        "corr1,_ = pearsonr(diamond_df['depth'],diamond_df['price'])\n",
        "print(f'Pearsons correlation between depth and price is: {corr1}')"
      ],
      "metadata": {
        "colab": {
          "base_uri": "https://localhost:8080/"
        },
        "id": "I-1zf2b7hP-p",
        "outputId": "128322ca-c3d1-484d-fb76-ff8c4c6a9b6f"
      },
      "execution_count": 12,
      "outputs": [
        {
          "output_type": "stream",
          "name": "stdout",
          "text": [
            "Pearsons correlation between carat and price is: 0.9215913011934771\n",
            "Pearsons correlation between depth and price is: -0.010647404584142987\n"
          ]
        }
      ]
    },
    {
      "cell_type": "markdown",
      "source": [
        "Q2"
      ],
      "metadata": {
        "id": "mO5jlRXRjFnf"
      }
    },
    {
      "cell_type": "code",
      "source": [
        "cols = ['carat','depth','table','price','x','y','z']\n",
        "new_diamonds_df = diamond_df[cols]"
      ],
      "metadata": {
        "id": "Uz6jecydjFO1"
      },
      "execution_count": 13,
      "outputs": []
    },
    {
      "cell_type": "code",
      "source": [
        "corr = new_diamonds_df.corr()\n",
        "corr"
      ],
      "metadata": {
        "colab": {
          "base_uri": "https://localhost:8080/",
          "height": 269
        },
        "id": "p6giRgUAj-24",
        "outputId": "30821178-6c47-452b-c037-f69df64a8671"
      },
      "execution_count": 14,
      "outputs": [
        {
          "output_type": "execute_result",
          "data": {
            "text/plain": [
              "          carat     depth     table     price         x         y         z\n",
              "carat  1.000000  0.028224  0.181618  0.921591  0.975094  0.951722  0.953387\n",
              "depth  0.028224  1.000000 -0.295779 -0.010647 -0.025289 -0.029341  0.094924\n",
              "table  0.181618 -0.295779  1.000000  0.127134  0.195344  0.183760  0.150929\n",
              "price  0.921591 -0.010647  0.127134  1.000000  0.884435  0.865421  0.861249\n",
              "x      0.975094 -0.025289  0.195344  0.884435  1.000000  0.974701  0.970772\n",
              "y      0.951722 -0.029341  0.183760  0.865421  0.974701  1.000000  0.952006\n",
              "z      0.953387  0.094924  0.150929  0.861249  0.970772  0.952006  1.000000"
            ],
            "text/html": [
              "\n",
              "  <div id=\"df-59d96935-e539-4a9c-a77d-e971fc3ad3bf\">\n",
              "    <div class=\"colab-df-container\">\n",
              "      <div>\n",
              "<style scoped>\n",
              "    .dataframe tbody tr th:only-of-type {\n",
              "        vertical-align: middle;\n",
              "    }\n",
              "\n",
              "    .dataframe tbody tr th {\n",
              "        vertical-align: top;\n",
              "    }\n",
              "\n",
              "    .dataframe thead th {\n",
              "        text-align: right;\n",
              "    }\n",
              "</style>\n",
              "<table border=\"1\" class=\"dataframe\">\n",
              "  <thead>\n",
              "    <tr style=\"text-align: right;\">\n",
              "      <th></th>\n",
              "      <th>carat</th>\n",
              "      <th>depth</th>\n",
              "      <th>table</th>\n",
              "      <th>price</th>\n",
              "      <th>x</th>\n",
              "      <th>y</th>\n",
              "      <th>z</th>\n",
              "    </tr>\n",
              "  </thead>\n",
              "  <tbody>\n",
              "    <tr>\n",
              "      <th>carat</th>\n",
              "      <td>1.000000</td>\n",
              "      <td>0.028224</td>\n",
              "      <td>0.181618</td>\n",
              "      <td>0.921591</td>\n",
              "      <td>0.975094</td>\n",
              "      <td>0.951722</td>\n",
              "      <td>0.953387</td>\n",
              "    </tr>\n",
              "    <tr>\n",
              "      <th>depth</th>\n",
              "      <td>0.028224</td>\n",
              "      <td>1.000000</td>\n",
              "      <td>-0.295779</td>\n",
              "      <td>-0.010647</td>\n",
              "      <td>-0.025289</td>\n",
              "      <td>-0.029341</td>\n",
              "      <td>0.094924</td>\n",
              "    </tr>\n",
              "    <tr>\n",
              "      <th>table</th>\n",
              "      <td>0.181618</td>\n",
              "      <td>-0.295779</td>\n",
              "      <td>1.000000</td>\n",
              "      <td>0.127134</td>\n",
              "      <td>0.195344</td>\n",
              "      <td>0.183760</td>\n",
              "      <td>0.150929</td>\n",
              "    </tr>\n",
              "    <tr>\n",
              "      <th>price</th>\n",
              "      <td>0.921591</td>\n",
              "      <td>-0.010647</td>\n",
              "      <td>0.127134</td>\n",
              "      <td>1.000000</td>\n",
              "      <td>0.884435</td>\n",
              "      <td>0.865421</td>\n",
              "      <td>0.861249</td>\n",
              "    </tr>\n",
              "    <tr>\n",
              "      <th>x</th>\n",
              "      <td>0.975094</td>\n",
              "      <td>-0.025289</td>\n",
              "      <td>0.195344</td>\n",
              "      <td>0.884435</td>\n",
              "      <td>1.000000</td>\n",
              "      <td>0.974701</td>\n",
              "      <td>0.970772</td>\n",
              "    </tr>\n",
              "    <tr>\n",
              "      <th>y</th>\n",
              "      <td>0.951722</td>\n",
              "      <td>-0.029341</td>\n",
              "      <td>0.183760</td>\n",
              "      <td>0.865421</td>\n",
              "      <td>0.974701</td>\n",
              "      <td>1.000000</td>\n",
              "      <td>0.952006</td>\n",
              "    </tr>\n",
              "    <tr>\n",
              "      <th>z</th>\n",
              "      <td>0.953387</td>\n",
              "      <td>0.094924</td>\n",
              "      <td>0.150929</td>\n",
              "      <td>0.861249</td>\n",
              "      <td>0.970772</td>\n",
              "      <td>0.952006</td>\n",
              "      <td>1.000000</td>\n",
              "    </tr>\n",
              "  </tbody>\n",
              "</table>\n",
              "</div>\n",
              "      <button class=\"colab-df-convert\" onclick=\"convertToInteractive('df-59d96935-e539-4a9c-a77d-e971fc3ad3bf')\"\n",
              "              title=\"Convert this dataframe to an interactive table.\"\n",
              "              style=\"display:none;\">\n",
              "        \n",
              "  <svg xmlns=\"http://www.w3.org/2000/svg\" height=\"24px\"viewBox=\"0 0 24 24\"\n",
              "       width=\"24px\">\n",
              "    <path d=\"M0 0h24v24H0V0z\" fill=\"none\"/>\n",
              "    <path d=\"M18.56 5.44l.94 2.06.94-2.06 2.06-.94-2.06-.94-.94-2.06-.94 2.06-2.06.94zm-11 1L8.5 8.5l.94-2.06 2.06-.94-2.06-.94L8.5 2.5l-.94 2.06-2.06.94zm10 10l.94 2.06.94-2.06 2.06-.94-2.06-.94-.94-2.06-.94 2.06-2.06.94z\"/><path d=\"M17.41 7.96l-1.37-1.37c-.4-.4-.92-.59-1.43-.59-.52 0-1.04.2-1.43.59L10.3 9.45l-7.72 7.72c-.78.78-.78 2.05 0 2.83L4 21.41c.39.39.9.59 1.41.59.51 0 1.02-.2 1.41-.59l7.78-7.78 2.81-2.81c.8-.78.8-2.07 0-2.86zM5.41 20L4 18.59l7.72-7.72 1.47 1.35L5.41 20z\"/>\n",
              "  </svg>\n",
              "      </button>\n",
              "      \n",
              "  <style>\n",
              "    .colab-df-container {\n",
              "      display:flex;\n",
              "      flex-wrap:wrap;\n",
              "      gap: 12px;\n",
              "    }\n",
              "\n",
              "    .colab-df-convert {\n",
              "      background-color: #E8F0FE;\n",
              "      border: none;\n",
              "      border-radius: 50%;\n",
              "      cursor: pointer;\n",
              "      display: none;\n",
              "      fill: #1967D2;\n",
              "      height: 32px;\n",
              "      padding: 0 0 0 0;\n",
              "      width: 32px;\n",
              "    }\n",
              "\n",
              "    .colab-df-convert:hover {\n",
              "      background-color: #E2EBFA;\n",
              "      box-shadow: 0px 1px 2px rgba(60, 64, 67, 0.3), 0px 1px 3px 1px rgba(60, 64, 67, 0.15);\n",
              "      fill: #174EA6;\n",
              "    }\n",
              "\n",
              "    [theme=dark] .colab-df-convert {\n",
              "      background-color: #3B4455;\n",
              "      fill: #D2E3FC;\n",
              "    }\n",
              "\n",
              "    [theme=dark] .colab-df-convert:hover {\n",
              "      background-color: #434B5C;\n",
              "      box-shadow: 0px 1px 3px 1px rgba(0, 0, 0, 0.15);\n",
              "      filter: drop-shadow(0px 1px 2px rgba(0, 0, 0, 0.3));\n",
              "      fill: #FFFFFF;\n",
              "    }\n",
              "  </style>\n",
              "\n",
              "      <script>\n",
              "        const buttonEl =\n",
              "          document.querySelector('#df-59d96935-e539-4a9c-a77d-e971fc3ad3bf button.colab-df-convert');\n",
              "        buttonEl.style.display =\n",
              "          google.colab.kernel.accessAllowed ? 'block' : 'none';\n",
              "\n",
              "        async function convertToInteractive(key) {\n",
              "          const element = document.querySelector('#df-59d96935-e539-4a9c-a77d-e971fc3ad3bf');\n",
              "          const dataTable =\n",
              "            await google.colab.kernel.invokeFunction('convertToInteractive',\n",
              "                                                     [key], {});\n",
              "          if (!dataTable) return;\n",
              "\n",
              "          const docLinkHtml = 'Like what you see? Visit the ' +\n",
              "            '<a target=\"_blank\" href=https://colab.research.google.com/notebooks/data_table.ipynb>data table notebook</a>'\n",
              "            + ' to learn more about interactive tables.';\n",
              "          element.innerHTML = '';\n",
              "          dataTable['output_type'] = 'display_data';\n",
              "          await google.colab.output.renderOutput(dataTable, element);\n",
              "          const docLink = document.createElement('div');\n",
              "          docLink.innerHTML = docLinkHtml;\n",
              "          element.appendChild(docLink);\n",
              "        }\n",
              "      </script>\n",
              "    </div>\n",
              "  </div>\n",
              "  "
            ]
          },
          "metadata": {},
          "execution_count": 14
        }
      ]
    },
    {
      "cell_type": "code",
      "source": [
        "import seaborn as sns \n",
        "sns.heatmap(corr, xticklabels=corr.columns, yticklabels=corr.columns, annot=True)"
      ],
      "metadata": {
        "colab": {
          "base_uri": "https://localhost:8080/",
          "height": 287
        },
        "id": "ZGoKEtcWkp9L",
        "outputId": "17942fdc-7def-447c-f445-71eda6f50da6"
      },
      "execution_count": 15,
      "outputs": [
        {
          "output_type": "execute_result",
          "data": {
            "text/plain": [
              "<matplotlib.axes._subplots.AxesSubplot at 0x7fd020cd0dc0>"
            ]
          },
          "metadata": {},
          "execution_count": 15
        },
        {
          "output_type": "display_data",
          "data": {
            "text/plain": [
              "<Figure size 432x288 with 2 Axes>"
            ],
            "image/png": "[encoded data removed]"
          },
          "metadata": {
            "needs_background": "light"
          }
        }
      ]
    },
    {
      "cell_type": "markdown",
      "source": [
        "Q3 "
      ],
      "metadata": {
        "id": "wX4datRrlDwQ"
      }
    },
    {
      "cell_type": "code",
      "source": [
        "from sklearn.linear_model import LinearRegression\n",
        "def regression_on_clarity_type(df, clarity_type):\n",
        "  df = df[df['clarity']==clarity_type][['carat','price']]\n",
        "  norm_df = (df-df.min())/(df.max()-df.min()) # normalizing\n",
        "  x = np.array(norm_df['carat']).reshape(-1, 1)\n",
        "  y = np.array(norm_df['price']).reshape(-1, 1)\n",
        "  model = LinearRegression()\n",
        "  model.fit(x,y)\n",
        "  return model\n",
        "\n",
        "linreg_based_on_clarity = {}\n",
        "clarity_types = set(diamond_df['clarity'])\n",
        "for clarity_type in clarity_types:\n",
        "  linreg_based_on_clarity[f'{clarity_type}'] = regression_on_clarity_type(diamond_df, clarity_type)\n",
        "\n",
        "linreg_based_on_clarity"
      ],
      "metadata": {
        "colab": {
          "base_uri": "https://localhost:8080/"
        },
        "id": "YIrjwAw-VWRy",
        "outputId": "75533ead-c9eb-425c-a7b8-c10b28a56c79"
      },
      "execution_count": 16,
      "outputs": [
        {
          "output_type": "execute_result",
          "data": {
            "text/plain": [
              "{'VVS2': LinearRegression(),\n",
              " 'IF': LinearRegression(),\n",
              " 'VVS1': LinearRegression(),\n",
              " 'SI1': LinearRegression(),\n",
              " 'I1': LinearRegression(),\n",
              " 'VS2': LinearRegression(),\n",
              " 'VS1': LinearRegression(),\n",
              " 'SI2': LinearRegression()}"
            ]
          },
          "metadata": {},
          "execution_count": 16
        }
      ]
    },
    {
      "cell_type": "markdown",
      "source": [
        "Q4 "
      ],
      "metadata": {
        "id": "L3WGdMscXG1k"
      }
    },
    {
      "cell_type": "code",
      "source": [
        "for model in linreg_based_on_clarity.values():\n",
        "  x = np.array(diamond_df['carat']).reshape(-1, 1)\n",
        "  plt.plot(x, model.predict(x))"
      ],
      "metadata": {
        "colab": {
          "base_uri": "https://localhost:8080/",
          "height": 268
        },
        "id": "bUlP7XbSXHs9",
        "outputId": "98fd8b32-5722-4803-c068-f68b766cfc2d"
      },
      "execution_count": 103,
      "outputs": [
        {
          "output_type": "display_data",
          "data": {
            "text/plain": [
              "<Figure size 432x288 with 1 Axes>"
            ],
            "image/png": "[encoded data removed]"
          },
          "metadata": {
            "needs_background": "light"
          }
        }
      ]
    },
    {
      "cell_type": "markdown",
      "source": [
        "Q5"
      ],
      "metadata": {
        "id": "5j7DRXZeuaoO"
      }
    },
    {
      "cell_type": "code",
      "source": [
        "from sklearn import metrics\n",
        "from sklearn.model_selection import train_test_split\n",
        "train_diamond_df, test_diamond_df = train_test_split(diamond_df, test_size=0.3)\n",
        "data_point_list = [row.values for index,row in train_diamond_df[['carat','depth','table','price','x','y','z']].iterrows()]\n",
        "mlinreg = LinearRegression()\n",
        "mlinreg.fit(data_point_list,train_diamond_df['price'].values)\n",
        "\n",
        "y_predict = mlinreg.predict([row.values for index,row in test_diamond_df[['carat','depth','table','price','x','y','z']].iterrows()])\n",
        "MAE = metrics.mean_absolute_error(test_diamond_df['price'].values,y_predict)\n",
        "RMSE = metrics.mean_squared_error(test_diamond_df['price'].values,y_predict)\n",
        "print(\"Model MAE value:\", MAE) \n",
        "print(\"Model RMSE value:\",RMSE)"
      ],
      "metadata": {
        "colab": {
          "base_uri": "https://localhost:8080/"
        },
        "id": "i8X9S1Bcubjw",
        "outputId": "b25f2b21-be09-43f1-ceaf-cc8719714865"
      },
      "execution_count": 17,
      "outputs": [
        {
          "output_type": "stream",
          "name": "stdout",
          "text": [
            "Model MAE value: 1.826626135260317e-12\n",
            "Model RMSE value: 5.759370252355699e-24\n"
          ]
        }
      ]
    },
    {
      "cell_type": "markdown",
      "source": [
        "Part 2 - US cars"
      ],
      "metadata": {
        "id": "68pF6luVJgM7"
      }
    },
    {
      "cell_type": "code",
      "source": [
        "us_cars_df = us_cars_df.drop_duplicates()\n",
        "us_cars_df = us_cars_df.dropna()\n",
        "us_cars_df"
      ],
      "metadata": {
        "colab": {
          "base_uri": "https://localhost:8080/",
          "height": 424
        },
        "id": "AsQ4jkRmKtoR",
        "outputId": "ae6caa93-c739-432f-87c5-fef4aa459322"
      },
      "execution_count": 18,
      "outputs": [
        {
          "output_type": "execute_result",
          "data": {
            "text/plain": [
              "      Unnamed: 0  price      brand    model  year   title_status   mileage  \\\n",
              "0              0   6300     toyota  cruiser  2008  clean vehicle  274117.0   \n",
              "1              1   2899       ford       se  2011  clean vehicle  190552.0   \n",
              "2              2   5350      dodge      mpv  2018  clean vehicle   39590.0   \n",
              "3              3  25000       ford     door  2014  clean vehicle   64146.0   \n",
              "4              4  27700  chevrolet     1500  2018  clean vehicle    6654.0   \n",
              "...          ...    ...        ...      ...   ...            ...       ...   \n",
              "2494        2494   7800     nissan    versa  2019  clean vehicle   23609.0   \n",
              "2495        2495   9200     nissan    versa  2018  clean vehicle   34553.0   \n",
              "2496        2496   9200     nissan    versa  2018  clean vehicle   31594.0   \n",
              "2497        2497   9200     nissan    versa  2018  clean vehicle   32557.0   \n",
              "2498        2498   9200     nissan    versa  2018  clean vehicle   31371.0   \n",
              "\n",
              "       color                  vin        lot       state country  \\\n",
              "0      black    jtezu11f88k007763  159348797  new jersey     usa   \n",
              "1     silver    2fmdk3gc4bbb02217  166951262   tennessee     usa   \n",
              "2     silver    3c4pdcgg5jt346413  167655728     georgia     usa   \n",
              "3       blue    1ftfw1et4efc23745  167753855    virginia     usa   \n",
              "4        red    3gcpcrec2jg473991  167763266     florida     usa   \n",
              "...      ...                  ...        ...         ...     ...   \n",
              "2494     red    3n1cn7ap9kl880319  167722715  california     usa   \n",
              "2495  silver    3n1cn7ap5jl884088  167762225     florida     usa   \n",
              "2496  silver    3n1cn7ap9jl884191  167762226     florida     usa   \n",
              "2497   black    3n1cn7ap3jl883263  167762227     florida     usa   \n",
              "2498  silver    3n1cn7ap4jl884311  167762228     florida     usa   \n",
              "\n",
              "          condition  \n",
              "0      10 days left  \n",
              "1       6 days left  \n",
              "2       2 days left  \n",
              "3     22 hours left  \n",
              "4     22 hours left  \n",
              "...             ...  \n",
              "2494    1 days left  \n",
              "2495  21 hours left  \n",
              "2496  21 hours left  \n",
              "2497    2 days left  \n",
              "2498  21 hours left  \n",
              "\n",
              "[2499 rows x 13 columns]"
            ],
            "text/html": [
              "\n",
              "  <div id=\"df-ee82c665-5e3e-4e61-bc3f-96d9a53c0a87\">\n",
              "    <div class=\"colab-df-container\">\n",
              "      <div>\n",
              "<style scoped>\n",
              "    .dataframe tbody tr th:only-of-type {\n",
              "        vertical-align: middle;\n",
              "    }\n",
              "\n",
              "    .dataframe tbody tr th {\n",
              "        vertical-align: top;\n",
              "    }\n",
              "\n",
              "    .dataframe thead th {\n",
              "        text-align: right;\n",
              "    }\n",
              "</style>\n",
              "<table border=\"1\" class=\"dataframe\">\n",
              "  <thead>\n",
              "    <tr style=\"text-align: right;\">\n",
              "      <th></th>\n",
              "      <th>Unnamed: 0</th>\n",
              "      <th>price</th>\n",
              "      <th>brand</th>\n",
              "      <th>model</th>\n",
              "      <th>year</th>\n",
              "      <th>title_status</th>\n",
              "      <th>mileage</th>\n",
              "      <th>color</th>\n",
              "      <th>vin</th>\n",
              "      <th>lot</th>\n",
              "      <th>state</th>\n",
              "      <th>country</th>\n",
              "      <th>condition</th>\n",
              "    </tr>\n",
              "  </thead>\n",
              "  <tbody>\n",
              "    <tr>\n",
              "      <th>0</th>\n",
              "      <td>0</td>\n",
              "      <td>6300</td>\n",
              "      <td>toyota</td>\n",
              "      <td>cruiser</td>\n",
              "      <td>2008</td>\n",
              "      <td>clean vehicle</td>\n",
              "      <td>274117.0</td>\n",
              "      <td>black</td>\n",
              "      <td>jtezu11f88k007763</td>\n",
              "      <td>159348797</td>\n",
              "      <td>new jersey</td>\n",
              "      <td>usa</td>\n",
              "      <td>10 days left</td>\n",
              "    </tr>\n",
              "    <tr>\n",
              "      <th>1</th>\n",
              "      <td>1</td>\n",
              "      <td>2899</td>\n",
              "      <td>ford</td>\n",
              "      <td>se</td>\n",
              "      <td>2011</td>\n",
              "      <td>clean vehicle</td>\n",
              "      <td>190552.0</td>\n",
              "      <td>silver</td>\n",
              "      <td>2fmdk3gc4bbb02217</td>\n",
              "      <td>166951262</td>\n",
              "      <td>tennessee</td>\n",
              "      <td>usa</td>\n",
              "      <td>6 days left</td>\n",
              "    </tr>\n",
              "    <tr>\n",
              "      <th>2</th>\n",
              "      <td>2</td>\n",
              "      <td>5350</td>\n",
              "      <td>dodge</td>\n",
              "      <td>mpv</td>\n",
              "      <td>2018</td>\n",
              "      <td>clean vehicle</td>\n",
              "      <td>39590.0</td>\n",
              "      <td>silver</td>\n",
              "      <td>3c4pdcgg5jt346413</td>\n",
              "      <td>167655728</td>\n",
              "      <td>georgia</td>\n",
              "      <td>usa</td>\n",
              "      <td>2 days left</td>\n",
              "    </tr>\n",
              "    <tr>\n",
              "      <th>3</th>\n",
              "      <td>3</td>\n",
              "      <td>25000</td>\n",
              "      <td>ford</td>\n",
              "      <td>door</td>\n",
              "      <td>2014</td>\n",
              "      <td>clean vehicle</td>\n",
              "      <td>64146.0</td>\n",
              "      <td>blue</td>\n",
              "      <td>1ftfw1et4efc23745</td>\n",
              "      <td>167753855</td>\n",
              "      <td>virginia</td>\n",
              "      <td>usa</td>\n",
              "      <td>22 hours left</td>\n",
              "    </tr>\n",
              "    <tr>\n",
              "      <th>4</th>\n",
              "      <td>4</td>\n",
              "      <td>27700</td>\n",
              "      <td>chevrolet</td>\n",
              "      <td>1500</td>\n",
              "      <td>2018</td>\n",
              "      <td>clean vehicle</td>\n",
              "      <td>6654.0</td>\n",
              "      <td>red</td>\n",
              "      <td>3gcpcrec2jg473991</td>\n",
              "      <td>167763266</td>\n",
              "      <td>florida</td>\n",
              "      <td>usa</td>\n",
              "      <td>22 hours left</td>\n",
              "    </tr>\n",
              "    <tr>\n",
              "      <th>...</th>\n",
              "      <td>...</td>\n",
              "      <td>...</td>\n",
              "      <td>...</td>\n",
              "      <td>...</td>\n",
              "      <td>...</td>\n",
              "      <td>...</td>\n",
              "      <td>...</td>\n",
              "      <td>...</td>\n",
              "      <td>...</td>\n",
              "      <td>...</td>\n",
              "      <td>...</td>\n",
              "      <td>...</td>\n",
              "      <td>...</td>\n",
              "    </tr>\n",
              "    <tr>\n",
              "      <th>2494</th>\n",
              "      <td>2494</td>\n",
              "      <td>7800</td>\n",
              "      <td>nissan</td>\n",
              "      <td>versa</td>\n",
              "      <td>2019</td>\n",
              "      <td>clean vehicle</td>\n",
              "      <td>23609.0</td>\n",
              "      <td>red</td>\n",
              "      <td>3n1cn7ap9kl880319</td>\n",
              "      <td>167722715</td>\n",
              "      <td>california</td>\n",
              "      <td>usa</td>\n",
              "      <td>1 days left</td>\n",
              "    </tr>\n",
              "    <tr>\n",
              "      <th>2495</th>\n",
              "      <td>2495</td>\n",
              "      <td>9200</td>\n",
              "      <td>nissan</td>\n",
              "      <td>versa</td>\n",
              "      <td>2018</td>\n",
              "      <td>clean vehicle</td>\n",
              "      <td>34553.0</td>\n",
              "      <td>silver</td>\n",
              "      <td>3n1cn7ap5jl884088</td>\n",
              "      <td>167762225</td>\n",
              "      <td>florida</td>\n",
              "      <td>usa</td>\n",
              "      <td>21 hours left</td>\n",
              "    </tr>\n",
              "    <tr>\n",
              "      <th>2496</th>\n",
              "      <td>2496</td>\n",
              "      <td>9200</td>\n",
              "      <td>nissan</td>\n",
              "      <td>versa</td>\n",
              "      <td>2018</td>\n",
              "      <td>clean vehicle</td>\n",
              "      <td>31594.0</td>\n",
              "      <td>silver</td>\n",
              "      <td>3n1cn7ap9jl884191</td>\n",
              "      <td>167762226</td>\n",
              "      <td>florida</td>\n",
              "      <td>usa</td>\n",
              "      <td>21 hours left</td>\n",
              "    </tr>\n",
              "    <tr>\n",
              "      <th>2497</th>\n",
              "      <td>2497</td>\n",
              "      <td>9200</td>\n",
              "      <td>nissan</td>\n",
              "      <td>versa</td>\n",
              "      <td>2018</td>\n",
              "      <td>clean vehicle</td>\n",
              "      <td>32557.0</td>\n",
              "      <td>black</td>\n",
              "      <td>3n1cn7ap3jl883263</td>\n",
              "      <td>167762227</td>\n",
              "      <td>florida</td>\n",
              "      <td>usa</td>\n",
              "      <td>2 days left</td>\n",
              "    </tr>\n",
              "    <tr>\n",
              "      <th>2498</th>\n",
              "      <td>2498</td>\n",
              "      <td>9200</td>\n",
              "      <td>nissan</td>\n",
              "      <td>versa</td>\n",
              "      <td>2018</td>\n",
              "      <td>clean vehicle</td>\n",
              "      <td>31371.0</td>\n",
              "      <td>silver</td>\n",
              "      <td>3n1cn7ap4jl884311</td>\n",
              "      <td>167762228</td>\n",
              "      <td>florida</td>\n",
              "      <td>usa</td>\n",
              "      <td>21 hours left</td>\n",
              "    </tr>\n",
              "  </tbody>\n",
              "</table>\n",
              "<p>2499 rows × 13 columns</p>\n",
              "</div>\n",
              "      <button class=\"colab-df-convert\" onclick=\"convertToInteractive('df-ee82c665-5e3e-4e61-bc3f-96d9a53c0a87')\"\n",
              "              title=\"Convert this dataframe to an interactive table.\"\n",
              "              style=\"display:none;\">\n",
              "        \n",
              "  <svg xmlns=\"http://www.w3.org/2000/svg\" height=\"24px\"viewBox=\"0 0 24 24\"\n",
              "       width=\"24px\">\n",
              "    <path d=\"M0 0h24v24H0V0z\" fill=\"none\"/>\n",
              "    <path d=\"M18.56 5.44l.94 2.06.94-2.06 2.06-.94-2.06-.94-.94-2.06-.94 2.06-2.06.94zm-11 1L8.5 8.5l.94-2.06 2.06-.94-2.06-.94L8.5 2.5l-.94 2.06-2.06.94zm10 10l.94 2.06.94-2.06 2.06-.94-2.06-.94-.94-2.06-.94 2.06-2.06.94z\"/><path d=\"M17.41 7.96l-1.37-1.37c-.4-.4-.92-.59-1.43-.59-.52 0-1.04.2-1.43.59L10.3 9.45l-7.72 7.72c-.78.78-.78 2.05 0 2.83L4 21.41c.39.39.9.59 1.41.59.51 0 1.02-.2 1.41-.59l7.78-7.78 2.81-2.81c.8-.78.8-2.07 0-2.86zM5.41 20L4 18.59l7.72-7.72 1.47 1.35L5.41 20z\"/>\n",
              "  </svg>\n",
              "      </button>\n",
              "      \n",
              "  <style>\n",
              "    .colab-df-container {\n",
              "      display:flex;\n",
              "      flex-wrap:wrap;\n",
              "      gap: 12px;\n",
              "    }\n",
              "\n",
              "    .colab-df-convert {\n",
              "      background-color: #E8F0FE;\n",
              "      border: none;\n",
              "      border-radius: 50%;\n",
              "      cursor: pointer;\n",
              "      display: none;\n",
              "      fill: #1967D2;\n",
              "      height: 32px;\n",
              "      padding: 0 0 0 0;\n",
              "      width: 32px;\n",
              "    }\n",
              "\n",
              "    .colab-df-convert:hover {\n",
              "      background-color: #E2EBFA;\n",
              "      box-shadow: 0px 1px 2px rgba(60, 64, 67, 0.3), 0px 1px 3px 1px rgba(60, 64, 67, 0.15);\n",
              "      fill: #174EA6;\n",
              "    }\n",
              "\n",
              "    [theme=dark] .colab-df-convert {\n",
              "      background-color: #3B4455;\n",
              "      fill: #D2E3FC;\n",
              "    }\n",
              "\n",
              "    [theme=dark] .colab-df-convert:hover {\n",
              "      background-color: #434B5C;\n",
              "      box-shadow: 0px 1px 3px 1px rgba(0, 0, 0, 0.15);\n",
              "      filter: drop-shadow(0px 1px 2px rgba(0, 0, 0, 0.3));\n",
              "      fill: #FFFFFF;\n",
              "    }\n",
              "  </style>\n",
              "\n",
              "      <script>\n",
              "        const buttonEl =\n",
              "          document.querySelector('#df-ee82c665-5e3e-4e61-bc3f-96d9a53c0a87 button.colab-df-convert');\n",
              "        buttonEl.style.display =\n",
              "          google.colab.kernel.accessAllowed ? 'block' : 'none';\n",
              "\n",
              "        async function convertToInteractive(key) {\n",
              "          const element = document.querySelector('#df-ee82c665-5e3e-4e61-bc3f-96d9a53c0a87');\n",
              "          const dataTable =\n",
              "            await google.colab.kernel.invokeFunction('convertToInteractive',\n",
              "                                                     [key], {});\n",
              "          if (!dataTable) return;\n",
              "\n",
              "          const docLinkHtml = 'Like what you see? Visit the ' +\n",
              "            '<a target=\"_blank\" href=https://colab.research.google.com/notebooks/data_table.ipynb>data table notebook</a>'\n",
              "            + ' to learn more about interactive tables.';\n",
              "          element.innerHTML = '';\n",
              "          dataTable['output_type'] = 'display_data';\n",
              "          await google.colab.output.renderOutput(dataTable, element);\n",
              "          const docLink = document.createElement('div');\n",
              "          docLink.innerHTML = docLinkHtml;\n",
              "          element.appendChild(docLink);\n",
              "        }\n",
              "      </script>\n",
              "    </div>\n",
              "  </div>\n",
              "  "
            ]
          },
          "metadata": {},
          "execution_count": 18
        }
      ]
    },
    {
      "cell_type": "markdown",
      "source": [
        "Q1"
      ],
      "metadata": {
        "id": "F1EOwnqYJraf"
      }
    },
    {
      "cell_type": "code",
      "source": [
        "us_dodge_cars_df = us_cars_df[us_cars_df['brand']=='dodge']\n",
        "list_of_lists_mileage = [[n] for n in us_dodge_cars_df['mileage'].values]\n",
        "linreg_us_dodge_cars = LinearRegression()\n",
        "linreg_us_dodge_cars.fit(list_of_lists_mileage,us_dodge_cars_df['price'].values)\n",
        "x = np.array(us_dodge_cars_df['mileage']).reshape(-1,1)\n",
        "plt.scatter(us_dodge_cars_df['mileage'],us_dodge_cars_df['price'])\n",
        "plt.xlabel(\"mileage value\")\n",
        "plt.ylabel(\"price\")\n",
        "plt.title(\"dodge prices by milage value - Linear Regression model\")\n",
        "plt.plot(x,linreg_us_dodge_cars.predict(x),color = 'red')"
      ],
      "metadata": {
        "colab": {
          "base_uri": "https://localhost:8080/",
          "height": 313
        },
        "id": "DnweXPJLXpy2",
        "outputId": "94be2c2b-3a6a-4a17-dc77-17f6402d6c1f"
      },
      "execution_count": 19,
      "outputs": [
        {
          "output_type": "execute_result",
          "data": {
            "text/plain": [
              "[<matplotlib.lines.Line2D at 0x7fd01b582a00>]"
            ]
          },
          "metadata": {},
          "execution_count": 19
        },
        {
          "output_type": "display_data",
          "data": {
            "text/plain": [
              "<Figure size 432x288 with 1 Axes>"
            ],
            "image/png": "[encoded data removed]"
          },
          "metadata": {
            "needs_background": "light"
          }
        }
      ]
    },
    {
      "cell_type": "code",
      "source": [
        "us_toyota_cars_df = us_cars_df[us_cars_df['brand']=='toyota'] \n",
        "list_of_lists_mileage = [[n] for n in us_toyota_cars_df['mileage'].values]\n",
        "linreg_us_toyota_cars = LinearRegression()\n",
        "linreg_us_toyota_cars.fit(list_of_lists_mileage,us_toyota_cars_df['price'].values)\n",
        "x = np.array(us_toyota_cars_df['mileage']).reshape(-1,1)\n",
        "plt.scatter(us_toyota_cars_df['mileage'],us_toyota_cars_df['price'])\n",
        "plt.xlabel(\"mileage value\")\n",
        "plt.ylabel(\"price\")\n",
        "plt.title(\"toyota prices by milage value - Linear Regression model\")\n",
        "plt.plot(x,linreg_us_toyota_cars.predict(x),color = 'red')"
      ],
      "metadata": {
        "colab": {
          "base_uri": "https://localhost:8080/",
          "height": 313
        },
        "id": "M4xS8VE7ZWTc",
        "outputId": "0f0a5e50-eb9c-4f2a-de6d-857c030b4b25"
      },
      "execution_count": 20,
      "outputs": [
        {
          "output_type": "execute_result",
          "data": {
            "text/plain": [
              "[<matplotlib.lines.Line2D at 0x7fd01b638490>]"
            ]
          },
          "metadata": {},
          "execution_count": 20
        },
        {
          "output_type": "display_data",
          "data": {
            "text/plain": [
              "<Figure size 432x288 with 1 Axes>"
            ],
            "image/png": "[encoded data removed]"
          },
          "metadata": {
            "needs_background": "light"
          }
        }
      ]
    },
    {
      "cell_type": "markdown",
      "source": [
        "Q2"
      ],
      "metadata": {
        "id": "o4Yn6_iwRSsC"
      }
    },
    {
      "cell_type": "code",
      "source": [
        "import plotly.express as px\n",
        "us_ford_cars_df = us_cars_df[us_cars_df['brand']=='ford']\n",
        "data_points_list = [row.values for index,row in us_ford_cars_df[['mileage','year']].iterrows()]\n",
        "mlinreg_us_ford_cars = LinearRegression()\n",
        "mlinreg_us_ford_cars.fit(data_points_list,us_ford_cars_df['price'].values)\n",
        "us_ford_cars_df['predict price'] = mlinreg_us_ford_cars.predict([row.values for index,row in us_ford_cars_df[['mileage','year']].iterrows()])"
      ],
      "metadata": {
        "colab": {
          "base_uri": "https://localhost:8080/"
        },
        "id": "YDOObbykRUj-",
        "outputId": "9c451686-bc7d-4c4d-9d1b-84e2bb9f5e1b"
      },
      "execution_count": 21,
      "outputs": [
        {
          "output_type": "stream",
          "name": "stderr",
          "text": [
            "<ipython-input-21-a4c294304887>:6: SettingWithCopyWarning: \n",
            "A value is trying to be set on a copy of a slice from a DataFrame.\n",
            "Try using .loc[row_indexer,col_indexer] = value instead\n",
            "\n",
            "See the caveats in the documentation: https://pandas.pydata.org/pandas-docs/stable/user_guide/indexing.html#returning-a-view-versus-a-copy\n",
            "  us_ford_cars_df['predict price'] = mlinreg_us_ford_cars.predict([row.values for index,row in us_ford_cars_df[['mileage','year']].iterrows()])\n"
          ]
        }
      ]
    },
    {
      "cell_type": "markdown",
      "source": [
        "Q3"
      ],
      "metadata": {
        "id": "FhDs98mbbtHG"
      }
    },
    {
      "cell_type": "code",
      "source": [
        "fig = px.scatter(us_ford_cars_df, x=\"mileage\", y=\"predict price\", color=\"year\",trendline=\"ols\")\n",
        "\n",
        "fig.show()"
      ],
      "metadata": {
        "colab": {
          "base_uri": "https://localhost:8080/",
          "height": 542
        },
        "id": "kOzTRVxma2dW",
        "outputId": "dd085b02-0c62-4f51-88d3-cb0c4a5395a5"
      },
      "execution_count": 22,
      "outputs": [
        {
          "output_type": "display_data",
          "data": {
            "text/html": [
              "<html>\n",
              "<head><meta charset=\"utf-8\" /></head>\n",
              "<body>\n",
              "    <div>            <script src=\"https://cdnjs.cloudflare.com/ajax/libs/mathjax/2.7.5/MathJax.js?config=TeX-AMS-MML_SVG\"></script><script type=\"text/javascript\">if (window.MathJax) {MathJax.Hub.Config({SVG: {font: \"STIX-Web\"}});}</script>                <script type=\"text/javascript\">window.PlotlyConfig = {MathJaxConfig: 'local'};</script>\n",
              "        <script src=\"https://cdn.plot.ly/plotly-2.8.3.min.js\"></script>                <div id=\"480b6b05-52a1-4f79-9734-e06d10e660cb\" class=\"plotly-graph-div\" style=\"height:525px; width:100%;\"></div>            <script type=\"text/javascript\">                                    window.PLOTLYENV=window.PLOTLYENV || {};                                    if (document.getElementById(\"480b6b05-52a1-4f79-9734-e06d10e660cb\")) {                    Plotly.newPlot(                        \"480b6b05-52a1-4f79-9734-e06d10e660cb\",                        [{\"hovertemplate\":\"mileage=%{x}<br>predict price=%{y}<br>year=%{marker.color}<extra></extra>\",\"legendgroup\":\"\",\"marker\":{\"color\":[2011,2014,2017,2013,2017,2013,2017,2013,2017,2008,2017,2003,2017,2003,2017,2017,2017,2017,2017,2017,2017,2017,2017,2016,2017,2016,2017,2017,2017,2015,2017,2018,2017,2018,2017,2018,2017,2017,2018,2017,2017,2017,2017,2017,2017,2017,2017,2014,2016,2016,2016,2016,2016,2016,2014,2014,2017,2014,2017,2015,2017,2017,2017,2017,2014,2017,2011,2017,2011,2017,2017,2017,2017,2017,2016,2017,2016,2017,2015,2017,2017,2017,2017,2014,2017,2014,2016,2012,2016,2011,2016,2011,2008,2016,2008,2016,2005,2016,2016,2012,2016,2003,2016,2011,2016,2019,2016,2019,2016,2019,2016,2019,2017,2000,2019,2017,2019,2006,2017,2017,2003,2017,1998,2013,2017,1994,1997,2017,1996,2006,2017,2002,2004,2015,2017,2015,2017,2009,2009,2015,2017,1994,2001,2015,2017,1997,1998,2015,2017,2015,2017,2006,2015,2017,2010,1998,2015,2017,2010,1984,2015,2019,2014,2017,2017,2004,2011,2017,2001,2017,2017,2010,2017,2014,2017,1996,2017,2010,2017,2008,2010,2017,2007,2017,2019,2019,2019,2019,2019,2019,2019,2019,2019,2019,2019,2019,2019,2019,2019,2019,2019,2019,2019,2019,2019,2019,2019,2019,2019,2019,2019,2019,2019,2019,2019,2019,2019,2019,2019,2019,2019,2019,2019,2019,2019,2019,2019,2019,2019,2017,2017,2017,2015,2017,2015,2016,2015,2017,2015,2015,2012,2015,2015,2014,2012,2015,2019,2018,2020,2018,2017,2020,2019,2016,2019,2018,2019,2019,2016,2019,2020,2016,2015,2014,2015,2013,2013,2013,2013,2012,2012,2018,2017,2019,2017,2012,2019,2016,2018,2019,2018,2019,2019,2019,2019,2019,2019,2019,2018,2019,2018,2019,2018,2018,2018,2018,2018,2018,2019,2018,2018,2019,2018,2018,2014,2017,2019,2017,2019,2017,2019,2017,2019,2017,2019,2017,2019,2019,2017,2019,2019,2019,2017,2019,2017,2019,2017,2019,2017,2017,2017,2017,2012,2016,2016,2019,2016,2019,2016,2019,2019,2016,2019,2016,2016,2019,2016,2019,2016,2015,2015,2015,2015,2015,2015,2015,2014,2014,2019,2013,2019,2013,2019,2017,2019,2019,2019,2019,2019,2019,2019,2019,2019,2018,2018,2014,2014,2012,2013,2019,2019,2019,2012,2019,2018,2019,2019,2019,2019,2019,2019,2019,2019,2019,2019,2019,2018,2019,2019,2019,2017,2019,2015,2018,2018,2019,2019,2018,2018,2018,2018,2018,2018,2018,2018,2018,2018,2018,2020,2020,2017,2017,2017,2017,2012,2017,2013,2020,2018,2017,2016,2020,2019,2017,2016,2019,2017,2013,2017,2017,2019,2017,2017,2017,2017,2016,2015,2016,2019,2019,2012,2015,2019,2015,2019,2018,2019,2019,2019,2019,2014,2019,2019,2019,2019,2013,2019,2019,2018,2019,2019,2016,2013,2019,2019,2015,2013,2019,2019,2014,2019,2019,2019,2014,2019,2019,2019,2017,2019,2019,2019,2015,2013,2019,2015,2019,2015,2019,2015,2018,2019,2015,2019,2015,2019,2019,2018,2019,2018,2019,2018,2019,2019,2018,2019,2019,2019,2019,2019,2019,2019,2017,2019,2019,2013,2019,2019,2019,2019,2019,2019,2019,2015,2019,2019,2014,2019,2019,2019,2019,2019,2019,2019,2019,2018,2019,2019,2018,2019,2018,2019,2017,2019,2017,2019,2017,2019,2016,2019,2016,2019,2016,2019,2016,2019,2016,2019,2019,2016,2019,2019,2016,2019,2019,2016,2019,2019,2016,2019,2019,2015,2019,2019,2013,2019,2019,2014,2019,2019,2013,2019,2019,2013,2019,2019,2017,2019,2018,2019,2019,2018,2019,2019,2015,2019,2015,2019,2013,2019,2019,2019,2012,2017,2019,2015,2018,2019,2016,2018,2019,2015,2017,2019,2019,2017,2019,2013,2019,2013,2019,2019,2019,2013,2019,2016,2015,2019,2017,2017,2015,2017,2016,2015,2017,2012,2015,2012,2019,2016,2014,2017,2019,2016,2014,2012,2019,2014,2014,2014,2014,2014,2013,2013,2014,2013,2016,2019,2019,2019,2020,2019,2020,2019,2020,2019,2019,2019,2019,2019,2016,2019,2014,2019,2013,2012,2019,2013,2019,2013,2019,2012,2019,2015,2019,2015,2019,2019,2014,2019,2019,2019,2019,2019,2013,2019,2019,2012,2020,2019,2019,2019,2019,2019,2019,2019,2019,2019,2019,2019,2019,2019,2019,2019,2019,2019,2019,2019,2019,2019,2019,2014,2019,2020,2013,2019,2020,2019,2019,2017,2019,2019,2015,2019,2015,2019,2020,2013,2019,2013,2019,2012,2019,2012,2019,2019,2012,2019,2019,2017,2019,2019,2019,2019,2019,2019,2019,2019,2019,2019,2019,2019,2017,2019,2019,2019,2017,2019,2017,2019,2017,2019,2016,2019,2016,2019,2016,2019,2016,2019,2016,2019,2016,2019,2019,2018,2013,2018,2015,2018,2019,2014,2018,2018,2016,2018,2016,2018,2018,2016,2019,2017,2019,2017,2016,2017,2017,2017,2017,2017,2017,2014,2013,2019,2019,2019,2019,2019,2019,2019,2019,2019,2019,2019,2019,2016,2019,2019,2019,2016,2019,2014,2019,2017,2019,2012,2019,2019,2016,2017,2017,2015,2016,2015,2016,2016,2014,2015,2013,2013,2015,2016,2017,2014,2014,2014,2013,2015,2013,2014,2013,2013,2014,2015,2013,2013,2019,2012,2012,2018,2015,2018,2019,2014,2019,2016,2019,2019,2015,2019,2015,2019,2017,2019,2019,2019,2016,2019,2019,2012,2019,2012,2019,2017,2019,2014,2016,2019,2016,2019,2016,2019,2013,2016,2019,2016,2015,2019,2016,2014,2019,2016,2019,2019,2019,2016,2019,2012,2019,2012,2016,2019,2014,2019,2013,2016,2019,2013,2019,2016,2019,2012,2019,2016,2019,2016,2019,2012,2016,2019,2019,2016,2019,2018,2019,2012,2019,2016,2018,2019,2016,2018,2018,2019,2017,2016,2018,2019,2017,2016,2018,2019,2018,2016,2018,2019,2018,2016,2018,2019,2016,2019,2018,2018,2019,2016,2019,2018,2018,2019,2017,2019,2018,2018,2019,2017,2019,2018,2018,2019,2017,2019,2018,2018,2017,2019,2014,2018,2014,2017,2019,2017,2018,2014,2017,2019,2012,2018,2019,2017,2019,2015,2018,2019,2017,2019,2015,2018,2019,2013,2019,2015,2018,2015,2018,2015,2018,2015,2018,2016,2015,2018,2015,2018,2020,2016,2015,2014,2012,2016,2015,2012,2016,2015,2015,2015,2015,2015,2020,2015,2015,2015,2015,2014,2015,2015,2015,2015,2017,2015,2015,2015,2015,2015,2015,2015,2015,2019,2015,2019,2015,2019,2015,2019,2015,2019,2015,2019,2015,2019,2015,2019,2015,2019,2015,2019,2015,2019,2014,2015,2019,2015,2015,2019,2018,2015,2015,2016,2015,2015,2015,2017,2015,2017,2015,2017,2015,2017,2018,2017,2020,2017,2017,2019,2018,2017,2018,2017,2017,2018,2017,2018,2018,2019,2018,2016,2018,2019,2016,2018,2012,2016,2018,2015,2015,2018,2015,2018,2015,2018,2019,2015,2018,2018,2017,2018,2016,2018,2014,2018,2019,2018,2019,2018,2019,2017,2018,2019,2017,2018,2019,2016,2018,2018,2019,2015,2018,2015,2018,2018,2014,2018,2019,2018,2019,2018,2019,2018,2017,2018,2019,2018,2019,2018,2019,2018,2019,2018,2019,2018,2019,2018,2019,2018,2019,2018,2019,2018,2019,2018,2019,2018,2019,2018,2019,2018,2019,2018,2019,2018,2019,2018,2019,2019,2019,2019,2019,2019,2018,2019,2018,2019,2018,2019,2018,2019],\"coloraxis\":\"coloraxis\",\"symbol\":\"circle\"},\"mode\":\"markers\",\"name\":\"\",\"showlegend\":false,\"x\":[190552.0,64146.0,63418.0,100757.0,35714.0,54380.0,46010.0,105510.0,44174.0,93698.0,37792.0,58817.0,32366.0,176567.0,38123.0,15273.0,26241.0,44794.0,29942.0,25602.0,31792.0,36732.0,36139.0,84413.0,17617.0,36855.0,110316.0,120353.0,39333.0,42930.0,44929.0,16971.0,40455.0,23164.0,45191.0,21405.0,42104.0,29882.0,34819.0,29168.0,21770.0,30318.0,48086.0,57611.0,84916.0,24521.0,35888.0,204155.0,86826.0,62774.0,72885.0,33514.0,77638.0,24157.0,47055.0,75785.0,42289.0,79422.0,66582.0,61436.0,55618.0,40747.0,37176.0,72445.0,123355.0,60219.0,135077.0,76858.0,309564.0,90618.0,31563.0,126523.0,209915.0,55854.0,45757.0,112893.0,126802.0,34061.0,70251.0,42426.0,41455.0,38815.0,61027.0,178703.0,37321.0,112789.0,68142.0,90711.0,66781.0,190994.0,32486.0,195908.0,62015.0,73321.0,132379.0,33291.0,225236.0,36876.0,84035.0,131101.0,101380.0,142027.0,111476.0,76897.0,31944.0,18937.0,57289.0,19956.0,21034.0,22881.0,37252.0,15958.0,30553.0,124969.0,15854.0,67279.0,16482.0,26914.0,67217.0,78698.0,246065.0,50732.0,186855.0,94004.0,49024.0,0.0,203297.0,46955.0,296860.0,203158.0,57186.0,214800.0,236980.0,102700.0,53270.0,143818.0,67347.0,180364.0,184889.0,124542.0,47129.0,206162.0,229886.0,100893.0,90304.0,146912.0,131367.0,50593.0,62387.0,82899.0,76418.0,240740.0,82534.0,55732.0,198596.0,300021.0,74754.0,27661.0,115241.0,41577.0,26911.0,21527.0,56461.0,35905.0,35747.0,167011.0,116480.0,72084.0,295780.0,34165.0,25698.0,155242.0,19850.0,116535.0,18647.0,252588.0,27773.0,86841.0,14053.0,145483.0,185983.0,28464.0,154989.0,36295.0,15630.0,14786.0,16146.0,15265.0,16059.0,15569.0,17488.0,18550.0,17644.0,17684.0,16600.0,17801.0,17159.0,17983.0,17851.0,18174.0,18759.0,18901.0,21157.0,23964.0,20154.0,23294.0,20343.0,19100.0,20014.0,21774.0,21201.0,21766.0,17977.0,22805.0,14382.0,9660.0,18969.0,24730.0,15847.0,25009.0,11836.0,25508.0,18196.0,16106.0,12735.0,17417.0,17025.0,15805.0,11342.0,92100.0,99375.0,72418.0,29733.0,119439.0,54396.0,91606.0,2807.0,78739.0,71955.0,48472.0,98470.0,28937.0,83693.0,90888.0,216942.0,205796.0,6500.0,39943.0,5920.0,71478.0,119520.0,10882.0,29010.0,69003.0,16207.0,29748.0,25582.0,24520.0,104383.0,34164.0,6975.0,67150.0,100820.0,142286.0,60015.0,126381.0,128753.0,0.0,64598.0,111532.0,149346.0,43567.0,36004.0,10935.0,150484.0,122014.0,19363.0,42902.0,401.0,11077.0,34100.0,30018.0,18279.0,7373.0,2590.0,41662.0,15019.0,9420.0,41864.0,16829.0,6290.0,14393.0,14599.0,25839.0,60715.0,23350.0,62386.0,6248.0,878.0,49710.0,2042.0,7742.0,39733.0,33701.0,67542.0,35095.0,8652.0,51107.0,14987.0,28252.0,16009.0,47866.0,11004.0,42895.0,9490.0,39027.0,13466.0,8737.0,23960.0,5562.0,13763.0,10444.0,41696.0,15787.0,9167.0,17541.0,24686.0,15210.0,54601.0,2205.0,35691.0,32788.0,180471.0,42925.0,37385.0,15415.0,20047.0,16884.0,57936.0,15244.0,19842.0,38830.0,31899.0,69305.0,46098.0,29457.0,30765.0,29096.0,40437.0,69004.0,65179.0,75862.0,68319.0,80354.0,51441.0,70954.0,92500.0,66367.0,13884.0,202565.0,26484.0,703.0,18138.0,28007.0,11251.0,11640.0,10763.0,9643.0,33930.0,26451.0,21101.0,10536.0,31744.0,18062.0,17942.0,43646.0,71989.0,138328.0,95386.0,23740.0,36064.0,18805.0,151035.0,10099.0,9800.0,10483.0,17544.0,10167.0,11457.0,26590.0,35346.0,12953.0,26693.0,25071.0,33538.0,9915.0,1.0,9910.0,16765.0,4970.0,43964.0,40785.0,108998.0,58576.0,55475.0,35929.0,21669.0,16079.0,41147.0,45798.0,21703.0,22284.0,24567.0,30594.0,52747.0,21592.0,19853.0,25201.0,10351.0,1117.0,37279.0,30113.0,27570.0,45188.0,149712.0,25030.0,105743.0,9861.0,1751.0,30629.0,52883.0,122.0,28534.0,80699.0,72851.0,24078.0,38639.0,146807.0,31871.0,76876.0,28070.0,3189.0,28359.0,42890.0,29328.0,47531.0,57345.0,67546.0,18153.0,17689.0,137171.0,63445.0,26422.0,149319.0,18767.0,38289.0,22960.0,17263.0,16981.0,13058.0,45887.0,21740.0,17707.0,19121.0,18856.0,84752.0,19555.0,16340.0,17242.0,28733.0,16019.0,75580.0,113444.0,19227.0,13633.0,37739.0,103541.0,24072.0,17657.0,77392.0,11930.0,19731.0,15581.0,70181.0,16143.0,17995.0,23926.0,57929.0,20758.0,10028.0,21051.0,136307.0,105880.0,19985.0,102590.0,27612.0,90855.0,19936.0,64495.0,39477.0,25698.0,73849.0,25422.0,47866.0,31236.0,26755.0,49177.0,20749.0,15003.0,12247.0,1.0,10808.0,11263.0,42307.0,17484.0,37106.0,9539.0,2384.0,20590.0,13896.0,9451.0,31657.0,33907.0,10028.0,175640.0,30770.0,15141.0,18431.0,9604.0,9516.0,9718.0,16506.0,192108.0,11028.0,11313.0,141595.0,12886.0,9556.0,13269.0,16770.0,13526.0,16391.0,11437.0,17964.0,5440.0,13035.0,15759.0,30002.0,13673.0,24480.0,13230.0,137789.0,13516.0,81660.0,11763.0,34165.0,13458.0,104867.0,14004.0,69829.0,13405.0,96151.0,12688.0,116519.0,12260.0,29367.0,18982.0,23795.0,76572.0,15964.0,28117.0,116730.0,21055.0,27794.0,56995.0,16625.0,27689.0,39851.0,31727.0,31586.0,33717.0,18418.0,39013.0,125451.0,21346.0,21150.0,103862.0,22001.0,31261.0,140870.0,14358.0,41672.0,95655.0,19493.0,36956.0,23223.0,13085.0,36124.0,19147.0,24993.0,41127.0,32365.0,27774.0,105027.0,27806.0,54198.0,30181.0,82670.0,36305.0,10475.0,34734.0,186713.0,132150.0,12928.0,116539.0,59549.0,12174.0,96129.0,89809.0,18202.0,128505.0,43527.0,15792.0,9278.0,41925.0,16924.0,119869.0,17260.0,89490.0,40772.0,25623.0,11669.0,138524.0,13644.0,147935.0,44456.0,20357.0,66366.0,43532.0,45218.0,85688.0,58902.0,59869.0,35021.0,100264.0,157057.0,181316.0,23222.0,87686.0,162918.0,0.0,32526.0,69402.0,76336.0,163334.0,47628.0,135283.0,147903.0,74181.0,77386.0,123349.0,136661.0,109600.0,125369.0,122861.0,110826.0,12198.0,45512.0,15656.0,23984.0,15821.0,12748.0,9865.0,17858.0,6711.0,14939.0,15820.0,6140.0,25552.0,54984.0,24783.0,148442.0,34191.0,82072.0,104559.0,13265.0,133314.0,22458.0,70106.0,23712.0,101848.0,14994.0,59726.0,16448.0,28801.0,28938.0,19022.0,93832.0,25046.0,22318.0,17301.0,27413.0,39733.0,74195.0,44383.0,19151.0,188394.0,2452.0,36252.0,27136.0,35951.0,35221.0,33808.0,32022.0,34173.0,24272.0,19055.0,34822.0,15422.0,24765.0,23019.0,38243.0,16509.0,18762.0,28854.0,17392.0,13558.0,27082.0,17510.0,24662.0,96076.0,22858.0,740.0,110748.0,25090.0,7.0,34277.0,34527.0,99923.0,39170.0,16569.0,80612.0,36616.0,92165.0,44778.0,2089.0,91652.0,35801.0,88781.0,36978.0,189776.0,35233.0,151641.0,37044.0,15835.0,201187.0,41928.0,37059.0,33763.0,29850.0,26675.0,17828.0,29632.0,11544.0,21976.0,43617.0,49254.0,51589.0,41399.0,11734.0,41628.0,15075.0,26591.0,22906.0,33462.0,32747.0,33717.0,85218.0,23512.0,57853.0,33324.0,23803.0,31260.0,69428.0,15755.0,90946.0,51370.0,99941.0,15456.0,141603.0,2382.0,99544.0,21546.0,16293.0,40375.0,143191.0,363.0,59656.0,37878.0,20628.0,71205.0,26186.0,38157.0,30325.0,31561.0,66655.0,19029.0,11739.0,50423.0,25638.0,59798.0,5035.0,32284.0,40371.0,107569.0,96451.0,94851.0,108727.0,91979.0,76258.0,147574.0,104764.0,16934.0,13822.0,5250.0,33451.0,14291.0,16725.0,13002.0,18902.0,9732.0,18947.0,8402.0,17450.0,53986.0,15848.0,10770.0,14587.0,98625.0,10916.0,107173.0,10134.0,43056.0,10655.0,173601.0,14231.0,8985.0,84338.0,104290.0,45592.0,103960.0,110333.0,138516.0,49094.0,97526.0,87420.0,67052.0,58913.0,999999.0,14482.0,57084.0,90251.0,97320.0,80652.0,99816.0,115429.0,85549.0,83030.0,130168.0,80090.0,118593.0,143704.0,53507.0,48408.0,109672.0,28549.0,114500.0,67140.0,42168.0,80032.0,52240.0,34874.0,119689.0,37355.0,100947.0,26040.0,36638.0,137004.0,31794.0,131106.0,22013.0,42291.0,13155.0,24869.0,18454.0,16694.0,28922.0,23534.0,24581.0,35646.0,129873.0,28669.0,32454.0,21800.0,231769.0,23796.0,42506.0,6249.0,47496.0,10700.0,39604.0,250831.0,7275.0,8806.0,105115.0,57340.0,36167.0,44941.0,53102.0,26637.0,45814.0,17310.0,24116.0,14128.0,49882.0,38964.0,102705.0,71.0,98620.0,15825.0,29499.0,100255.0,174.0,167552.0,16956.0,36896.0,77281.0,24795.0,16771.0,28692.0,113821.0,19793.0,27940.0,24987.0,18367.0,14109.0,158781.0,27369.0,30208.0,24024.0,64999.0,8404.0,8884.0,24126.0,129659.0,31713.0,109996.0,6821.0,17867.0,110253.0,39364.0,4018.0,21054.0,48309.0,68666.0,34071.0,13600.0,44956.0,72607.0,33815.0,31491.0,32149.0,26654.0,36637.0,17000.0,15960.0,40774.0,40338.0,40505.0,30735.0,33965.0,7339.0,42470.0,40670.0,41233.0,13162.0,38744.0,14023.0,9741.0,31017.0,37786.0,32415.0,10421.0,29305.0,51309.0,38001.0,18849.0,43269.0,36989.0,29320.0,34244.0,32938.0,40793.0,94741.0,25011.0,363810.0,6881.0,80423.0,92405.0,15436.0,104665.0,16194.0,48188.0,65164.0,35930.0,167376.0,13674.0,9235.0,103002.0,12836.0,137728.0,6921.0,14359.0,58118.0,31124.0,25734.0,14059.0,13472.0,123983.0,35023.0,39509.0,4512.0,51884.0,4181.0,56703.0,4712.0,102800.0,7109.0,100943.0,3915.0,15550.0,62542.0,38370.0,671.0,61477.0,73891.0,168805.0,82564.0,85649.0,48374.0,11990.0,64111.0,28771.0,126708.0,27165.0,106546.0,54778.0,11729.0,85197.0,19130.0,72369.0,59646.0,68418.0,8400.0,45084.0,67037.0,64135.0,72377.0,39367.0,46540.0,40677.0,69438.0,96246.0,69719.0,75933.0,54325.0,24902.0,31793.0,16505.0,74361.0,27868.0,34011.0,19993.0,48115.0,22543.0,67091.0,28790.0,59391.0,18449.0,71824.0,19304.0,39159.0,18708.0,79430.0,12393.0,56329.0,12155.0,63291.0,36041.0,25810.0,130388.0,23878.0,15460.0,46710.0,65342.0,64061.0,93164.0,35629.0,118483.0,71573.0,33660.0,61168.0,42241.0,21004.0,45003.0,45278.0,1.0,24747.0,48707.0,2162.0,50874.0,70727.0,29382.0,33194.0,52084.0,51122.0,40286.0,55420.0,10282.0,85278.0,7258.0,93350.0,37166.0,69480.0,34679.0,24151.0,32796.0,67979.0,18690.0,78072.0,54251.0,32262.0,92358.0,90740.0,35225.0,129063.0,49985.0,52340.0,21406.0,16619.0,41293.0,37053.0,34532.0,13328.0,56836.0,48080.0,12271.0,97318.0,12717.0,12764.0,19951.0,32458.0,21616.0,17755.0,73846.0,15771.0,29168.0,159182.0,15296.0,30476.0,131754.0,26095.0,22107.0,31207.0,112810.0,19058.0,109137.0,24058.0,6967.0,118340.0,36145.0,33942.0,38868.0,36190.0,37177.0,39267.0,33350.0,57889.0,34081.0,26821.0,40577.0,52355.0,30620.0,22019.0,36742.0,32473.0,43406.0,34696.0,43519.0,37716.0,41627.0,29986.0,41496.0,20613.0,33475.0,32305.0,38148.0,39976.0,50513.0,31408.0,41351.0,32038.0,38279.0,30471.0,41569.0,31142.0,31598.0,31380.0,22179.0,29266.0,42156.0,30875.0,30609.0,29508.0,12837.0,29633.0,27461.0,74961.0,32154.0,37245.0,29345.0,25371.0,30054.0,11173.0,30902.0],\"xaxis\":\"x\",\"y\":[6323.490950459149,17544.932161772158,21284.47116733063,14133.32810670184,22933.75440471666,16894.25825037295,22320.80969593348,13850.37101648748,22430.111025121994,8393.234246035572,22810.046255449764,4309.448435851838,23133.068593237083,-2700.481581555214,22790.341059392318,24150.65444281278,23497.704018771183,22393.200990210753,23277.37492327718,23535.745167655405,23167.240141686983,22873.150508685037,22908.453171108384,18802.52373350691,24011.110697922762,21633.761540452484,18492.52468787087,17894.99884851044,22718.306959001347,20040.036237072665,22385.16412777081,25281.635066573042,22651.511702274904,24912.95144366147,22369.56666140491,25017.668784643523,22553.342915873975,23280.946862139273,24219.102319645695,23323.45293460181,23763.872996332124,23254.990773072932,22197.220611295663,21630.17531689396,20004.645472942386,23600.09959949227,22923.395782015752,9209.872358739842,18658.872258925345,20090.743484221864,19488.812253597658,21832.659002772532,19205.855163383298,22389.702868359163,18562.398946719244,16852.035554786213,22542.329437715,16635.516527411994,21096.11092465464,18938.331227288116,21748.823219439015,22634.128266477957,22846.71816110378,20747.07296548644,14020.0833600685,21474.91504100943,9626.046090294607,20484.35686215898,-761.5688476860523,19665.19221638795,23180.873041678686,17527.684468830004,12563.165708646644,21734.773593246937,21103.804877905175,18339.10991373239,16279.008459554985,23032.16132037528,18413.55387609126,22534.173510645982,22591.97938790219,22749.14469784638,21426.812930996064,10725.088824158069,22838.08597551938,14649.101793732028,19771.174020668026,13499.323243326973,19852.1975005297,6297.177667506505,21893.85822194768,6004.635874677915,10279.396562311333,19462.85616453085,6090.464793778025,21845.934708877467,-3133.7268026391976,21632.51136185089,18825.026948340237,11094.813065806404,17792.43895554263,-644.2354431157,17191.400709633715,13089.636140509043,21926.124736337923,26396.661030080635,20417.278228557203,26335.997601734474,22575.62228614604,26161.865582193714,21610.127211646643,26574.007794597186,23241.000679195393,-3324.932705237996,26580.199155292008,21054.616901536938,26542.812861865852,9904.907341984566,21058.30790502811,20374.817403712776,-6837.85836584121,22039.698107464705,-9473.2824996477,14535.349825662095,22141.379300413653,-3277.6378717627376,-11684.179306131322,22264.551658851095,-18486.267729366664,-587.3058723495342,21655.476550502237,-6208.647050538566,-5064.940796199255,16481.78980700532,21888.60509358626,14033.940104621463,21050.568704159465,4465.87318216078,4196.489459623117,15181.484996472951,22254.193036150187,-15550.938867504708,-8338.818038732745,16589.364699077327,19683.885363101028,-8327.449760216754,-6169.953439725563,19583.8401120333,21345.84898344893,17660.58916390268,20510.551080483012,-2824.6493111113086,17682.318458648864,21742.0365356002,4612.54652007902,-16210.31638796907,18145.479864470195,23413.16813236149,9574.862584630493,-18073.477842093445,20993.684381011873,26242.472335854545,18002.437997727655,22922.383732671384,22931.78983834246,-899.5242918431759,10733.1685406873,20768.564130974934,-12261.640362019185,23025.969959680457,23530.030065475497,7193.5104774008505,23878.17503992794,14426.093744091224,23949.792414118536,-15850.653107450344,23406.500513151754,11265.580312820151,24223.283866347745,5310.35334623605,5363.427601264324,23365.363683920354,3512.372672242578,22899.166130065918,26593.53439371148,26643.779667042196,26562.81571949506,26615.263688457664,26567.995030845515,26597.16586488858,26482.923353606835,26419.70003574295,26473.636312564835,26471.255019989796,26535.788048769813,26464.289739208296,26502.50948503567,26453.454857992474,26461.313123489264,26442.0841859472,26407.257782038767,26398.804193397984,26264.499292172957,26097.392085728236,26324.210203488823,26137.278736358043,26312.95859607216,26386.957262837794,26332.544727500994,26227.767854204867,26261.879870340228,26228.24411271978,26453.81205187831,26166.3900380861,26667.83072204888,26948.942310517654,26394.75599602051,26051.79033291852,26580.61588149285,26035.180817208253,26819.39999444224,26005.4741923362,26440.7744750306,26565.1970120701,26765.880443821196,26487.15014792746,26510.486815161537,26583.1162386965,26848.808957742527,19576.965326487552,19143.867739424575,20748.680337974336,20825.684189851396,17949.41138384724,19357.43872047309,18374.30779622309,22428.65128665557,20372.376578823663,18312.110812399536,19710.10815081792,13037.412016108166,20873.071912092157,17613.320506291,15952.919010812882,5984.499667724129,10344.246324419044,27137.064423935954,23914.05874079885,28403.659659836907,22036.707207050174,17944.58926638309,28108.26031591883,25796.99202740239,19719.916697992943,26559.18424831843,24520.99068583036,26001.06880107289,26064.292118936777,17613.66341548087,25490.162479124498,28340.853068173863,19830.23007652629,16593.710558026563,12893.07711667521,19022.92664601188,12607.872083211318,12466.661433518864,20131.625505970325,16285.95706211077,12259.800925769377,10008.645990073215,23698.313633511774,22916.49003354879,26873.03860969236,16101.230684141163,11635.783206513152,26371.30026415782,21273.76963543985,26268.08551573148,26864.58502105158,24261.906053679995,25736.98345451476,26435.833292937838,27085.09271348873,27369.83577313414,25043.789185956586,26629.90863779327,26963.230065967422,23799.69716488896,26522.155148778576,25917.49971638946,26667.175866590813,25422.845716265496,24753.702502714004,22677.453506645747,24901.878433188424,22577.975009328686,25920.00007359311,27471.75509534031,23332.606626319233,26170.392987845466,27063.12528948486,23926.56052681757,24285.65944711445,17342.76042216178,22970.60490731336,27008.95088340575,22017.373489574995,26631.813671853393,23377.984534567222,26570.971646564547,22210.317720457446,26868.930880000815,22506.252855204977,26959.062803961337,22736.52384719951,26722.362322014757,27003.890636683907,23633.497227855492,27192.905734817963,26704.68122464558,26902.268976049498,22577.632100138348,26584.187820354942,24514.158754373435,26479.768140945118,23590.276767620817,26618.53796574846,21809.367583156098,24928.622727037407,22935.12364794733,23107.94595657196,8155.702705217525,21272.40039220918,21602.209413834848,26606.333841301966,22634.380680432077,26518.880871488247,20378.760821158066,26616.513867059723,26342.78428557329,21516.185219565872,25625.003171179444,19701.93793905247,21083.504358704202,25770.381082877982,21996.313334983308,25791.872248366475,21420.51679036906,18487.79067211412,18715.501774590462,18079.51806014497,18528.570307459682,17812.09890398197,19533.356709444895,18371.70265908679,15856.952920043841,17412.71089154994,26697.477814606857,8072.462245028,25947.37065350823,20089.77428896632,26444.227349264547,23392.569951588754,26854.22639835067,26831.06832805928,26883.278167764656,26949.954359862022,25504.093040687963,25949.335219882894,26267.833101777826,26896.79200312728,25634.230679906905,25216.685311592184,25223.829189316835,18765.3446064163,17078.020220145583,10664.573029833846,14453.07616719883,26110.72732414771,25377.0510818162,26404.51929557789,9908.095911097713,26922.80762450816,25708.541292940732,26899.947215788998,26479.589544001967,26918.759427130688,26841.96274158964,25941.060228184797,25419.79528353596,26752.902399288025,25934.928399804514,26031.489813717082,25527.42970792204,26933.761570352595,26291.898441480473,26934.05923192436,26525.96521689836,27228.14886492677,22442.61281114025,25095.999025661964,16106.855291084852,22804.793127089273,22989.402833959553,25385.087944256607,26234.018747213762,25334.737890993245,23842.38183429418,23565.49704014603,24999.928154960275,24965.339880309533,24829.42760659661,24470.62634787103,23151.806987568736,25006.536241855938,25110.062936550006,24791.684119284153,28139.871974851005,28689.593365769833,22840.586332723033,23267.194897519425,23418.585572969634,22369.745258348063,9986.857163012959,23569.797651476692,13836.499987239018,28169.042808893602,26187.716891327873,23236.476223303005,20679.577605683822,28748.82801857125,25825.32940904377,20255.693242652807,19490.836352286395,26090.60540188942,22759.6223851759,11391.865029830951,23162.53708885191,20483.285280500073,25852.95240291301,24870.042929694522,23371.61457692925,22506.55051677674,23313.92776430212,20998.19455220783,19181.877925387584,19806.655280034523,26443.33436454879,26470.957358418033,10733.4519175631,18818.730807712767,25951.0616569994,13706.452843256295,26406.781523523852,24012.525188772008,26157.16252935864,26496.318124340847,26513.1062369938,26746.651506278664,18631.932689906564,26229.791952893138,26469.885776759125,26385.707084235735,26401.483147544786,15086.14279823983,26359.870059798006,26551.2664505071,25265.50180937769,25813.48247848358,26570.376323420554,19328.372666362673,13378.041634253226,26379.3966589123,26712.420425514225,20349.06848098198,13967.590143487789,26090.962595775723,26472.86239247769,16756.367125588935,26813.80395689141,26349.392372468486,26596.451477115974,17185.65464453213,26562.994316438213,26452.74047021987,26099.654313674197,21611.244040923193,26288.25268560741,26927.03441882832,26270.80971749639,14481.087317876052,13828.344060169533,26334.271164617967,16488.338361586444,25880.21820289595,17186.950070752297,26337.188248021994,18756.221877621487,23941.800799296703,25994.163052605465,18199.35660897754,26010.593971372582,19746.184733327944,25664.47309560841,25931.237396313343,23364.33734988002,26288.788476436865,25398.794661258813,26794.93221323518,26291.898441480473,26880.599213617854,26853.512010578066,23773.324349621776,26483.161482864525,25315.018410239834,26956.145720556844,27382.099429894704,26298.254114422016,26696.76342683425,26961.384564221837,23175.27700412739,25505.462283918634,26927.03441882832,9675.369809517637,25692.215154106263,26622.645695440006,26426.784381153062,26952.276120122522,26957.514963787515,26945.489436284173,26541.384086321108,11159.124643554911,26867.502104455605,26850.5353948595,12934.213945907075,26756.89106435096,26955.133671212476,26734.09018794587,26525.667555326596,26718.790383152198,26548.230302473996,26843.15338787716,26454.585971965455,25968.102183606476,26748.020749509335,26585.854725157376,24505.86947797984,26710.039132939186,24834.606917947065,26736.41194820637,16856.993415105157,26719.385706295725,20198.482688540593,26823.745853391476,23025.969959680457,26722.83858052967,17584.84977532411,26690.33393688174,19670.743006321136,26725.99379319139,18103.733427398372,26768.67846259661,16891.179248251487,26794.158293148037,22079.53951047687,26393.982075933833,26107.453046856914,19269.316610504873,26573.650600710884,25850.154384137597,16878.61792991869,26270.5715882387,25869.38332168013,20434.78072898276,26534.29974091053,25875.634214689024,21455.402726591565,25635.242729251273,25643.636785577983,20588.5074493899,26427.558301240206,25201.490286730696,12663.237135577947,26253.247684756294,26264.916018373333,15180.546764139086,26214.254018842243,25662.984787749127,11745.30838026246,26669.25949759409,25043.19386281306,14437.061974632554,26363.561063289177,25323.948257395532,23677.372543548234,26745.04413379077,24141.41264938889,26384.15924406238,26036.133334238548,23843.5724805817,25597.26111268159,25870.573967967182,16343.258111459669,25868.668933907524,19369.22611871874,25727.27968727192,15210.089076764416,25362.70379405236,26900.423474303912,25456.229059932288,7784.101998901926,17192.696135853417,26754.390707147308,15657.922108399216,22746.868185204454,26799.278072184417,18105.043138314504,20945.42035228107,26440.417281144764,14945.558434613049,22468.628432521597,26583.89015878318,26971.683654608205,22563.999200146645,26516.499578913208,12995.546514407732,26496.496721284,14804.078692741226,25096.772945748642,25998.627976183314,26829.34189094277,11884.971189781558,26711.76557005616,15020.912059912924,19949.18992533954,26312.125143670943,21108.9699045592,22468.330770949367,19903.826301787514,19958.68652624637,20321.252605473623,19031.618363910355,22975.010298577137,12930.611044123303,13245.791794638615,8105.397899572272,26141.56506299274,18607.6744685648,11664.806406534277,25059.891480229795,25587.67641006736,19696.16330455849,16819.233249566983,9175.907976625487,24688.619398408104,13309.98191422876,12558.68410684308,16947.52538704034,16756.724319475237,14020.440553954802,11995.879891457967,13606.88385070255,13900.185278921388,12817.425829804037,17230.096713976003,26797.849296639208,24814.589775621425,26591.986553538125,27328.267933005467,26582.163721666206,27997.173017298803,26936.73818607116,27692.96289085364,27124.50310560316,26634.671222943347,26582.223253980745,27158.496057110373,26002.85477050394,20554.500213186722,26048.635120256804,12526.59618939599,25488.555106636602,15245.68940075906,12674.919753891416,26734.32831720356,12195.134547664318,26187.047751173843,15958.053074545227,26112.394228950143,12836.31185815623,26631.396945653018,19040.131484865677,26544.83696055459,20881.168306847103,25801.278354037553,26391.600783358794,15777.655877299141,26032.978121576365,26195.382275186013,26494.05589639442,25892.06513345614,25158.627020382322,15714.625441074371,24881.801758548245,26383.92111480469,7684.028178441338,28610.117726081982,25365.859006714076,25908.55558453733,25383.778233340476,25427.236822832376,25511.355983041227,25617.680696511175,25489.62668829551,26079.056132900994,26389.636216984596,25450.990216267295,26605.917115101125,26049.706701915246,26153.65012281062,25247.330168797635,26541.205489377957,26407.079185095616,25806.279068444856,26488.638455786742,26716.885349092074,25911.770329513587,26481.613642690703,26055.838530295994,15644.065363846254,26163.234825424384,28712.03704828862,13538.54075380275,26030.3586997441,28755.674234723672,25483.435327600688,25468.552249007393,19111.244031148497,25192.143713374157,26537.6335505154,17796.73956687376,25344.189244282432,17108.96273892373,24858.286494371016,28631.727956199553,14675.369829067029,25392.708080496173,14846.287103631534,25322.6385464794,7601.754519977607,25426.522435060237,9872.019328587689,25318.709413731005,26581.33026926499,6922.431280668825,25027.95359033346,25317.81642901525,23049.90195005806,25746.984883329365,25935.999981462955,26462.682366719935,25759.962927862536,26836.783430239186,26215.742326701526,24927.40351135796,24591.819855237845,24452.81190117728,25059.446184637025,26825.47229050845,25045.813284645323,24162.441841058433,25941.000695870724,26160.37727433443,25531.95416381443,23110.38678146107,25516.77342364937,19986.666714001447,26124.300691824406,21615.76849681558,25540.169623197988,22410.77730764728,25663.044320063666,19694.615464384668,26586.092854415067,18413.599123708904,24465.84947802499,17878.10595592484,26603.89301641239,15397.870674522128,27382.218494523782,17901.740284731146,26241.341221881565,26554.064469282515,23888.340780989733,11607.133878603112,26270.34774367744,19044.298746871762,24036.992969979066,26295.991886476055,17124.693554614205,24733.04478962673,24020.3834542688,22022.50755330734,24413.058599872515,19859.698572140653,25159.117563593667,25593.108135371935,20826.02709904127,25997.734991468024,21499.97814536048,27224.27926449245,23137.950243015774,21424.445923117455,18656.0599554535,19317.940226651262,19413.1919296477,18587.121535409708,19584.168736526743,20520.076250782702,12578.270238271449,13894.782123009674,26515.904255769216,26701.168818098027,27211.479816901963,25532.609019272495,26673.248162657022,26528.3465094734,26749.985315883532,26398.744661083445,26944.655983882956,26396.065706936643,27023.833961999044,26485.185581552796,20613.913462930825,26580.55634917831,26882.861441563815,26655.626597602386,17956.45048163971,26874.16972366534,14983.43527125055,26920.723993504886,22496.668152591214,26889.707657716703,8564.68970495928,26676.820101519115,26989.126622719225,18806.988657085225,18851.266414281912,22345.69420334138,16406.779090895783,17259.446144962218,14349.58043542644,20905.145544842817,18021.876495135482,16159.377077057958,18603.99774977006,16624.398269320838,-39400.629334595986,21733.611516352277,20429.482353003696,19687.040575762745,15570.007164766546,16562.291780733503,15421.414508091751,13259.869990223087,17502.828530814964,15188.657443589997,13614.489702246152,15363.682447846513,13071.509747547098,12808.660294894595,19410.362947950605,17249.785231807735,13602.597524067853,25824.43642432848,12083.109016710892,14902.559425410349,23781.59934131941,17831.26830920996,23181.989870955702,25447.894535920117,14238.328824559227,25300.194863960613,17818.21644766582,25973.803001089953,25342.8795333663,14439.59329475835,25631.25406418834,14790.714884929359,26213.539631069638,22542.21037308639,26740.876871784683,26043.515341220424,26425.415137922857,22833.992530524265,25802.230871067382,26122.990980908275,17436.195192805957,25401.9355892241,11167.918747856282,25817.29254660383,23127.829749572556,26226.220014031045,7565.947029646952,22411.19403384812,24993.54391262587,23455.80755414907,24696.47766390536,23190.82922287518,25166.306688936427,5199.075559506193,23394.727399602532,26999.78290699236,17570.085761359893,19182.175586959347,25370.919253435917,21152.383246433455,18202.407041706145,25938.262209409382,21100.411535985768,26493.520105564967,26088.34317394346,26682.951929899864,20858.23408111697,25204.407370134722,12785.292664738838,27519.79767303914,13028.482168952003,22885.726111714263,25767.88072567433,15395.279822081793,27513.665844658855,10156.867168165278,22818.395064158365,25327.52019625809,15530.908718919847,26047.9207324842,22829.40854231734,25815.923303373158,12123.531458170153,26345.701368977316,22164.492123086937,26036.490528124385,22734.394968578126,26684.083043872844,9446.958603965119,22198.485074593686,25725.67231478356,26093.820146865677,19958.284084741957,27023.714897369966,25763.072892906144,26087.747850799467,11180.658663132228,25636.07618165249,17279.5085349055,25885.88805745775,26460.360606459435,17264.20873011183,23948.52795082098,26052.75713464478,26270.63112055324,22183.944905190263,19739.979087936692,24263.632490796503,26714.384991888423,22383.55675528245,19505.362236993387,24278.8727632761,25649.29235544335,24378.053599021398,22241.050679370295,24110.872572115622,26511.97512302082,25341.822236403823,21400.45440042531,23890.54347662162,25112.668073686305,21998.099304414354,25502.009409684688,25855.05031861225,23763.620582378935,25102.84524181485,21373.129068127833,26740.460145583842,23985.43798573222,25457.136329344008,26944.120193053503,23213.37768532615,25274.536436466035,24362.218003398273,25671.571725715417,25779.429994662292,22005.347962071653,25261.736988876015,25169.83338018041,23716.054263195023,25321.983691021334,23314.404022817034,25485.399893974885,24331.082602981012,23863.4562735823,19419.740484228823,26035.06175257964,-294.7592924628407,25882.31611859519,16575.92468072474,19558.807970603928,26605.083662699908,18828.941796392202,25327.891674840357,18494.948834534734,21180.527746435255,25385.02841194207,8935.278361930512,25477.91310706036,26974.243544126395,18927.94403519435,26759.867680069525,14396.491899152286,25879.93482602015,26669.19996527955,21599.99243350653,25671.140714818146,21063.753915028647,25454.99316602666,26722.005128128454,12750.630573077593,25439.024221078493,20243.696284542326,26023.348171344493,19506.983894177713,26043.05336740194,19220.097671214957,26011.44170847023,16475.836575568188,25868.742750918027,17818.454576923512,22362.689482330345,25366.23048529681,18872.4884875915,24007.70307130739,28716.144777980167,20167.95689596329,18196.85625177389,11314.339671820868,13984.3330085231,18728.941792942118,19715.94231762644,18185.766563074663,20011.1487799054,20882.95427627815,15052.53800354153,20978.56317316089,16252.828525927383,19334.697376382537,28057.836445644964,17523.783905474003,21456.905319147278,18287.464434249327,19044.89407001529,17290.610114771407,22095.687052368186,19911.803631913383,18604.89073448535,18777.65351079544,20751.121162863914,20252.14987318311,19825.12458218634,20174.16254135454,18461.95364767639,16866.011363968253,18445.22506733751,18075.291265824344,19361.665514793713,26041.550774846226,20703.047622243408,26541.44361863518,18168.876064018346,25864.977930416353,20571.004948964342,26333.794906102587,19731.361187049188,26181.987504452,18601.67598950956,25810.08913656464,19060.074810180347,26425.71279949462,18319.90954558272,26374.81267070584,20264.532594572753,26410.29393007187,17867.106762462296,26786.240495336708,19242.362756790128,26800.409186157398,17595.83229056094,20450.1543507874,25987.49543339573,14833.45908664912,21174.24589050468,26603.654887155164,23511.203569437843,18705.79800734762,18782.058902059216,18281.556450429838,20474.681664309,15542.19128925819,18334.852156490088,23056.03377843881,18954.285887539852,22545.186988804955,21345.341762012336,22380.758736507036,19900.254362924956,25059.831947915256,24818.7117900094,22160.251044069882,28627.382097250316,22031.24451882392,20849.349481578916,25774.84600645583,24315.842330501415,21959.210418432485,23248.546998424456,22661.572663404047,21760.610617684666,25679.84671741305,19983.094775139354,25859.87243607687,20734.61642708676,25311.446471377276,22155.652771167457,21763.3038565279,24854.193049375433,25571.602685186546,19780.877787910867,25179.299018166028,14251.752164686099,20598.137399621774,24371.326447497122,17097.47300224984,17193.796286905184,24194.9322000104,14912.339403192978,23316.235239866655,19479.83715882385,25017.609252328984,26534.656934796833,20137.49063570099,24086.1071293368,24236.18809387088,24266.44479426788,22908.37935409788,20965.51131161675,25561.43694412522,15570.126229395159,25534.885531914886,26764.154006704222,25104.228769741487,25591.724607444834,25005.10746631073,26467.02822566917,20663.668193050195,25353.073843820486,25787.585921731777,15583.418613725808,25381.351693147328,25709.71765453182,15984.204438780434,24738.462230234873,24975.877099953592,25666.199532725383,15879.918108695652,25157.391126476694,16098.58029938722,24859.72955461219,25877.196339559276,14318.637916648295,24140.162470787298,25503.37865291536,23978.05597874988,25369.550010205247,24078.72512235446,25186.36907887971,24306.555289459415,21613.625333498232,24263.037167652976,25927.308263564948,23876.315253486857,24407.210148367565,24469.07850769721,26213.182437183335,24104.621679106727,25590.831622729078,23707.898336125538,25458.49128787825,23701.171184601728,25278.70369847212,23813.80632339511,25738.88848857442,23821.605056577828,26296.884871191345,24299.113750163,25600.833051543683,24020.919245098252,25144.160667989403,23284.80217787763,25654.233537536114,23830.237242162228,25616.728179481346,24013.120511915535,25710.015316103585,23817.25919762859,25670.069133159705,24410.855904240627,25655.90044233855,24971.590773318894,25781.751754923258,23782.313729092013,25685.964261096902,25701.799856720492,25767.344934844878,26759.808147754986,25759.903395547997,25889.207582366187,21829.356156089343,25609.822431014385,24074.676924976986,25777.04870208772,24781.56362584047,25734.84029119741,25626.80342530692,25684.356888609007],\"yaxis\":\"y\",\"type\":\"scattergl\"},{\"hovertemplate\":\"<b>OLS trendline</b><br>predict price = -0.106485 * mileage + 27213.1<br>R<sup>2</sup>=0.774218<br><br>mileage=%{x}<br>predict price=%{y} <b>(trend)</b><extra></extra>\",\"legendgroup\":\"\",\"marker\":{\"symbol\":\"circle\"},\"mode\":\"lines\",\"name\":\"\",\"showlegend\":false,\"x\":[0.0,0.0,0.0,1.0,1.0,1.0,7.0,71.0,122.0,174.0,363.0,401.0,671.0,703.0,740.0,878.0,1117.0,1751.0,2042.0,2089.0,2162.0,2205.0,2382.0,2384.0,2452.0,2590.0,2807.0,3189.0,3915.0,4018.0,4181.0,4512.0,4712.0,4970.0,5035.0,5250.0,5440.0,5562.0,5920.0,6140.0,6248.0,6249.0,6290.0,6500.0,6711.0,6821.0,6881.0,6921.0,6967.0,6975.0,7109.0,7258.0,7275.0,7339.0,7373.0,7742.0,8400.0,8402.0,8404.0,8652.0,8737.0,8806.0,8884.0,8985.0,9167.0,9235.0,9278.0,9420.0,9451.0,9490.0,9516.0,9539.0,9556.0,9604.0,9643.0,9660.0,9718.0,9732.0,9741.0,9800.0,9861.0,9865.0,9910.0,9915.0,10028.0,10028.0,10099.0,10134.0,10167.0,10282.0,10351.0,10421.0,10444.0,10475.0,10483.0,10536.0,10655.0,10700.0,10763.0,10770.0,10808.0,10882.0,10916.0,10935.0,11004.0,11028.0,11077.0,11173.0,11251.0,11263.0,11313.0,11342.0,11437.0,11457.0,11544.0,11640.0,11669.0,11729.0,11734.0,11739.0,11763.0,11836.0,11930.0,11990.0,12155.0,12174.0,12198.0,12247.0,12260.0,12271.0,12393.0,12688.0,12717.0,12735.0,12748.0,12764.0,12836.0,12837.0,12886.0,12928.0,12953.0,13002.0,13035.0,13058.0,13085.0,13155.0,13162.0,13230.0,13265.0,13269.0,13328.0,13405.0,13458.0,13466.0,13472.0,13516.0,13526.0,13558.0,13600.0,13633.0,13644.0,13673.0,13674.0,13763.0,13822.0,13884.0,13896.0,14004.0,14023.0,14053.0,14059.0,14109.0,14128.0,14231.0,14291.0,14358.0,14359.0,14382.0,14393.0,14482.0,14587.0,14599.0,14786.0,14939.0,14987.0,14994.0,15003.0,15019.0,15075.0,15141.0,15210.0,15244.0,15265.0,15273.0,15296.0,15415.0,15422.0,15436.0,15456.0,15460.0,15550.0,15569.0,15581.0,15630.0,15656.0,15755.0,15759.0,15771.0,15787.0,15792.0,15805.0,15820.0,15821.0,15825.0,15835.0,15847.0,15848.0,15854.0,15958.0,15960.0,15964.0,16009.0,16019.0,16059.0,16079.0,16106.0,16143.0,16146.0,16194.0,16207.0,16293.0,16340.0,16391.0,16448.0,16482.0,16505.0,16506.0,16509.0,16569.0,16600.0,16619.0,16625.0,16694.0,16725.0,16765.0,16770.0,16771.0,16829.0,16884.0,16924.0,16934.0,16956.0,16971.0,16981.0,17000.0,17025.0,17159.0,17242.0,17260.0,17263.0,17301.0,17310.0,17392.0,17417.0,17450.0,17484.0,17488.0,17510.0,17541.0,17544.0,17617.0,17644.0,17657.0,17684.0,17689.0,17707.0,17755.0,17801.0,17828.0,17851.0,17858.0,17867.0,17942.0,17964.0,17977.0,17983.0,17995.0,18062.0,18138.0,18153.0,18174.0,18196.0,18202.0,18279.0,18367.0,18418.0,18431.0,18449.0,18454.0,18550.0,18647.0,18690.0,18708.0,18759.0,18762.0,18767.0,18805.0,18849.0,18856.0,18901.0,18902.0,18937.0,18947.0,18969.0,18982.0,19022.0,19029.0,19055.0,19058.0,19100.0,19121.0,19130.0,19147.0,19151.0,19227.0,19304.0,19363.0,19493.0,19555.0,19731.0,19793.0,19842.0,19850.0,19853.0,19936.0,19951.0,19956.0,19985.0,19993.0,20014.0,20047.0,20154.0,20343.0,20357.0,20590.0,20613.0,20628.0,20749.0,20758.0,21004.0,21034.0,21051.0,21054.0,21055.0,21101.0,21150.0,21157.0,21201.0,21346.0,21405.0,21406.0,21527.0,21546.0,21592.0,21616.0,21669.0,21703.0,21740.0,21766.0,21770.0,21774.0,21800.0,21976.0,22001.0,22013.0,22019.0,22107.0,22179.0,22284.0,22318.0,22458.0,22543.0,22805.0,22858.0,22881.0,22906.0,22960.0,23019.0,23164.0,23222.0,23223.0,23294.0,23350.0,23512.0,23534.0,23712.0,23740.0,23795.0,23796.0,23803.0,23878.0,23926.0,23960.0,23964.0,23984.0,24024.0,24058.0,24072.0,24078.0,24116.0,24126.0,24151.0,24157.0,24272.0,24480.0,24520.0,24521.0,24567.0,24581.0,24662.0,24686.0,24730.0,24747.0,24765.0,24783.0,24795.0,24869.0,24902.0,24987.0,24993.0,25009.0,25011.0,25030.0,25046.0,25071.0,25090.0,25201.0,25371.0,25422.0,25508.0,25552.0,25582.0,25602.0,25623.0,25638.0,25698.0,25698.0,25734.0,25810.0,25839.0,26040.0,26095.0,26186.0,26241.0,26422.0,26451.0,26484.0,26590.0,26591.0,26637.0,26654.0,26675.0,26693.0,26755.0,26821.0,26911.0,26914.0,27082.0,27136.0,27165.0,27369.0,27413.0,27461.0,27570.0,27612.0,27661.0,27689.0,27773.0,27774.0,27794.0,27806.0,27868.0,27940.0,28007.0,28070.0,28117.0,28252.0,28359.0,28464.0,28534.0,28549.0,28669.0,28692.0,28733.0,28771.0,28790.0,28801.0,28854.0,28922.0,28937.0,28938.0,29010.0,29096.0,29168.0,29168.0,29266.0,29305.0,29320.0,29328.0,29345.0,29367.0,29382.0,29457.0,29499.0,29508.0,29632.0,29633.0,29733.0,29748.0,29850.0,29882.0,29942.0,29986.0,30002.0,30018.0,30054.0,30113.0,30181.0,30208.0,30318.0,30325.0,30471.0,30476.0,30553.0,30594.0,30609.0,30620.0,30629.0,30735.0,30765.0,30770.0,30875.0,30902.0,31017.0,31124.0,31142.0,31207.0,31236.0,31260.0,31261.0,31380.0,31408.0,31491.0,31561.0,31563.0,31586.0,31598.0,31657.0,31713.0,31727.0,31744.0,31792.0,31793.0,31794.0,31871.0,31899.0,31944.0,32022.0,32038.0,32149.0,32154.0,32262.0,32284.0,32305.0,32365.0,32366.0,32415.0,32454.0,32458.0,32473.0,32486.0,32526.0,32747.0,32788.0,32796.0,32938.0,33194.0,33291.0,33324.0,33350.0,33451.0,33462.0,33475.0,33514.0,33538.0,33660.0,33701.0,33717.0,33717.0,33763.0,33808.0,33815.0,33907.0,33930.0,33942.0,33965.0,34011.0,34061.0,34071.0,34081.0,34100.0,34164.0,34165.0,34165.0,34173.0,34191.0,34244.0,34277.0,34527.0,34532.0,34679.0,34696.0,34734.0,34819.0,34822.0,34874.0,35021.0,35023.0,35095.0,35221.0,35225.0,35233.0,35346.0,35629.0,35646.0,35691.0,35714.0,35747.0,35801.0,35888.0,35905.0,35929.0,35930.0,35951.0,36004.0,36041.0,36064.0,36124.0,36139.0,36145.0,36167.0,36190.0,36252.0,36295.0,36305.0,36616.0,36637.0,36638.0,36732.0,36742.0,36855.0,36876.0,36896.0,36956.0,36978.0,36989.0,37044.0,37053.0,37059.0,37106.0,37166.0,37176.0,37177.0,37245.0,37252.0,37279.0,37321.0,37355.0,37385.0,37716.0,37739.0,37786.0,37792.0,37878.0,38001.0,38123.0,38148.0,38157.0,38243.0,38279.0,38289.0,38370.0,38639.0,38744.0,38815.0,38830.0,38868.0,38964.0,39013.0,39027.0,39159.0,39170.0,39267.0,39333.0,39364.0,39367.0,39477.0,39509.0,39604.0,39733.0,39733.0,39851.0,39943.0,39976.0,40286.0,40338.0,40371.0,40375.0,40437.0,40455.0,40505.0,40577.0,40670.0,40677.0,40747.0,40772.0,40774.0,40785.0,40793.0,41127.0,41147.0,41233.0,41293.0,41351.0,41399.0,41455.0,41496.0,41569.0,41577.0,41627.0,41628.0,41662.0,41672.0,41696.0,41864.0,41925.0,41928.0,42104.0,42156.0,42168.0,42241.0,42289.0,42291.0,42307.0,42426.0,42470.0,42506.0,42890.0,42895.0,42902.0,42925.0,42930.0,43056.0,43269.0,43406.0,43519.0,43527.0,43532.0,43567.0,43617.0,43646.0,43964.0,44174.0,44383.0,44456.0,44778.0,44794.0,44929.0,44941.0,44956.0,45003.0,45084.0,45188.0,45191.0,45218.0,45278.0,45512.0,45592.0,45757.0,45798.0,45814.0,45887.0,46010.0,46098.0,46540.0,46710.0,46955.0,47055.0,47129.0,47496.0,47531.0,47628.0,47866.0,47866.0,48080.0,48086.0,48115.0,48188.0,48309.0,48374.0,48408.0,48472.0,48707.0,49024.0,49094.0,49177.0,49254.0,49710.0,49882.0,49985.0,50423.0,50513.0,50593.0,50732.0,50874.0,51107.0,51122.0,51309.0,51370.0,51441.0,51589.0,51884.0,52084.0,52240.0,52340.0,52355.0,52747.0,52883.0,53102.0,53270.0,53507.0,53986.0,54198.0,54251.0,54325.0,54380.0,54396.0,54601.0,54778.0,54984.0,55420.0,55475.0,55618.0,55732.0,55854.0,56329.0,56461.0,56703.0,56836.0,56995.0,57084.0,57186.0,57289.0,57340.0,57345.0,57611.0,57853.0,57889.0,57929.0,57936.0,58118.0,58576.0,58817.0,58902.0,58913.0,59391.0,59549.0,59646.0,59656.0,59726.0,59798.0,59869.0,60015.0,60219.0,60715.0,61027.0,61168.0,61436.0,61477.0,62015.0,62386.0,62387.0,62542.0,62774.0,63291.0,63418.0,63445.0,64061.0,64111.0,64135.0,64146.0,64495.0,64598.0,64999.0,65164.0,65179.0,65342.0,66366.0,66367.0,66582.0,66655.0,66781.0,67037.0,67052.0,67091.0,67140.0,67150.0,67217.0,67279.0,67347.0,67542.0,67546.0,67979.0,68142.0,68319.0,68418.0,68666.0,69003.0,69004.0,69305.0,69402.0,69428.0,69438.0,69480.0,69719.0,69829.0,70106.0,70181.0,70251.0,70727.0,70954.0,71205.0,71478.0,71573.0,71824.0,71955.0,71989.0,72084.0,72369.0,72377.0,72418.0,72445.0,72607.0,72851.0,72885.0,73321.0,73846.0,73849.0,73891.0,74181.0,74195.0,74361.0,74754.0,74961.0,75580.0,75785.0,75862.0,75933.0,76258.0,76336.0,76418.0,76572.0,76858.0,76876.0,76897.0,77281.0,77386.0,77392.0,77638.0,78072.0,78698.0,78739.0,79422.0,79430.0,80032.0,80090.0,80354.0,80423.0,80612.0,80652.0,80699.0,81660.0,82072.0,82534.0,82564.0,82670.0,82899.0,83030.0,83693.0,84035.0,84338.0,84413.0,84752.0,84916.0,85197.0,85218.0,85278.0,85549.0,85649.0,85688.0,86826.0,86841.0,87420.0,87686.0,88781.0,89490.0,89809.0,90251.0,90304.0,90618.0,90711.0,90740.0,90855.0,90888.0,90946.0,91606.0,91652.0,91979.0,92100.0,92165.0,92358.0,92405.0,92500.0,93164.0,93350.0,93698.0,93832.0,94004.0,94741.0,94851.0,95386.0,95655.0,96076.0,96129.0,96151.0,96246.0,96451.0,97318.0,97320.0,97526.0,98470.0,98620.0,98625.0,99375.0,99544.0,99816.0,99923.0,99941.0,100255.0,100264.0,100757.0,100820.0,100893.0,100943.0,100947.0,101380.0,101848.0,102590.0,102700.0,102705.0,102800.0,103002.0,103541.0,103862.0,103960.0,104290.0,104383.0,104559.0,104665.0,104764.0,104867.0,105027.0,105115.0,105510.0,105743.0,105880.0,106546.0,107173.0,107569.0,108727.0,108998.0,109137.0,109600.0,109672.0,109996.0,110253.0,110316.0,110333.0,110748.0,110826.0,111476.0,111532.0,112789.0,112810.0,112893.0,113444.0,113821.0,114500.0,115241.0,115429.0,116480.0,116519.0,116535.0,116539.0,116730.0,118340.0,118483.0,118593.0,119439.0,119520.0,119689.0,119869.0,120353.0,122014.0,122861.0,123349.0,123355.0,123983.0,124542.0,124969.0,125369.0,125451.0,126381.0,126523.0,126708.0,126802.0,128505.0,128753.0,129063.0,129659.0,129873.0,130168.0,130388.0,131101.0,131106.0,131367.0,131754.0,132150.0,132379.0,133314.0,135077.0,135283.0,136307.0,136661.0,137004.0,137171.0,137728.0,137789.0,138328.0,138516.0,138524.0,140870.0,141595.0,141603.0,142027.0,142286.0,143191.0,143704.0,143818.0,145483.0,146807.0,146912.0,147574.0,147903.0,147935.0,148442.0,149319.0,149346.0,149712.0,150484.0,151035.0,151641.0,154989.0,155242.0,157057.0,158781.0,159182.0,162918.0,163334.0,167011.0,167376.0,167552.0,168805.0,173601.0,175640.0,176567.0,178703.0,180364.0,180471.0,181316.0,184889.0,185983.0,186713.0,186855.0,188394.0,189776.0,190552.0,190994.0,192108.0,195908.0,198596.0,201187.0,202565.0,203158.0,203297.0,204155.0,205796.0,206162.0,209915.0,214800.0,216942.0,225236.0,229886.0,231769.0,236980.0,240740.0,246065.0,250831.0,252588.0,295780.0,296860.0,300021.0,309564.0,363810.0,999999.0],\"xaxis\":\"x\",\"y\":[27213.10155131442,27213.10155131442,27213.10155131442,27212.99506600468,27212.99506600468,27212.99506600468,27212.356154146255,27205.54109432303,27200.1103435264,27194.573107420034,27174.44738387958,27170.40094210954,27141.64990848032,27138.24237856871,27134.30242210841,27119.607449364587,27094.15746033724,27026.645773963442,26995.658548829728,26990.65373927205,26982.880311661185,26978.301443342458,26959.45354351886,26959.240572899384,26951.99957183721,26937.304599093386,26914.197286880273,26873.519898560415,26796.211563690733,26785.243576787736,26767.886471300466,26732.639833777237,26711.342771829666,26683.8695619173,26676.94801678434,26654.053675190702,26633.821466340512,26620.830258552494,26582.708517666342,26559.281749524016,26547.781336072327,26547.67485076259,26543.308953063337,26520.94703801839,26498.478637663702,26486.76525359254,26480.376135008268,26476.116722618754,26471.218398370813,26470.36651589291,26456.09748438804,26440.231173237098,26438.420922971556,26431.605863148332,26427.985362617244,26388.69228332398,26318.624949516474,26318.411978897,26318.199008277523,26291.790651462536,26282.73940013482,26275.391913762905,26267.086059603353,26256.33104331983,26236.950716947544,26229.70971588537,26225.13084756664,26210.009933583864,26206.708888981993,26202.555961902217,26199.78734384903,26197.338181725063,26195.527931459517,26190.4166365921,26186.263709512325,26184.453459246783,26178.277311281985,26176.786516945656,26175.828149158016,26169.54551588348,26163.049911989474,26162.623970750523,26157.83213181232,26157.29970526363,26145.266865263253,26145.266865263253,26137.706408271864,26133.97942243104,26130.465407209693,26118.21959658984,26110.872110217926,26103.418138536275,26100.968976412307,26097.667931810432,26096.81604933253,26091.172327916425,26078.50057605762,26073.708737119417,26067.00016260593,26066.254765437767,26062.208323667728,26054.328410747126,26050.707910216042,26048.68468933102,26041.337202959112,26038.781555525402,26033.563775348248,26023.34118561341,26015.035331453862,26013.757507737006,26008.433242250114,26005.345168267715,25995.22906384262,25993.099357647865,25983.835135700672,25973.612545965836,25970.52447198344,25964.135353399168,25963.60292685048,25963.07050030179,25960.51485286808,25952.74142525722,25942.73180614186,25936.34268755759,25918.772611450844,25916.749390565827,25914.193743132117,25908.975962954963,25907.59165392837,25906.420315521253,25893.429107733235,25862.01594136057,25858.927867378174,25857.01113180289,25855.6268227763,25853.92305782049,25846.25611551937,25846.14963020963,25840.931850032473,25836.459467023487,25833.79733428004,25828.579554102886,25825.065538881536,25822.616376757564,25819.741273394644,25812.287301712993,25811.54190454483,25804.300903482654,25800.57391764183,25800.147976402877,25793.865343128346,25785.66597427853,25780.022252862425,25779.170370384523,25778.531458526093,25773.846104897628,25772.78125180025,25769.373721888638,25764.90133887965,25761.387323658302,25760.215985251183,25757.127911268788,25757.02142595905,25747.54423339238,25741.261600117847,25734.6595109141,25733.381687197245,25721.88127374556,25719.858052860538,25716.663493568405,25716.024581709975,25710.700316223083,25708.677095338066,25697.709108435065,25691.319989850796,25684.185474098358,25684.07898878862,25681.62982666465,25680.458488257533,25670.981295690864,25659.800338168392,25658.522514451535,25638.60976153056,25622.317509140667,25617.20621427325,25616.460817105086,25615.502449317446,25613.798684361638,25607.83550701632,25600.807476573624,25593.45999020171,25589.839489670623,25587.60329816613,25586.751415688224,25584.302253564256,25571.63050170545,25570.885104537287,25569.394310200954,25567.2646040062,25566.838662767248,25557.254984890842,25555.23176400582,25553.953940288968,25548.736160111814,25545.967542058628,25535.425496394582,25534.99955515563,25533.721731438774,25532.01796648297,25531.48553993428,25530.10123090769,25528.50395126162,25528.397465951883,25527.97152471293,25526.906671615554,25525.6288478987,25525.522362588963,25524.883450730533,25513.808978517798,25513.596007898323,25513.17006665937,25508.37822772117,25507.313374623787,25503.053962234277,25500.924256039518,25498.049152676595,25494.109196216297,25493.78974028708,25488.678445419664,25487.294136393073,25478.13639975562,25473.13159019794,25467.70083940131,25461.63117674625,25458.010676215163,25455.561514091194,25455.455028781456,25455.135572852243,25448.74645426797,25445.4454096661,25443.422188781078,25442.78327692265,25435.43579055074,25432.134745948868,25427.875333559354,25427.342907010665,25427.236421700924,25421.06027373613,25415.20358170055,25410.944169311035,25409.879316213657,25407.536639399423,25405.939359753356,25404.874506655975,25402.851285770957,25400.18915302751,25385.92012152264,25377.081840814397,25375.165105239117,25374.845649309904,25370.799207539865,25369.840839752225,25361.10904435372,25358.446911610274,25354.932896388924,25351.312395857836,25350.886454618885,25348.543777804654,25345.24273320278,25344.923277273567,25337.149849662703,25334.274746299783,25332.89043727319,25330.01533391027,25329.482907361577,25327.566171786297,25322.45487691888,25317.55655267094,25314.681449308016,25312.232287184048,25311.48689001588,25310.52852222824,25302.5421239979,25300.19944718367,25298.81513815708,25298.17622629865,25296.898402581795,25289.76388682936,25281.671003289284,25280.073723643214,25277.83753213872,25275.494855324487,25274.85594346606,25266.656574616245,25257.285867359315,25251.855116562685,25250.470807536094,25248.55407196081,25248.021645412122,25237.79905567729,25227.46998063272,25222.89111231399,25220.974376738708,25215.54362594208,25215.224170012865,25214.691743464176,25210.645301694138,25205.959948065673,25205.214550897508,25200.422711959305,25200.316226649564,25196.589240808742,25195.52438771136,25193.18171089713,25191.79740187054,25187.537989481025,25186.792592312857,25184.023974259675,25183.70451833046,25179.232135321472,25176.995943816975,25176.037576029335,25174.227325763793,25173.801384524842,25165.708500984765,25157.50913213495,25151.226498860415,25137.383408594495,25130.78131939075,25112.03990487689,25105.43781567314,25100.220035495986,25099.368153018084,25099.04869708887,25090.21041638063,25088.61313673456,25088.08071018587,25084.992636203475,25084.14075372557,25081.904562221076,25078.390546999726,25066.996618857775,25046.870895317323,25045.380100980994,25020.569023812073,25018.1198616881,25016.522582042035,25003.637859563754,25002.679491776114,24976.484105580603,24973.289546288466,24971.479296022924,24971.15984009371,24971.053354783973,24966.155030536032,24960.93725035888,24960.191853190714,24955.506499562245,24940.06612965026,24933.783496375727,24933.677011065985,24920.79228858771,24918.769067702688,24913.870743454747,24911.31509602104,24905.67137460493,24902.050874073844,24898.110917613543,24895.34229956036,24894.91635832141,24894.49041708246,24891.721799029274,24872.980384515413,24870.318251771965,24869.040428055112,24868.401516196685,24859.030808939755,24851.36386663863,24840.182909116156,24836.56240858507,24821.654465221767,24812.60321389405,24784.704062742734,24779.06034132663,24776.611179202657,24773.949046459213,24768.198839733366,24761.916206458834,24746.475836546844,24740.29968858205,24740.193203272313,24732.632746280924,24726.669568935606,24709.418948758073,24707.076271943843,24688.121886810502,24685.140298137845,24679.28360610226,24679.177120792523,24678.43172362436,24670.44532539402,24665.334030526603,24661.713529995515,24661.287588756564,24659.15788256181,24654.898470172295,24651.277969641207,24649.78717530488,24649.14826344645,24645.101821676413,24644.036968579032,24641.374835835588,24640.73592397716,24628.490113357308,24606.341168931835,24602.08175654232,24601.975271232583,24597.076946984642,24595.586152648313,24586.960842559547,24584.405195125837,24579.71984149737,24577.90959123183,24575.992855656546,24574.076120081267,24572.79829636441,24564.91838344381,24561.404368222462,24552.353116894745,24551.714205036318,24550.01044008051,24549.797469461035,24547.774248576017,24546.07048362021,24543.408350876765,24541.385129991744,24529.565260610845,24511.46275795541,24506.032007158778,24496.874270521323,24492.188916892857,24488.99435760072,24486.864651405966,24484.62845990147,24483.031180255402,24476.642061671133,24476.642061671133,24472.80859052057,24464.715706980493,24461.627632998094,24440.22408574079,24434.367393705204,24424.67723051906,24418.82053848348,24399.546697420927,24396.45862343853,24392.94460821718,24381.657165384968,24381.55068007523,24376.65235582729,24374.842105561747,24372.60591405725,24370.68917848197,24364.087089278226,24357.059058835526,24347.47538095912,24347.155925029907,24329.266392993948,24323.5161862681,24320.428112285706,24298.705109099184,24294.01975547072,24288.9084606033,24277.301561841876,24272.829178832886,24267.611398655732,24264.62980998307,24255.68504396509,24255.578558655354,24253.4488524606,24252.17102874374,24245.568939539997,24237.90199723887,24230.767481486437,24224.05890697295,24219.054097415272,24204.678580600663,24193.28465245871,24182.10369493624,24174.649723254588,24173.052443608518,24160.27420643998,24157.825044316007,24153.459146616755,24149.412704846716,24147.3894839617,24146.21814555458,24140.574424138475,24133.333423076303,24131.736143430233,24131.629658120495,24123.96271581937,24114.804979181914,24107.13803688079,24107.13803688079,24096.70247652648,24092.549549446703,24090.952269800637,24090.100387322735,24088.290137057193,24085.94746024296,24084.35018059689,24076.363782366552,24071.891399357562,24070.93303156992,24057.72885316243,24057.622367852688,24046.973836878904,24045.376557232838,24034.515055639575,24031.107525727966,24024.718407143693,24020.033053515228,24018.329288559424,24016.625523603616,24012.792052453056,24006.50941917852,23999.268418116346,23996.393314753426,23984.67993068226,23983.934533514097,23968.38767829237,23967.85525174368,23959.655882893865,23955.289985194613,23953.692705548547,23952.52136714143,23951.56299935379,23940.275556521578,23937.080997229445,23936.548570680752,23925.36761315828,23922.492509795356,23910.246699175503,23898.852771033555,23896.93603545827,23890.014490325313,23886.926416342914,23884.370768909208,23884.26428359947,23871.592531740665,23868.610943068004,23859.772662359763,23852.318690678112,23852.105720058637,23849.656557934668,23848.37873421781,23842.09610094328,23836.13292359796,23834.64212926163,23832.831878996087,23827.72058412867,23827.614098818933,23827.507613509195,23819.30824465938,23816.32665598672,23811.534817048516,23803.228962888963,23801.52519793316,23789.705328552256,23789.172902003567,23777.67248855188,23775.329811737647,23773.093620233154,23766.70450164888,23766.598016339143,23761.38023616199,23757.227309082213,23756.80136784326,23755.204088197195,23753.8197791706,23749.560366781086,23726.027113329023,23721.66121562977,23720.80933315187,23705.68841916909,23678.428179876202,23668.099104831632,23664.585089610282,23661.8164715571,23651.061455273575,23649.89011686646,23648.50580783987,23644.352880760092,23641.797233326382,23628.806025538364,23624.440127839112,23622.736362883308,23622.736362883308,23617.838038635367,23613.046199697164,23612.300802528996,23602.504154033115,23600.054991909146,23598.77716819229,23596.32800606832,23591.42968182038,23586.105416333485,23585.040563236107,23583.97571013873,23581.952489253712,23575.137429430488,23575.03094412075,23575.03094412075,23574.179061642848,23572.262326067565,23566.61860465146,23563.10458943011,23536.483261995647,23535.950835446958,23520.297494915496,23518.48724464995,23514.44080287991,23505.389551552194,23505.07009562298,23499.532859516614,23483.87951898515,23483.666548365676,23475.99960606455,23462.58245703758,23462.15651579863,23461.304633320724,23449.27179332035,23419.136450664537,23417.326200398995,23412.534361460792,23410.08519933682,23406.57118411547,23400.820977389627,23391.556755442434,23389.74650517689,23387.190857743182,23387.084372433445,23384.848180928948,23379.204459512843,23375.264503052542,23372.815340928573,23366.4262223443,23364.828942698234,23364.190030839807,23361.847354025573,23359.398191901604,23352.796102697856,23348.217234379128,23347.15238128175,23314.035449953277,23311.799258448784,23311.692773139046,23301.68315402369,23300.618300926308,23288.585460925933,23286.349269421436,23284.21956322668,23277.830444642408,23275.487767828177,23274.31642942106,23268.459737385478,23267.501369597838,23266.86245773941,23261.857648181733,23255.46852959746,23254.403676500082,23254.297191190344,23247.05619012817,23246.310792960005,23243.435689597085,23238.96330658809,23235.342806057008,23232.14824676487,23196.901609241642,23194.45244711767,23189.44763755999,23188.808725701565,23179.65098906411,23166.553295966354,23153.562088178336,23150.899955434892,23149.94158764725,23140.783851009794,23136.950379859234,23135.885526761853,23127.260216673087,23098.615668353606,23087.434710831134,23079.874253839746,23078.276974193675,23074.230532423637,23064.007942688804,23058.79016251165,23057.29936817532,23043.243307289922,23042.071968882807,23031.742893838236,23024.714863395537,23021.413818793662,23021.094362864453,23009.380978793288,23005.973448881676,22995.85734445658,22982.1207395004,22982.1207395004,22969.55547295133,22959.75882445545,22956.2448092341,22923.234363215364,22917.697127108997,22914.18311188765,22913.7571706487,22907.15508144495,22905.23834586967,22899.914080382776,22892.24713808165,22882.34400427603,22881.598607107866,22874.144635426215,22871.48250268277,22871.269532063296,22870.09819365618,22869.246311178274,22833.680217725836,22831.550511531077,22822.392774893622,22816.003656309353,22809.827508344555,22804.71621347714,22798.75303613182,22794.38713843257,22786.613710821704,22785.7618283438,22780.43756285691,22780.33107754717,22776.710577016085,22775.645723918704,22773.090076484998,22755.20054444904,22748.704940555028,22748.385484625815,22729.644070111954,22724.106834005586,22722.829010288733,22715.05558267787,22709.944287810453,22709.731317190977,22708.02755223517,22695.355800376365,22690.6704467479,22686.836975597336,22645.946616658002,22645.414190109313,22644.66879294115,22642.219630817177,22641.687204268488,22628.27005524152,22605.588684267357,22591.000196833273,22578.967356832894,22578.115474354992,22577.583047806304,22573.856061965478,22568.531796478586,22565.443722496188,22531.58139399955,22509.219478954605,22486.964049219394,22479.19062160853,22444.90235187294,22443.198586917133,22428.823070102524,22427.54524638567,22425.947966739604,22420.943157181922,22412.31784709316,22401.24337488042,22400.923918951208,22398.048815588285,22391.659697004015,22366.74213452536,22358.223309746332,22340.653233639583,22336.28733594033,22334.583570984527,22326.810143373667,22313.71245027591,22304.341743018977,22257.27523611485,22239.172733459414,22213.08383257364,22202.435301599857,22194.555388679255,22155.475280005463,22151.748294164638,22141.419219120067,22116.075715402458,22116.075715402458,22093.287859118558,22092.64894726013,22089.560873277733,22081.78744566687,22068.902723188592,22061.98117805563,22058.360677524543,22051.54561770132,22026.521569912926,21992.765726726026,21985.31175504438,21976.473474336137,21968.27410548632,21919.71680424586,21901.40133097095,21890.43334406795,21843.792778402774,21834.20910052637,21825.69027574734,21810.888817693776,21795.767903711003,21770.956826542082,21769.359546896016,21749.44679397504,21742.95119008103,21735.39073308964,21719.63090724844,21688.217740875774,21666.920678928203,21650.308970609098,21639.660439635314,21638.063159989244,21596.320918572008,21581.83891644766,21558.518633615073,21540.629101579114,21515.392083171242,21464.38561980681,21441.81073414239,21436.16701272628,21428.287099805682,21422.430407770098,21420.726642814294,21398.897154318034,21380.049254494435,21358.113280688438,21311.685685642733,21305.828993607152,21290.60159431464,21278.462269004525,21265.471061216507,21214.89053909103,21200.83447820563,21175.06503324907,21160.902487053936,21143.97132280562,21134.49413023895,21123.63262864569,21112.66464174269,21107.23389094606,21106.70146439737,21078.376372007104,21052.606927050543,21048.77345589998,21044.514043510466,21043.7686463423,21024.388319970014,20975.61804811008,20949.955088463255,20940.90383713554,20939.732498728423,20888.832520673728,20872.007841735147,20861.678766690577,20860.6139135932,20853.15994191155,20845.492999610422,20837.932542619037,20822.38568739731,20800.662684210787,20747.845970580813,20714.622553942605,20699.608125269566,20671.070062259823,20666.70416456057,20609.415067921607,20569.909018008868,20569.802532699126,20553.297309689762,20528.59271783058,20473.53981269611,20460.016178359405,20457.14107499648,20391.546124197965,20386.221858711073,20383.666211277363,20382.494872870247,20345.33149977174,20334.36351286874,20291.662903663862,20274.092827557117,20272.49554791105,20255.13844242378,20146.09748525222,20145.99099994248,20123.096658348844,20115.32323073798,20101.90608171101,20074.645842418122,20073.048562772055,20068.89563569228,20063.677855515125,20062.613002417744,20055.47848666531,20048.87639746156,20041.63539639939,20020.870761000508,20020.444819761557,19974.336680645065,19956.9795751578,19938.131675334196,19927.58962967015,19901.181272855163,19865.295723473508,19865.18923816377,19833.137159932678,19822.808084888107,19820.03946683492,19818.97461373754,19814.502230728554,19789.052241701207,19777.338857630042,19747.842426832656,19739.85602860232,19732.40205692067,19681.715049485454,19657.54288417496,19630.81507143076,19601.744581872328,19591.62847744723,19564.900664703033,19550.95108912737,19547.330588596284,19537.21448417119,19506.866170895904,19506.014288418,19501.648390718747,19498.773287355827,19481.522667178295,19455.54025160226,19451.91975107117,19405.492156025466,19349.587368413097,19349.267912483883,19344.795529474894,19313.914789650917,19312.423995314588,19294.747433898105,19252.898707171127,19230.856248055392,19164.941841327665,19143.112352831406,19134.91298398159,19127.352526990202,19092.7448013254,19084.43894716585,19075.707151767347,19059.308414067717,19028.85361548269,19026.936879907407,19024.700688402914,18983.81032946358,18972.629371941104,18971.990460082678,18945.795073887166,18899.58044946094,18832.920645565046,18828.554747865794,18755.825281314843,18754.97339883694,18690.869242374753,18684.69309440996,18656.580972639164,18649.23348626725,18629.1077627268,18624.848350337285,18619.843540779606,18517.51115812153,18473.639210509536,18424.44299741065,18421.248438118513,18409.960995286303,18385.575859356337,18371.626283780675,18301.02652342448,18264.608547494136,18232.343498643568,18224.35710041323,18188.258580412097,18170.79498961509,18140.872617578752,18138.63642607426,18132.24730748999,18103.38978855103,18092.741257577247,18088.58833049747,17967.408048015794,17965.810768369727,17904.15577403151,17875.830681641244,17759.229267478295,17683.73118287416,17649.762369067786,17602.69586216366,17597.05214074755,17563.615753489867,17553.712619684244,17550.624545701845,17538.378735081995,17534.864719860645,17528.68857189585,17458.40826746887,17453.509943220928,17418.68924693665,17405.80452445837,17398.88297932541,17378.331314546005,17373.326504988327,17363.210400563228,17292.504154897295,17272.697887286056,17235.640999497286,17221.37196799241,17203.0564947175,17124.576821440707,17112.863437369542,17055.893796659795,17027.24924834031,16982.418932940676,16976.775211524568,16974.432534710337,16964.316430285242,16942.486941788982,16850.164178246265,16849.95120762679,16828.01523382079,16727.493101428263,16711.520304967584,16710.987878418895,16631.123896115507,16613.12787876981,16584.163874521117,16572.769946379165,16570.853210803885,16537.4168235462,16536.458455758555,16483.961198057797,16477.252623544315,16469.479195933447,16464.15493044656,16463.728989207604,16417.620850091116,16367.785725133801,16288.773625308317,16277.060241237154,16276.527814688463,16266.411710263368,16244.901677696322,16187.50609574762,16153.32431132177,16142.88875096746,16107.74859875397,16097.84546494835,16079.104050434487,16067.816607602275,16057.27456193823,16046.30657503523,16029.268925477174,16019.898218220244,15977.836520873792,15953.025443704873,15938.436956270787,15867.517739985378,15800.751450779746,15758.583268123557,15635.273279447127,15606.41576050817,15591.614302454607,15542.311604045983,15534.644661744858,15500.143421389794,15472.776696787167,15466.068122273682,15464.257872008138,15420.06646846693,15411.760614307377,15342.545162977774,15336.581985632456,15202.729951291976,15200.493759787481,15191.65547907924,15132.982073413685,15092.837111642515,15020.533586330515,14941.627971814767,14921.608733584051,14809.69267304957,14805.539745969794,14803.835981013988,14803.410039775037,14783.071345615108,14611.629996937168,14596.402597644656,14584.689213573492,14494.60264153527,14485.977331446504,14467.981314100807,14448.813958347993,14397.275068434874,14220.402968960305,14130.209911612345,14078.245080460274,14077.606168601847,14010.733394086476,13951.208105943018,13905.738878684955,13863.144754789815,13854.412959391311,13755.381621335111,13740.260707352336,13720.560925050833,13710.551305935474,13529.206823451916,13502.798466636928,13469.788020618194,13406.322776014436,13383.534919730535,13352.12175335787,13328.694985215543,13252.770959372456,13252.238532823765,13224.445866982187,13183.236052113638,13141.067869457449,13116.682733527481,13017.118968922592,12829.38536785476,12807.449394048763,12698.408436877204,12660.712637230004,12624.188175989922,12606.405129263701,12547.092811739718,12540.597207845709,12483.201625897009,12463.182387666293,12462.330505188389,12212.515968543392,12135.31411898345,12134.462236505547,12089.312465176698,12061.732769954595,11965.36356464184,11910.736600746322,11898.597275436208,11721.299234722686,11580.312684629773,11569.131727107299,11498.63845206084,11463.604785157087,11460.197255245477,11406.209203208386,11312.82158656829,11309.946483205369,11270.972859841315,11188.766200723696,11130.092795058139,11065.562697357002,10709.049880354676,10682.109096991,10488.838259816803,10305.25758582875,10262.55697662387,9864.727859443261,9820.429970592315,9428.883486686238,9390.016348631922,9371.27493411806,9237.848841016534,8727.145295513801,8510.021748958323,8411.309866831336,8183.857245231287,8006.9851457567165,7995.591217614765,7905.611130886282,7525.139119192943,7408.644190339732,7330.909914231102,7315.7890002483255,7151.908108561776,7004.745410504067,6922.112810147493,6875.046303243362,6756.4216681953985,6351.777491191566,6065.544978616221,5789.64154108545,5642.904784266691,5579.758995592147,5564.957537538587,5473.593141783509,5298.850748503697,5259.877125139643,4860.237757693489,4340.057019624088,4111.965486165613,3228.776327199881,2733.619636918873,2533.1077986825003,1978.2128496385594,1577.8280850242409,1010.7938106701877,503.2848244595916,316.1901352501882,-4283.123362947059,-4398.127497463938,-4734.727561545285,-5750.916872373597,-11527.318984413043,-79272.10170122654],\"yaxis\":\"y\",\"type\":\"scattergl\"}],                        {\"template\":{\"data\":{\"bar\":[{\"error_x\":{\"color\":\"#2a3f5f\"},\"error_y\":{\"color\":\"#2a3f5f\"},\"marker\":{\"line\":{\"color\":\"#E5ECF6\",\"width\":0.5},\"pattern\":{\"fillmode\":\"overlay\",\"size\":10,\"solidity\":0.2}},\"type\":\"bar\"}],\"barpolar\":[{\"marker\":{\"line\":{\"color\":\"#E5ECF6\",\"width\":0.5},\"pattern\":{\"fillmode\":\"overlay\",\"size\":10,\"solidity\":0.2}},\"type\":\"barpolar\"}],\"carpet\":[{\"aaxis\":{\"endlinecolor\":\"#2a3f5f\",\"gridcolor\":\"white\",\"linecolor\":\"white\",\"minorgridcolor\":\"white\",\"startlinecolor\":\"#2a3f5f\"},\"baxis\":{\"endlinecolor\":\"#2a3f5f\",\"gridcolor\":\"white\",\"linecolor\":\"white\",\"minorgridcolor\":\"white\",\"startlinecolor\":\"#2a3f5f\"},\"type\":\"carpet\"}],\"choropleth\":[{\"colorbar\":{\"outlinewidth\":0,\"ticks\":\"\"},\"type\":\"choropleth\"}],\"contour\":[{\"colorbar\":{\"outlinewidth\":0,\"ticks\":\"\"},\"colorscale\":[[0.0,\"#0d0887\"],[0.1111111111111111,\"#46039f\"],[0.2222222222222222,\"#7201a8\"],[0.3333333333333333,\"#9c179e\"],[0.4444444444444444,\"#bd3786\"],[0.5555555555555556,\"#d8576b\"],[0.6666666666666666,\"#ed7953\"],[0.7777777777777778,\"#fb9f3a\"],[0.8888888888888888,\"#fdca26\"],[1.0,\"#f0f921\"]],\"type\":\"contour\"}],\"contourcarpet\":[{\"colorbar\":{\"outlinewidth\":0,\"ticks\":\"\"},\"type\":\"contourcarpet\"}],\"heatmap\":[{\"colorbar\":{\"outlinewidth\":0,\"ticks\":\"\"},\"colorscale\":[[0.0,\"#0d0887\"],[0.1111111111111111,\"#46039f\"],[0.2222222222222222,\"#7201a8\"],[0.3333333333333333,\"#9c179e\"],[0.4444444444444444,\"#bd3786\"],[0.5555555555555556,\"#d8576b\"],[0.6666666666666666,\"#ed7953\"],[0.7777777777777778,\"#fb9f3a\"],[0.8888888888888888,\"#fdca26\"],[1.0,\"#f0f921\"]],\"type\":\"heatmap\"}],\"heatmapgl\":[{\"colorbar\":{\"outlinewidth\":0,\"ticks\":\"\"},\"colorscale\":[[0.0,\"#0d0887\"],[0.1111111111111111,\"#46039f\"],[0.2222222222222222,\"#7201a8\"],[0.3333333333333333,\"#9c179e\"],[0.4444444444444444,\"#bd3786\"],[0.5555555555555556,\"#d8576b\"],[0.6666666666666666,\"#ed7953\"],[0.7777777777777778,\"#fb9f3a\"],[0.8888888888888888,\"#fdca26\"],[1.0,\"#f0f921\"]],\"type\":\"heatmapgl\"}],\"histogram\":[{\"marker\":{\"pattern\":{\"fillmode\":\"overlay\",\"size\":10,\"solidity\":0.2}},\"type\":\"histogram\"}],\"histogram2d\":[{\"colorbar\":{\"outlinewidth\":0,\"ticks\":\"\"},\"colorscale\":[[0.0,\"#0d0887\"],[0.1111111111111111,\"#46039f\"],[0.2222222222222222,\"#7201a8\"],[0.3333333333333333,\"#9c179e\"],[0.4444444444444444,\"#bd3786\"],[0.5555555555555556,\"#d8576b\"],[0.6666666666666666,\"#ed7953\"],[0.7777777777777778,\"#fb9f3a\"],[0.8888888888888888,\"#fdca26\"],[1.0,\"#f0f921\"]],\"type\":\"histogram2d\"}],\"histogram2dcontour\":[{\"colorbar\":{\"outlinewidth\":0,\"ticks\":\"\"},\"colorscale\":[[0.0,\"#0d0887\"],[0.1111111111111111,\"#46039f\"],[0.2222222222222222,\"#7201a8\"],[0.3333333333333333,\"#9c179e\"],[0.4444444444444444,\"#bd3786\"],[0.5555555555555556,\"#d8576b\"],[0.6666666666666666,\"#ed7953\"],[0.7777777777777778,\"#fb9f3a\"],[0.8888888888888888,\"#fdca26\"],[1.0,\"#f0f921\"]],\"type\":\"histogram2dcontour\"}],\"mesh3d\":[{\"colorbar\":{\"outlinewidth\":0,\"ticks\":\"\"},\"type\":\"mesh3d\"}],\"parcoords\":[{\"line\":{\"colorbar\":{\"outlinewidth\":0,\"ticks\":\"\"}},\"type\":\"parcoords\"}],\"pie\":[{\"automargin\":true,\"type\":\"pie\"}],\"scatter\":[{\"marker\":{\"colorbar\":{\"outlinewidth\":0,\"ticks\":\"\"}},\"type\":\"scatter\"}],\"scatter3d\":[{\"line\":{\"colorbar\":{\"outlinewidth\":0,\"ticks\":\"\"}},\"marker\":{\"colorbar\":{\"outlinewidth\":0,\"ticks\":\"\"}},\"type\":\"scatter3d\"}],\"scattercarpet\":[{\"marker\":{\"colorbar\":{\"outlinewidth\":0,\"ticks\":\"\"}},\"type\":\"scattercarpet\"}],\"scattergeo\":[{\"marker\":{\"colorbar\":{\"outlinewidth\":0,\"ticks\":\"\"}},\"type\":\"scattergeo\"}],\"scattergl\":[{\"marker\":{\"colorbar\":{\"outlinewidth\":0,\"ticks\":\"\"}},\"type\":\"scattergl\"}],\"scattermapbox\":[{\"marker\":{\"colorbar\":{\"outlinewidth\":0,\"ticks\":\"\"}},\"type\":\"scattermapbox\"}],\"scatterpolar\":[{\"marker\":{\"colorbar\":{\"outlinewidth\":0,\"ticks\":\"\"}},\"type\":\"scatterpolar\"}],\"scatterpolargl\":[{\"marker\":{\"colorbar\":{\"outlinewidth\":0,\"ticks\":\"\"}},\"type\":\"scatterpolargl\"}],\"scatterternary\":[{\"marker\":{\"colorbar\":{\"outlinewidth\":0,\"ticks\":\"\"}},\"type\":\"scatterternary\"}],\"surface\":[{\"colorbar\":{\"outlinewidth\":0,\"ticks\":\"\"},\"colorscale\":[[0.0,\"#0d0887\"],[0.1111111111111111,\"#46039f\"],[0.2222222222222222,\"#7201a8\"],[0.3333333333333333,\"#9c179e\"],[0.4444444444444444,\"#bd3786\"],[0.5555555555555556,\"#d8576b\"],[0.6666666666666666,\"#ed7953\"],[0.7777777777777778,\"#fb9f3a\"],[0.8888888888888888,\"#fdca26\"],[1.0,\"#f0f921\"]],\"type\":\"surface\"}],\"table\":[{\"cells\":{\"fill\":{\"color\":\"#EBF0F8\"},\"line\":{\"color\":\"white\"}},\"header\":{\"fill\":{\"color\":\"#C8D4E3\"},\"line\":{\"color\":\"white\"}},\"type\":\"table\"}]},\"layout\":{\"annotationdefaults\":{\"arrowcolor\":\"#2a3f5f\",\"arrowhead\":0,\"arrowwidth\":1},\"autotypenumbers\":\"strict\",\"coloraxis\":{\"colorbar\":{\"outlinewidth\":0,\"ticks\":\"\"}},\"colorscale\":{\"diverging\":[[0,\"#8e0152\"],[0.1,\"#c51b7d\"],[0.2,\"#de77ae\"],[0.3,\"#f1b6da\"],[0.4,\"#fde0ef\"],[0.5,\"#f7f7f7\"],[0.6,\"#e6f5d0\"],[0.7,\"#b8e186\"],[0.8,\"#7fbc41\"],[0.9,\"#4d9221\"],[1,\"#276419\"]],\"sequential\":[[0.0,\"#0d0887\"],[0.1111111111111111,\"#46039f\"],[0.2222222222222222,\"#7201a8\"],[0.3333333333333333,\"#9c179e\"],[0.4444444444444444,\"#bd3786\"],[0.5555555555555556,\"#d8576b\"],[0.6666666666666666,\"#ed7953\"],[0.7777777777777778,\"#fb9f3a\"],[0.8888888888888888,\"#fdca26\"],[1.0,\"#f0f921\"]],\"sequentialminus\":[[0.0,\"#0d0887\"],[0.1111111111111111,\"#46039f\"],[0.2222222222222222,\"#7201a8\"],[0.3333333333333333,\"#9c179e\"],[0.4444444444444444,\"#bd3786\"],[0.5555555555555556,\"#d8576b\"],[0.6666666666666666,\"#ed7953\"],[0.7777777777777778,\"#fb9f3a\"],[0.8888888888888888,\"#fdca26\"],[1.0,\"#f0f921\"]]},\"colorway\":[\"#636efa\",\"#EF553B\",\"#00cc96\",\"#ab63fa\",\"#FFA15A\",\"#19d3f3\",\"#FF6692\",\"#B6E880\",\"#FF97FF\",\"#FECB52\"],\"font\":{\"color\":\"#2a3f5f\"},\"geo\":{\"bgcolor\":\"white\",\"lakecolor\":\"white\",\"landcolor\":\"#E5ECF6\",\"showlakes\":true,\"showland\":true,\"subunitcolor\":\"white\"},\"hoverlabel\":{\"align\":\"left\"},\"hovermode\":\"closest\",\"mapbox\":{\"style\":\"light\"},\"paper_bgcolor\":\"white\",\"plot_bgcolor\":\"#E5ECF6\",\"polar\":{\"angularaxis\":{\"gridcolor\":\"white\",\"linecolor\":\"white\",\"ticks\":\"\"},\"bgcolor\":\"#E5ECF6\",\"radialaxis\":{\"gridcolor\":\"white\",\"linecolor\":\"white\",\"ticks\":\"\"}},\"scene\":{\"xaxis\":{\"backgroundcolor\":\"#E5ECF6\",\"gridcolor\":\"white\",\"gridwidth\":2,\"linecolor\":\"white\",\"showbackground\":true,\"ticks\":\"\",\"zerolinecolor\":\"white\"},\"yaxis\":{\"backgroundcolor\":\"#E5ECF6\",\"gridcolor\":\"white\",\"gridwidth\":2,\"linecolor\":\"white\",\"showbackground\":true,\"ticks\":\"\",\"zerolinecolor\":\"white\"},\"zaxis\":{\"backgroundcolor\":\"#E5ECF6\",\"gridcolor\":\"white\",\"gridwidth\":2,\"linecolor\":\"white\",\"showbackground\":true,\"ticks\":\"\",\"zerolinecolor\":\"white\"}},\"shapedefaults\":{\"line\":{\"color\":\"#2a3f5f\"}},\"ternary\":{\"aaxis\":{\"gridcolor\":\"white\",\"linecolor\":\"white\",\"ticks\":\"\"},\"baxis\":{\"gridcolor\":\"white\",\"linecolor\":\"white\",\"ticks\":\"\"},\"bgcolor\":\"#E5ECF6\",\"caxis\":{\"gridcolor\":\"white\",\"linecolor\":\"white\",\"ticks\":\"\"}},\"title\":{\"x\":0.05},\"xaxis\":{\"automargin\":true,\"gridcolor\":\"white\",\"linecolor\":\"white\",\"ticks\":\"\",\"title\":{\"standoff\":15},\"zerolinecolor\":\"white\",\"zerolinewidth\":2},\"yaxis\":{\"automargin\":true,\"gridcolor\":\"white\",\"linecolor\":\"white\",\"ticks\":\"\",\"title\":{\"standoff\":15},\"zerolinecolor\":\"white\",\"zerolinewidth\":2}}},\"xaxis\":{\"anchor\":\"y\",\"domain\":[0.0,1.0],\"title\":{\"text\":\"mileage\"}},\"yaxis\":{\"anchor\":\"x\",\"domain\":[0.0,1.0],\"title\":{\"text\":\"predict price\"}},\"coloraxis\":{\"colorbar\":{\"title\":{\"text\":\"year\"}},\"colorscale\":[[0.0,\"#0d0887\"],[0.1111111111111111,\"#46039f\"],[0.2222222222222222,\"#7201a8\"],[0.3333333333333333,\"#9c179e\"],[0.4444444444444444,\"#bd3786\"],[0.5555555555555556,\"#d8576b\"],[0.6666666666666666,\"#ed7953\"],[0.7777777777777778,\"#fb9f3a\"],[0.8888888888888888,\"#fdca26\"],[1.0,\"#f0f921\"]]},\"legend\":{\"tracegroupgap\":0},\"margin\":{\"t\":60}},                        {\"responsive\": true}                    ).then(function(){\n",
              "                            \n",
              "var gd = document.getElementById('480b6b05-52a1-4f79-9734-e06d10e660cb');\n",
              "var x = new MutationObserver(function (mutations, observer) {{\n",
              "        var display = window.getComputedStyle(gd).display;\n",
              "        if (!display || display === 'none') {{\n",
              "            console.log([gd, 'removed!']);\n",
              "            Plotly.purge(gd);\n",
              "            observer.disconnect();\n",
              "        }}\n",
              "}});\n",
              "\n",
              "// Listen for the removal of the full notebook cells\n",
              "var notebookContainer = gd.closest('#notebook-container');\n",
              "if (notebookContainer) {{\n",
              "    x.observe(notebookContainer, {childList: true});\n",
              "}}\n",
              "\n",
              "// Listen for the clearing of the current output cell\n",
              "var outputEl = gd.closest('.output');\n",
              "if (outputEl) {{\n",
              "    x.observe(outputEl, {childList: true});\n",
              "}}\n",
              "\n",
              "                        })                };                            </script>        </div>\n",
              "</body>\n",
              "</html>"
            ]
          },
          "metadata": {}
        }
      ]
    },
    {
      "cell_type": "code",
      "source": [
        "fig = px.scatter_3d(us_ford_cars_df,x=\"year\", y=\"mileage\", z=\"predict price\", color=\"year\", hover_name=\"model\")\n",
        "fig.show()"
      ],
      "metadata": {
        "colab": {
          "base_uri": "https://localhost:8080/",
          "height": 542
        },
        "id": "rBEE1E0ma0g2",
        "outputId": "b10f3b3a-7cdb-4322-84ac-a0ad20718b5f"
      },
      "execution_count": 23,
      "outputs": [
        {
          "output_type": "display_data",
          "data": {
            "text/html": [
              "<html>\n",
              "<head><meta charset=\"utf-8\" /></head>\n",
              "<body>\n",
              "    <div>            <script src=\"https://cdnjs.cloudflare.com/ajax/libs/mathjax/2.7.5/MathJax.js?config=TeX-AMS-MML_SVG\"></script><script type=\"text/javascript\">if (window.MathJax) {MathJax.Hub.Config({SVG: {font: \"STIX-Web\"}});}</script>                <script type=\"text/javascript\">window.PlotlyConfig = {MathJaxConfig: 'local'};</script>\n",
              "        <script src=\"https://cdn.plot.ly/plotly-2.8.3.min.js\"></script>                <div id=\"eed7954e-fab6-4366-a0c9-a9cd66883dc6\" class=\"plotly-graph-div\" style=\"height:525px; width:100%;\"></div>            <script type=\"text/javascript\">                                    window.PLOTLYENV=window.PLOTLYENV || {};                                    if (document.getElementById(\"eed7954e-fab6-4366-a0c9-a9cd66883dc6\")) {                    Plotly.newPlot(                        \"eed7954e-fab6-4366-a0c9-a9cd66883dc6\",                        [{\"hovertemplate\":\"<b>%{hovertext}</b><br><br>year=%{marker.color}<br>mileage=%{y}<br>predict price=%{z}<extra></extra>\",\"hovertext\":[\"se\",\"door\",\"mpv\",\"door\",\"mpv\",\"door\",\"mpv\",\"door\",\"doors\",\"chassis\",\"mpv\",\"convertible\",\"mpv\",\"pk\",\"mpv\",\"srw\",\"srw\",\"mpv\",\"door\",\"door\",\"door\",\"door\",\"door\",\"door\",\"door\",\"door\",\"door\",\"door\",\"door\",\"door\",\"mpv\",\"focus\",\"mpv\",\"focus\",\"mpv\",\"focus\",\"door\",\"mpv\",\"escape\",\"mpv\",\"door\",\"mpv\",\"door\",\"explorer\",\"door\",\"f-150\",\"mpv\",\"cutaway\",\"door\",\"explorer\",\"el\",\"edge\",\"door\",\"flex\",\"door\",\"door\",\"door\",\"door\",\"door\",\"door\",\"mpv\",\"door\",\"door\",\"door\",\"door\",\"door\",\"door\",\"mpv\",\"cab\",\"wagon\",\"doors\",\"door\",\"wagon\",\"mpv\",\"door\",\"door\",\"door\",\"door\",\"door\",\"doors\",\"mpv\",\"door\",\"doors\",\"van\",\"door\",\"door\",\"door\",\"door\",\"mpv\",\"cargo\",\"mpv\",\"door\",\"pickup\",\"door\",\"chassis\",\"mpv\",\"chassis\",\"mpv\",\"door\",\"door\",\"door\",\"van\",\"door\",\"drw\",\"door\",\"fiesta\",\"doors\",\"fiesta\",\"door\",\"fiesta\",\"door\",\"doors\",\"cab\",\"door\",\"doors\",\"door\",\"doors\",\"wagon\",\"door\",\"door\",\"door\",\"f-150\",\"van\",\"door\",\"door\",\"chassis\",\"door\",\"door\",\"door\",\"door\",\"door\",\"door\",\"door\",\"door\",\"door\",\"door\",\"f-150\",\"pickup\",\"door\",\"door\",\"door\",\"pickup\",\"pk\",\"door\",\"door\",\"door\",\"door\",\"door\",\"door\",\"door\",\"door\",\"pickup\",\"door\",\"door\",\"door\",\"door\",\"door\",\"door\",\"door\",\"door\",\"door\",\"srw\",\"door\",\"f-150\",\"door\",\"door\",\"door\",\"door\",\"pickup\",\"f-150\",\"f-150\",\"pk\",\"door\",\"door\",\"f-150\",\"pickup\",\"door\",\"door\",\"f-150\",\"door\",\"door\",\"door\",\"door\",\"door\",\"f-150\",\"f-150\",\"f-150\",\"f-150\",\"f-150\",\"f-150\",\"f-150\",\"f-150\",\"f-150\",\"f-150\",\"f-150\",\"f-150\",\"f-150\",\"f-150\",\"f-150\",\"f-150\",\"f-150\",\"f-150\",\"f-150\",\"f-150\",\"f-150\",\"f-150\",\"f-150\",\"f-150\",\"f-150\",\"f-150\",\"f-150\",\"f-150\",\"flex\",\"flex\",\"flex\",\"flex\",\"flex\",\"f-150\",\"flex\",\"f-150\",\"flex\",\"f-150\",\"flex\",\"flex\",\"fusion\",\"flex\",\"flex\",\"fusion\",\"mustang\",\"door\",\"door\",\"door\",\"doors\",\"door\",\"doors\",\"door\",\"doors\",\"fusion\",\"doors\",\"doors\",\"door\",\"doors\",\"doors\",\"srw\",\"drw\",\"door\",\"srw\",\"wagon\",\"explorer\",\"fusion\",\"door\",\"fusion\",\"srw\",\"door\",\"srw\",\"mustang\",\"wagon\",\"fusion\",\"door\",\"transit\",\"fusion\",\"van\",\"door\",\"door\",\"door\",\"door\",\"door\",\"door\",\"van\",\"door\",\"door\",\"edge\",\"door\",\"f-150\",\"van\",\"door\",\"transit\",\"explorer\",\"f-150\",\"transit\",\"f-150\",\"srw\",\"flex\",\"transit\",\"ranger\",\"fusion\",\"flex\",\"transit\",\"taurus\",\"transit\",\"f-150\",\"srw\",\"taurus\",\"f-150\",\"escape\",\"explorer\",\"transit\",\"mustang\",\"mustang\",\"transit\",\"mustang\",\"flex\",\"transit\",\"f-150\",\"door\",\"escape\",\"f-150\",\"explorer\",\"transit\",\"edge\",\"transit\",\"door\",\"transit\",\"edge\",\"f-150\",\"door\",\"transit\",\"f-150\",\"door\",\"f-150\",\"transit\",\"f-150\",\"door\",\"transit\",\"door\",\"transit\",\"f-150\",\"transit\",\"transit\",\"mustang\",\"transit\",\"flex\",\"door\",\"edge\",\"edge\",\"edge\",\"door\",\"edge\",\"door\",\"edge\",\"edge\",\"door\",\"f-150\",\"door\",\"door\",\"mustang\",\"edge\",\"mustang\",\"door\",\"cutaway\",\"cutaway\",\"cutaway\",\"cutaway\",\"door\",\"door\",\"cutaway\",\"door\",\"door\",\"f-150\",\"door\",\"f-150\",\"door\",\"max\",\"srw\",\"transit\",\"srw\",\"srw\",\"drw\",\"srw\",\"srw\",\"srw\",\"drw\",\"srw\",\"srw\",\"srw\",\"door\",\"energi\",\"door\",\"door\",\"fusion\",\"fusion\",\"f-150\",\"cab\",\"mustang\",\"f-150\",\"mustang\",\"f-150\",\"mustang\",\"ranger\",\"edge\",\"expedition\",\"f-150\",\"edge\",\"f-150\",\"f-150\",\"f-150\",\"fiesta\",\"fusion\",\"f-150\",\"expedition\",\"door\",\"f-150\",\"door\",\"max\",\"wagon\",\"drw\",\"srw\",\"mustang\",\"mustang\",\"flex\",\"f-150\",\"explorer\",\"transit\",\"mustang\",\"flex\",\"escape\",\"srw\",\"fiesta\",\"f-150\",\"fusion\",\"door\",\"door\",\"door\",\"flex\",\"door\",\"explorer\",\"door\",\"fusion\",\"fusion\",\"door\",\"door\",\"van\",\"srw\",\"f-150\",\"door\",\"srw\",\"door\",\"door\",\"door\",\"f-150\",\"fusion\",\"explorer\",\"el\",\"door\",\"el\",\"door\",\"door\",\"door\",\"expedition\",\"expedition\",\"van\",\"door\",\"edge\",\"door\",\"expedition\",\"fiesta\",\"expedition\",\"max\",\"expedition\",\"wagon\",\"door\",\"escape\",\"wagon\",\"max\",\"wagon\",\"door\",\"max\",\"wagon\",\"f-150\",\"edge\",\"wagon\",\"taurus\",\"door\",\"max\",\"wagon\",\"van\",\"door\",\"expedition\",\"wagon\",\"door\",\"door\",\"expedition\",\"wagon\",\"door\",\"max\",\"max\",\"max\",\"f-150\",\"max\",\"f-150\",\"max\",\"door\",\"bus\",\"max\",\"door\",\"expedition\",\"door\",\"max\",\"door\",\"mustang\",\"max\",\"door\",\"expedition\",\"door\",\"max\",\"expedition\",\"f-150\",\"max\",\"f-150\",\"f-150\",\"f-150\",\"f-150\",\"f-150\",\"f-150\",\"f-150\",\"escape\",\"f-150\",\"f-150\",\"fusion\",\"f-150\",\"f-150\",\"fusion\",\"expedition\",\"f-150\",\"door\",\"max\",\"f-150\",\"f-150\",\"f-150\",\"f-150\",\"f-150\",\"f-150\",\"door\",\"f-150\",\"f-150\",\"door\",\"f-150\",\"f-150\",\"f-150\",\"f-150\",\"f-150\",\"transit\",\"f-150\",\"transit\",\"f-150\",\"f-150\",\"transit\",\"f-150\",\"f-150\",\"fusion\",\"f-150\",\"f-150\",\"f-150\",\"escape\",\"f-150\",\"explorer\",\"f-150\",\"door\",\"f-150\",\"door\",\"f-150\",\"door\",\"f-150\",\"door\",\"f-150\",\"door\",\"f-150\",\"f-150\",\"door\",\"f-150\",\"f-150\",\"door\",\"f-150\",\"f-150\",\"edge\",\"f-150\",\"f-150\",\"door\",\"f-150\",\"escape\",\"door\",\"f-150\",\"fusion\",\"f-150\",\"f-150\",\"transit\",\"f-150\",\"f-150\",\"fusion\",\"door\",\"f-150\",\"fusion\",\"f-150\",\"flex\",\"fusion\",\"door\",\"fusion\",\"explorer\",\"flex\",\"flex\",\"f-150\",\"fusion\",\"fusion\",\"door\",\"fusion\",\"door\",\"fusion\",\"door\",\"fusion\",\"srw\",\"fusion\",\"door\",\"srw\",\"taurus\",\"door\",\"drw\",\"taurus\",\"door\",\"drw\",\"taurus\",\"door\",\"drw\",\"transit\",\"f-150\",\"drw\",\"taurus\",\"door\",\"taurus\",\"door\",\"transit\",\"transit\",\"f-150\",\"door\",\"transit\",\"door\",\"doors\",\"wagon\",\"door\",\"door\",\"doors\",\"door\",\"door\",\"doors\",\"escape\",\"door\",\"door\",\"door\",\"wagon\",\"door\",\"door\",\"door\",\"wagon\",\"door\",\"door\",\"door\",\"wagon\",\"door\",\"door\",\"door\",\"door\",\"door\",\"cutaway\",\"door\",\"door\",\"door\",\"door\",\"f-150\",\"door\",\"f-150\",\"fusion\",\"f-150\",\"mustang\",\"expedition\",\"fusion\",\"f-150\",\"expedition\",\"transit\",\"wagon\",\"edge\",\"focus\",\"max\",\"door\",\"max\",\"door\",\"door\",\"edge\",\"door\",\"edge\",\"door\",\"edge\",\"door\",\"ecosport\",\"edge\",\"escape\",\"door\",\"f-150\",\"ecosport\",\"door\",\"f-150\",\"edge\",\"f-150\",\"edge\",\"explorer\",\"door\",\"explorer\",\"flex\",\"f-750\",\"fusion\",\"fusion\",\"f-150\",\"fusion\",\"f-150\",\"f-150\",\"f-150\",\"fusion\",\"fusion\",\"f-150\",\"fusion\",\"f-150\",\"ecosport\",\"wagon\",\"max\",\"ranger\",\"edge\",\"explorer\",\"escape\",\"mustang\",\"edge\",\"escape\",\"ecosport\",\"door\",\"ecosport\",\"explorer\",\"door\",\"escape\",\"escape\",\"max\",\"srw\",\"door\",\"expedition\",\"srw\",\"door\",\"max\",\"door\",\"escape\",\"explorer\",\"door\",\"expedition\",\"door\",\"escape\",\"door\",\"max\",\"door\",\"escape\",\"escape\",\"cab\",\"max\",\"expedition\",\"door\",\"explorer\",\"escape\",\"f-150\",\"escape\",\"srw\",\"f-150\",\"max\",\"escape\",\"f-150\",\"max\",\"f-150\",\"explorer\",\"focus\",\"f-150\",\"f-150\",\"f-150\",\"f-150\",\"f-150\",\"door\",\"f-150\",\"door\",\"mustang\",\"door\",\"mustang\",\"edge\",\"transit\",\"door\",\"wagon\",\"door\",\"transit\",\"door\",\"srw\",\"van\",\"srw\",\"mustang\",\"escape\",\"door\",\"fiesta\",\"edge\",\"ecosport\",\"edge\",\"door\",\"explorer\",\"fusion\",\"door\",\"mustang\",\"door\",\"explorer\",\"f-150\",\"door\",\"srw\",\"door\",\"drw\",\"escape\",\"door\",\"escape\",\"door\",\"escape\",\"door\",\"f-150\",\"explorer\",\"door\",\"door\",\"max\",\"transit\",\"transit\",\"escape\",\"f-150\",\"f-150\",\"f-150\",\"f-150\",\"f-150\",\"f-150\",\"f-150\",\"f-150\",\"srw\",\"f-150\",\"f-150\",\"f-150\",\"door\",\"f-150\",\"door\",\"fiesta\",\"door\",\"f-150\",\"door\",\"transit\",\"transit\",\"door\",\"door\",\"door\",\"door\",\"explorer\",\"door\",\"door\",\"door\",\"door\",\"door\",\"door\",\"door\",\"van\",\"door\",\"expedition\",\"door\",\"door\",\"door\",\"door\",\"door\",\"bus\",\"door\",\"door\",\"door\",\"door\",\"door\",\"door\",\"door\",\"edge\",\"door\",\"door\",\"escape\",\"cutaway\",\"focus\",\"max\",\"door\",\"max\",\"door\",\"escape\",\"max\",\"door\",\"edge\",\"door\",\"expedition\",\"door\",\"escape\",\"max\",\"escape\",\"d\",\"explorer\",\"edge\",\"dr\",\"max\",\"cab\",\"escape\",\"explorer\",\"explorer\",\"cutaway\",\"doors\",\"max\",\"doors\",\"expedition\",\"doors\",\"expedition\",\"cutaway\",\"doors\",\"edge\",\"doors\",\"door\",\"max\",\"doors\",\"door\",\"escape\",\"doors\",\"f-150\",\"explorer\",\"d\",\"doors\",\"fusion\",\"door\",\"f-150\",\"door\",\"doors\",\"max\",\"door\",\"f-150\",\"door\",\"doors\",\"fusion\",\"door\",\"f-150\",\"doors\",\"f-150\",\"door\",\"f-150\",\"doors\",\"flex\",\"mustang\",\"flex\",\"door\",\"doors\",\"flex\",\"explorer\",\"door\",\"f-150\",\"focus\",\"explorer\",\"door\",\"f-150\",\"edge\",\"doors\",\"f-150\",\"door\",\"escape\",\"doors\",\"f-150\",\"door\",\"door\",\"doors\",\"f-150\",\"door\",\"door\",\"doors\",\"flex\",\"f-150\",\"hybrid\",\"doors\",\"f-150\",\"f-150\",\"door\",\"doors\",\"fusion\",\"door\",\"mustang\",\"door\",\"doors\",\"fusion\",\"door\",\"wagon\",\"fusion\",\"doors\",\"f-150\",\"explorer\",\"fusion\",\"mustang\",\"doors\",\"wagon\",\"explorer\",\"fusion\",\"escape\",\"doors\",\"fusion\",\"door\",\"hybrid\",\"mustang\",\"doors\",\"door\",\"mustang\",\"door\",\"doors\",\"door\",\"door\",\"ranger\",\"door\",\"doors\",\"door\",\"focus\",\"mustang\",\"door\",\"doors\",\"srw\",\"door\",\"ranger\",\"doors\",\"doors\",\"srw\",\"wagon\",\"fusion\",\"doors\",\"doors\",\"srw\",\"door\",\"hybrid\",\"doors\",\"doors\",\"doors\",\"doors\",\"doors\",\"doors\",\"doors\",\"doors\",\"door\",\"doors\",\"doors\",\"doors\",\"taurus\",\"ranger\",\"door\",\"doors\",\"door\",\"door\",\"door\",\"doors\",\"door\",\"door\",\"doors\",\"door\",\"doors\",\"van\",\"doors\",\"fusion\",\"door\",\"doors\",\"expedition\",\"doors\",\"door\",\"doors\",\"doors\",\"doors\",\"doors\",\"door\",\"doors\",\"doors\",\"doors\",\"doors\",\"doors\",\"doors\",\"doors\",\"doors\",\"expedition\",\"doors\",\"max\",\"doors\",\"max\",\"doors\",\"escape\",\"suv\",\"max\",\"doors\",\"expedition\",\"doors\",\"max\",\"doors\",\"expedition\",\"doors\",\"flex\",\"doors\",\"flex\",\"doors\",\"f-150\",\"door\",\"doors\",\"mustang\",\"door\",\"doors\",\"transit\",\"max\",\"doors\",\"doors\",\"door\",\"doors\",\"connect\",\"doors\",\"door\",\"doors\",\"door\",\"doors\",\"door\",\"doors\",\"door\",\"edge\",\"door\",\"max\",\"f-150\",\"f-150\",\"explorer\",\"f-150\",\"door\",\"expedition\",\"door\",\"f-150\",\"wagon\",\"door\",\"explorer\",\"escape\",\"explorer\",\"f-150\",\"door\",\"f-150\",\"explorer\",\"door\",\"f-150\",\"door\",\"door\",\"f-150\",\"f-650\",\"door\",\"f-150\",\"f-650\",\"wagon\",\"escape\",\"f-150\",\"srw\",\"door\",\"f-150\",\"f-150\",\"taurus\",\"f-150\",\"door\",\"f-150\",\"expedition\",\"f-150\",\"mustang\",\"f-150\",\"explorer\",\"f-150\",\"escape\",\"door\",\"f-150\",\"escape\",\"door\",\"f-150\",\"explorer\",\"door\",\"f-150\",\"f-150\",\"ecosport\",\"door\",\"f-150\",\"door\",\"f-150\",\"f-150\",\"door\",\"f-150\",\"explorer\",\"f-150\",\"explorer\",\"fiesta\",\"explorer\",\"f-150\",\"focus\",\"f-150\",\"fiesta\",\"f-150\",\"fiesta\",\"f-150\",\"flex\",\"f-150\",\"fiesta\",\"f-150\",\"flex\",\"f-150\",\"hybrid\",\"f-150\",\"fiesta\",\"f-150\",\"flex\",\"f-150\",\"fiesta\",\"fusion\",\"flex\",\"fusion\",\"fusion\",\"transit\",\"fusion\",\"transit\",\"fusion\",\"transit\",\"fusion\",\"wagon\",\"fusion\",\"wagon\",\"fusion\",\"transit\",\"fusion\",\"fusion\",\"fusion\",\"hybrid\",\"fusion\",\"fusion\",\"f-650\",\"fusion\",\"srw\",\"fusion\",\"srw\",\"fusion\",\"srw\",\"fusion\"],\"legendgroup\":\"\",\"marker\":{\"color\":[2011,2014,2017,2013,2017,2013,2017,2013,2017,2008,2017,2003,2017,2003,2017,2017,2017,2017,2017,2017,2017,2017,2017,2016,2017,2016,2017,2017,2017,2015,2017,2018,2017,2018,2017,2018,2017,2017,2018,2017,2017,2017,2017,2017,2017,2017,2017,2014,2016,2016,2016,2016,2016,2016,2014,2014,2017,2014,2017,2015,2017,2017,2017,2017,2014,2017,2011,2017,2011,2017,2017,2017,2017,2017,2016,2017,2016,2017,2015,2017,2017,2017,2017,2014,2017,2014,2016,2012,2016,2011,2016,2011,2008,2016,2008,2016,2005,2016,2016,2012,2016,2003,2016,2011,2016,2019,2016,2019,2016,2019,2016,2019,2017,2000,2019,2017,2019,2006,2017,2017,2003,2017,1998,2013,2017,1994,1997,2017,1996,2006,2017,2002,2004,2015,2017,2015,2017,2009,2009,2015,2017,1994,2001,2015,2017,1997,1998,2015,2017,2015,2017,2006,2015,2017,2010,1998,2015,2017,2010,1984,2015,2019,2014,2017,2017,2004,2011,2017,2001,2017,2017,2010,2017,2014,2017,1996,2017,2010,2017,2008,2010,2017,2007,2017,2019,2019,2019,2019,2019,2019,2019,2019,2019,2019,2019,2019,2019,2019,2019,2019,2019,2019,2019,2019,2019,2019,2019,2019,2019,2019,2019,2019,2019,2019,2019,2019,2019,2019,2019,2019,2019,2019,2019,2019,2019,2019,2019,2019,2019,2017,2017,2017,2015,2017,2015,2016,2015,2017,2015,2015,2012,2015,2015,2014,2012,2015,2019,2018,2020,2018,2017,2020,2019,2016,2019,2018,2019,2019,2016,2019,2020,2016,2015,2014,2015,2013,2013,2013,2013,2012,2012,2018,2017,2019,2017,2012,2019,2016,2018,2019,2018,2019,2019,2019,2019,2019,2019,2019,2018,2019,2018,2019,2018,2018,2018,2018,2018,2018,2019,2018,2018,2019,2018,2018,2014,2017,2019,2017,2019,2017,2019,2017,2019,2017,2019,2017,2019,2019,2017,2019,2019,2019,2017,2019,2017,2019,2017,2019,2017,2017,2017,2017,2012,2016,2016,2019,2016,2019,2016,2019,2019,2016,2019,2016,2016,2019,2016,2019,2016,2015,2015,2015,2015,2015,2015,2015,2014,2014,2019,2013,2019,2013,2019,2017,2019,2019,2019,2019,2019,2019,2019,2019,2019,2018,2018,2014,2014,2012,2013,2019,2019,2019,2012,2019,2018,2019,2019,2019,2019,2019,2019,2019,2019,2019,2019,2019,2018,2019,2019,2019,2017,2019,2015,2018,2018,2019,2019,2018,2018,2018,2018,2018,2018,2018,2018,2018,2018,2018,2020,2020,2017,2017,2017,2017,2012,2017,2013,2020,2018,2017,2016,2020,2019,2017,2016,2019,2017,2013,2017,2017,2019,2017,2017,2017,2017,2016,2015,2016,2019,2019,2012,2015,2019,2015,2019,2018,2019,2019,2019,2019,2014,2019,2019,2019,2019,2013,2019,2019,2018,2019,2019,2016,2013,2019,2019,2015,2013,2019,2019,2014,2019,2019,2019,2014,2019,2019,2019,2017,2019,2019,2019,2015,2013,2019,2015,2019,2015,2019,2015,2018,2019,2015,2019,2015,2019,2019,2018,2019,2018,2019,2018,2019,2019,2018,2019,2019,2019,2019,2019,2019,2019,2017,2019,2019,2013,2019,2019,2019,2019,2019,2019,2019,2015,2019,2019,2014,2019,2019,2019,2019,2019,2019,2019,2019,2018,2019,2019,2018,2019,2018,2019,2017,2019,2017,2019,2017,2019,2016,2019,2016,2019,2016,2019,2016,2019,2016,2019,2019,2016,2019,2019,2016,2019,2019,2016,2019,2019,2016,2019,2019,2015,2019,2019,2013,2019,2019,2014,2019,2019,2013,2019,2019,2013,2019,2019,2017,2019,2018,2019,2019,2018,2019,2019,2015,2019,2015,2019,2013,2019,2019,2019,2012,2017,2019,2015,2018,2019,2016,2018,2019,2015,2017,2019,2019,2017,2019,2013,2019,2013,2019,2019,2019,2013,2019,2016,2015,2019,2017,2017,2015,2017,2016,2015,2017,2012,2015,2012,2019,2016,2014,2017,2019,2016,2014,2012,2019,2014,2014,2014,2014,2014,2013,2013,2014,2013,2016,2019,2019,2019,2020,2019,2020,2019,2020,2019,2019,2019,2019,2019,2016,2019,2014,2019,2013,2012,2019,2013,2019,2013,2019,2012,2019,2015,2019,2015,2019,2019,2014,2019,2019,2019,2019,2019,2013,2019,2019,2012,2020,2019,2019,2019,2019,2019,2019,2019,2019,2019,2019,2019,2019,2019,2019,2019,2019,2019,2019,2019,2019,2019,2019,2014,2019,2020,2013,2019,2020,2019,2019,2017,2019,2019,2015,2019,2015,2019,2020,2013,2019,2013,2019,2012,2019,2012,2019,2019,2012,2019,2019,2017,2019,2019,2019,2019,2019,2019,2019,2019,2019,2019,2019,2019,2017,2019,2019,2019,2017,2019,2017,2019,2017,2019,2016,2019,2016,2019,2016,2019,2016,2019,2016,2019,2016,2019,2019,2018,2013,2018,2015,2018,2019,2014,2018,2018,2016,2018,2016,2018,2018,2016,2019,2017,2019,2017,2016,2017,2017,2017,2017,2017,2017,2014,2013,2019,2019,2019,2019,2019,2019,2019,2019,2019,2019,2019,2019,2016,2019,2019,2019,2016,2019,2014,2019,2017,2019,2012,2019,2019,2016,2017,2017,2015,2016,2015,2016,2016,2014,2015,2013,2013,2015,2016,2017,2014,2014,2014,2013,2015,2013,2014,2013,2013,2014,2015,2013,2013,2019,2012,2012,2018,2015,2018,2019,2014,2019,2016,2019,2019,2015,2019,2015,2019,2017,2019,2019,2019,2016,2019,2019,2012,2019,2012,2019,2017,2019,2014,2016,2019,2016,2019,2016,2019,2013,2016,2019,2016,2015,2019,2016,2014,2019,2016,2019,2019,2019,2016,2019,2012,2019,2012,2016,2019,2014,2019,2013,2016,2019,2013,2019,2016,2019,2012,2019,2016,2019,2016,2019,2012,2016,2019,2019,2016,2019,2018,2019,2012,2019,2016,2018,2019,2016,2018,2018,2019,2017,2016,2018,2019,2017,2016,2018,2019,2018,2016,2018,2019,2018,2016,2018,2019,2016,2019,2018,2018,2019,2016,2019,2018,2018,2019,2017,2019,2018,2018,2019,2017,2019,2018,2018,2019,2017,2019,2018,2018,2017,2019,2014,2018,2014,2017,2019,2017,2018,2014,2017,2019,2012,2018,2019,2017,2019,2015,2018,2019,2017,2019,2015,2018,2019,2013,2019,2015,2018,2015,2018,2015,2018,2015,2018,2016,2015,2018,2015,2018,2020,2016,2015,2014,2012,2016,2015,2012,2016,2015,2015,2015,2015,2015,2020,2015,2015,2015,2015,2014,2015,2015,2015,2015,2017,2015,2015,2015,2015,2015,2015,2015,2015,2019,2015,2019,2015,2019,2015,2019,2015,2019,2015,2019,2015,2019,2015,2019,2015,2019,2015,2019,2015,2019,2014,2015,2019,2015,2015,2019,2018,2015,2015,2016,2015,2015,2015,2017,2015,2017,2015,2017,2015,2017,2018,2017,2020,2017,2017,2019,2018,2017,2018,2017,2017,2018,2017,2018,2018,2019,2018,2016,2018,2019,2016,2018,2012,2016,2018,2015,2015,2018,2015,2018,2015,2018,2019,2015,2018,2018,2017,2018,2016,2018,2014,2018,2019,2018,2019,2018,2019,2017,2018,2019,2017,2018,2019,2016,2018,2018,2019,2015,2018,2015,2018,2018,2014,2018,2019,2018,2019,2018,2019,2018,2017,2018,2019,2018,2019,2018,2019,2018,2019,2018,2019,2018,2019,2018,2019,2018,2019,2018,2019,2018,2019,2018,2019,2018,2019,2018,2019,2018,2019,2018,2019,2018,2019,2018,2019,2019,2019,2019,2019,2019,2018,2019,2018,2019,2018,2019,2018,2019],\"coloraxis\":\"coloraxis\",\"symbol\":\"circle\"},\"mode\":\"markers\",\"name\":\"\",\"scene\":\"scene\",\"showlegend\":false,\"x\":[2011,2014,2017,2013,2017,2013,2017,2013,2017,2008,2017,2003,2017,2003,2017,2017,2017,2017,2017,2017,2017,2017,2017,2016,2017,2016,2017,2017,2017,2015,2017,2018,2017,2018,2017,2018,2017,2017,2018,2017,2017,2017,2017,2017,2017,2017,2017,2014,2016,2016,2016,2016,2016,2016,2014,2014,2017,2014,2017,2015,2017,2017,2017,2017,2014,2017,2011,2017,2011,2017,2017,2017,2017,2017,2016,2017,2016,2017,2015,2017,2017,2017,2017,2014,2017,2014,2016,2012,2016,2011,2016,2011,2008,2016,2008,2016,2005,2016,2016,2012,2016,2003,2016,2011,2016,2019,2016,2019,2016,2019,2016,2019,2017,2000,2019,2017,2019,2006,2017,2017,2003,2017,1998,2013,2017,1994,1997,2017,1996,2006,2017,2002,2004,2015,2017,2015,2017,2009,2009,2015,2017,1994,2001,2015,2017,1997,1998,2015,2017,2015,2017,2006,2015,2017,2010,1998,2015,2017,2010,1984,2015,2019,2014,2017,2017,2004,2011,2017,2001,2017,2017,2010,2017,2014,2017,1996,2017,2010,2017,2008,2010,2017,2007,2017,2019,2019,2019,2019,2019,2019,2019,2019,2019,2019,2019,2019,2019,2019,2019,2019,2019,2019,2019,2019,2019,2019,2019,2019,2019,2019,2019,2019,2019,2019,2019,2019,2019,2019,2019,2019,2019,2019,2019,2019,2019,2019,2019,2019,2019,2017,2017,2017,2015,2017,2015,2016,2015,2017,2015,2015,2012,2015,2015,2014,2012,2015,2019,2018,2020,2018,2017,2020,2019,2016,2019,2018,2019,2019,2016,2019,2020,2016,2015,2014,2015,2013,2013,2013,2013,2012,2012,2018,2017,2019,2017,2012,2019,2016,2018,2019,2018,2019,2019,2019,2019,2019,2019,2019,2018,2019,2018,2019,2018,2018,2018,2018,2018,2018,2019,2018,2018,2019,2018,2018,2014,2017,2019,2017,2019,2017,2019,2017,2019,2017,2019,2017,2019,2019,2017,2019,2019,2019,2017,2019,2017,2019,2017,2019,2017,2017,2017,2017,2012,2016,2016,2019,2016,2019,2016,2019,2019,2016,2019,2016,2016,2019,2016,2019,2016,2015,2015,2015,2015,2015,2015,2015,2014,2014,2019,2013,2019,2013,2019,2017,2019,2019,2019,2019,2019,2019,2019,2019,2019,2018,2018,2014,2014,2012,2013,2019,2019,2019,2012,2019,2018,2019,2019,2019,2019,2019,2019,2019,2019,2019,2019,2019,2018,2019,2019,2019,2017,2019,2015,2018,2018,2019,2019,2018,2018,2018,2018,2018,2018,2018,2018,2018,2018,2018,2020,2020,2017,2017,2017,2017,2012,2017,2013,2020,2018,2017,2016,2020,2019,2017,2016,2019,2017,2013,2017,2017,2019,2017,2017,2017,2017,2016,2015,2016,2019,2019,2012,2015,2019,2015,2019,2018,2019,2019,2019,2019,2014,2019,2019,2019,2019,2013,2019,2019,2018,2019,2019,2016,2013,2019,2019,2015,2013,2019,2019,2014,2019,2019,2019,2014,2019,2019,2019,2017,2019,2019,2019,2015,2013,2019,2015,2019,2015,2019,2015,2018,2019,2015,2019,2015,2019,2019,2018,2019,2018,2019,2018,2019,2019,2018,2019,2019,2019,2019,2019,2019,2019,2017,2019,2019,2013,2019,2019,2019,2019,2019,2019,2019,2015,2019,2019,2014,2019,2019,2019,2019,2019,2019,2019,2019,2018,2019,2019,2018,2019,2018,2019,2017,2019,2017,2019,2017,2019,2016,2019,2016,2019,2016,2019,2016,2019,2016,2019,2019,2016,2019,2019,2016,2019,2019,2016,2019,2019,2016,2019,2019,2015,2019,2019,2013,2019,2019,2014,2019,2019,2013,2019,2019,2013,2019,2019,2017,2019,2018,2019,2019,2018,2019,2019,2015,2019,2015,2019,2013,2019,2019,2019,2012,2017,2019,2015,2018,2019,2016,2018,2019,2015,2017,2019,2019,2017,2019,2013,2019,2013,2019,2019,2019,2013,2019,2016,2015,2019,2017,2017,2015,2017,2016,2015,2017,2012,2015,2012,2019,2016,2014,2017,2019,2016,2014,2012,2019,2014,2014,2014,2014,2014,2013,2013,2014,2013,2016,2019,2019,2019,2020,2019,2020,2019,2020,2019,2019,2019,2019,2019,2016,2019,2014,2019,2013,2012,2019,2013,2019,2013,2019,2012,2019,2015,2019,2015,2019,2019,2014,2019,2019,2019,2019,2019,2013,2019,2019,2012,2020,2019,2019,2019,2019,2019,2019,2019,2019,2019,2019,2019,2019,2019,2019,2019,2019,2019,2019,2019,2019,2019,2019,2014,2019,2020,2013,2019,2020,2019,2019,2017,2019,2019,2015,2019,2015,2019,2020,2013,2019,2013,2019,2012,2019,2012,2019,2019,2012,2019,2019,2017,2019,2019,2019,2019,2019,2019,2019,2019,2019,2019,2019,2019,2017,2019,2019,2019,2017,2019,2017,2019,2017,2019,2016,2019,2016,2019,2016,2019,2016,2019,2016,2019,2016,2019,2019,2018,2013,2018,2015,2018,2019,2014,2018,2018,2016,2018,2016,2018,2018,2016,2019,2017,2019,2017,2016,2017,2017,2017,2017,2017,2017,2014,2013,2019,2019,2019,2019,2019,2019,2019,2019,2019,2019,2019,2019,2016,2019,2019,2019,2016,2019,2014,2019,2017,2019,2012,2019,2019,2016,2017,2017,2015,2016,2015,2016,2016,2014,2015,2013,2013,2015,2016,2017,2014,2014,2014,2013,2015,2013,2014,2013,2013,2014,2015,2013,2013,2019,2012,2012,2018,2015,2018,2019,2014,2019,2016,2019,2019,2015,2019,2015,2019,2017,2019,2019,2019,2016,2019,2019,2012,2019,2012,2019,2017,2019,2014,2016,2019,2016,2019,2016,2019,2013,2016,2019,2016,2015,2019,2016,2014,2019,2016,2019,2019,2019,2016,2019,2012,2019,2012,2016,2019,2014,2019,2013,2016,2019,2013,2019,2016,2019,2012,2019,2016,2019,2016,2019,2012,2016,2019,2019,2016,2019,2018,2019,2012,2019,2016,2018,2019,2016,2018,2018,2019,2017,2016,2018,2019,2017,2016,2018,2019,2018,2016,2018,2019,2018,2016,2018,2019,2016,2019,2018,2018,2019,2016,2019,2018,2018,2019,2017,2019,2018,2018,2019,2017,2019,2018,2018,2019,2017,2019,2018,2018,2017,2019,2014,2018,2014,2017,2019,2017,2018,2014,2017,2019,2012,2018,2019,2017,2019,2015,2018,2019,2017,2019,2015,2018,2019,2013,2019,2015,2018,2015,2018,2015,2018,2015,2018,2016,2015,2018,2015,2018,2020,2016,2015,2014,2012,2016,2015,2012,2016,2015,2015,2015,2015,2015,2020,2015,2015,2015,2015,2014,2015,2015,2015,2015,2017,2015,2015,2015,2015,2015,2015,2015,2015,2019,2015,2019,2015,2019,2015,2019,2015,2019,2015,2019,2015,2019,2015,2019,2015,2019,2015,2019,2015,2019,2014,2015,2019,2015,2015,2019,2018,2015,2015,2016,2015,2015,2015,2017,2015,2017,2015,2017,2015,2017,2018,2017,2020,2017,2017,2019,2018,2017,2018,2017,2017,2018,2017,2018,2018,2019,2018,2016,2018,2019,2016,2018,2012,2016,2018,2015,2015,2018,2015,2018,2015,2018,2019,2015,2018,2018,2017,2018,2016,2018,2014,2018,2019,2018,2019,2018,2019,2017,2018,2019,2017,2018,2019,2016,2018,2018,2019,2015,2018,2015,2018,2018,2014,2018,2019,2018,2019,2018,2019,2018,2017,2018,2019,2018,2019,2018,2019,2018,2019,2018,2019,2018,2019,2018,2019,2018,2019,2018,2019,2018,2019,2018,2019,2018,2019,2018,2019,2018,2019,2018,2019,2018,2019,2018,2019,2019,2019,2019,2019,2019,2018,2019,2018,2019,2018,2019,2018,2019],\"y\":[190552.0,64146.0,63418.0,100757.0,35714.0,54380.0,46010.0,105510.0,44174.0,93698.0,37792.0,58817.0,32366.0,176567.0,38123.0,15273.0,26241.0,44794.0,29942.0,25602.0,31792.0,36732.0,36139.0,84413.0,17617.0,36855.0,110316.0,120353.0,39333.0,42930.0,44929.0,16971.0,40455.0,23164.0,45191.0,21405.0,42104.0,29882.0,34819.0,29168.0,21770.0,30318.0,48086.0,57611.0,84916.0,24521.0,35888.0,204155.0,86826.0,62774.0,72885.0,33514.0,77638.0,24157.0,47055.0,75785.0,42289.0,79422.0,66582.0,61436.0,55618.0,40747.0,37176.0,72445.0,123355.0,60219.0,135077.0,76858.0,309564.0,90618.0,31563.0,126523.0,209915.0,55854.0,45757.0,112893.0,126802.0,34061.0,70251.0,42426.0,41455.0,38815.0,61027.0,178703.0,37321.0,112789.0,68142.0,90711.0,66781.0,190994.0,32486.0,195908.0,62015.0,73321.0,132379.0,33291.0,225236.0,36876.0,84035.0,131101.0,101380.0,142027.0,111476.0,76897.0,31944.0,18937.0,57289.0,19956.0,21034.0,22881.0,37252.0,15958.0,30553.0,124969.0,15854.0,67279.0,16482.0,26914.0,67217.0,78698.0,246065.0,50732.0,186855.0,94004.0,49024.0,0.0,203297.0,46955.0,296860.0,203158.0,57186.0,214800.0,236980.0,102700.0,53270.0,143818.0,67347.0,180364.0,184889.0,124542.0,47129.0,206162.0,229886.0,100893.0,90304.0,146912.0,131367.0,50593.0,62387.0,82899.0,76418.0,240740.0,82534.0,55732.0,198596.0,300021.0,74754.0,27661.0,115241.0,41577.0,26911.0,21527.0,56461.0,35905.0,35747.0,167011.0,116480.0,72084.0,295780.0,34165.0,25698.0,155242.0,19850.0,116535.0,18647.0,252588.0,27773.0,86841.0,14053.0,145483.0,185983.0,28464.0,154989.0,36295.0,15630.0,14786.0,16146.0,15265.0,16059.0,15569.0,17488.0,18550.0,17644.0,17684.0,16600.0,17801.0,17159.0,17983.0,17851.0,18174.0,18759.0,18901.0,21157.0,23964.0,20154.0,23294.0,20343.0,19100.0,20014.0,21774.0,21201.0,21766.0,17977.0,22805.0,14382.0,9660.0,18969.0,24730.0,15847.0,25009.0,11836.0,25508.0,18196.0,16106.0,12735.0,17417.0,17025.0,15805.0,11342.0,92100.0,99375.0,72418.0,29733.0,119439.0,54396.0,91606.0,2807.0,78739.0,71955.0,48472.0,98470.0,28937.0,83693.0,90888.0,216942.0,205796.0,6500.0,39943.0,5920.0,71478.0,119520.0,10882.0,29010.0,69003.0,16207.0,29748.0,25582.0,24520.0,104383.0,34164.0,6975.0,67150.0,100820.0,142286.0,60015.0,126381.0,128753.0,0.0,64598.0,111532.0,149346.0,43567.0,36004.0,10935.0,150484.0,122014.0,19363.0,42902.0,401.0,11077.0,34100.0,30018.0,18279.0,7373.0,2590.0,41662.0,15019.0,9420.0,41864.0,16829.0,6290.0,14393.0,14599.0,25839.0,60715.0,23350.0,62386.0,6248.0,878.0,49710.0,2042.0,7742.0,39733.0,33701.0,67542.0,35095.0,8652.0,51107.0,14987.0,28252.0,16009.0,47866.0,11004.0,42895.0,9490.0,39027.0,13466.0,8737.0,23960.0,5562.0,13763.0,10444.0,41696.0,15787.0,9167.0,17541.0,24686.0,15210.0,54601.0,2205.0,35691.0,32788.0,180471.0,42925.0,37385.0,15415.0,20047.0,16884.0,57936.0,15244.0,19842.0,38830.0,31899.0,69305.0,46098.0,29457.0,30765.0,29096.0,40437.0,69004.0,65179.0,75862.0,68319.0,80354.0,51441.0,70954.0,92500.0,66367.0,13884.0,202565.0,26484.0,703.0,18138.0,28007.0,11251.0,11640.0,10763.0,9643.0,33930.0,26451.0,21101.0,10536.0,31744.0,18062.0,17942.0,43646.0,71989.0,138328.0,95386.0,23740.0,36064.0,18805.0,151035.0,10099.0,9800.0,10483.0,17544.0,10167.0,11457.0,26590.0,35346.0,12953.0,26693.0,25071.0,33538.0,9915.0,1.0,9910.0,16765.0,4970.0,43964.0,40785.0,108998.0,58576.0,55475.0,35929.0,21669.0,16079.0,41147.0,45798.0,21703.0,22284.0,24567.0,30594.0,52747.0,21592.0,19853.0,25201.0,10351.0,1117.0,37279.0,30113.0,27570.0,45188.0,149712.0,25030.0,105743.0,9861.0,1751.0,30629.0,52883.0,122.0,28534.0,80699.0,72851.0,24078.0,38639.0,146807.0,31871.0,76876.0,28070.0,3189.0,28359.0,42890.0,29328.0,47531.0,57345.0,67546.0,18153.0,17689.0,137171.0,63445.0,26422.0,149319.0,18767.0,38289.0,22960.0,17263.0,16981.0,13058.0,45887.0,21740.0,17707.0,19121.0,18856.0,84752.0,19555.0,16340.0,17242.0,28733.0,16019.0,75580.0,113444.0,19227.0,13633.0,37739.0,103541.0,24072.0,17657.0,77392.0,11930.0,19731.0,15581.0,70181.0,16143.0,17995.0,23926.0,57929.0,20758.0,10028.0,21051.0,136307.0,105880.0,19985.0,102590.0,27612.0,90855.0,19936.0,64495.0,39477.0,25698.0,73849.0,25422.0,47866.0,31236.0,26755.0,49177.0,20749.0,15003.0,12247.0,1.0,10808.0,11263.0,42307.0,17484.0,37106.0,9539.0,2384.0,20590.0,13896.0,9451.0,31657.0,33907.0,10028.0,175640.0,30770.0,15141.0,18431.0,9604.0,9516.0,9718.0,16506.0,192108.0,11028.0,11313.0,141595.0,12886.0,9556.0,13269.0,16770.0,13526.0,16391.0,11437.0,17964.0,5440.0,13035.0,15759.0,30002.0,13673.0,24480.0,13230.0,137789.0,13516.0,81660.0,11763.0,34165.0,13458.0,104867.0,14004.0,69829.0,13405.0,96151.0,12688.0,116519.0,12260.0,29367.0,18982.0,23795.0,76572.0,15964.0,28117.0,116730.0,21055.0,27794.0,56995.0,16625.0,27689.0,39851.0,31727.0,31586.0,33717.0,18418.0,39013.0,125451.0,21346.0,21150.0,103862.0,22001.0,31261.0,140870.0,14358.0,41672.0,95655.0,19493.0,36956.0,23223.0,13085.0,36124.0,19147.0,24993.0,41127.0,32365.0,27774.0,105027.0,27806.0,54198.0,30181.0,82670.0,36305.0,10475.0,34734.0,186713.0,132150.0,12928.0,116539.0,59549.0,12174.0,96129.0,89809.0,18202.0,128505.0,43527.0,15792.0,9278.0,41925.0,16924.0,119869.0,17260.0,89490.0,40772.0,25623.0,11669.0,138524.0,13644.0,147935.0,44456.0,20357.0,66366.0,43532.0,45218.0,85688.0,58902.0,59869.0,35021.0,100264.0,157057.0,181316.0,23222.0,87686.0,162918.0,0.0,32526.0,69402.0,76336.0,163334.0,47628.0,135283.0,147903.0,74181.0,77386.0,123349.0,136661.0,109600.0,125369.0,122861.0,110826.0,12198.0,45512.0,15656.0,23984.0,15821.0,12748.0,9865.0,17858.0,6711.0,14939.0,15820.0,6140.0,25552.0,54984.0,24783.0,148442.0,34191.0,82072.0,104559.0,13265.0,133314.0,22458.0,70106.0,23712.0,101848.0,14994.0,59726.0,16448.0,28801.0,28938.0,19022.0,93832.0,25046.0,22318.0,17301.0,27413.0,39733.0,74195.0,44383.0,19151.0,188394.0,2452.0,36252.0,27136.0,35951.0,35221.0,33808.0,32022.0,34173.0,24272.0,19055.0,34822.0,15422.0,24765.0,23019.0,38243.0,16509.0,18762.0,28854.0,17392.0,13558.0,27082.0,17510.0,24662.0,96076.0,22858.0,740.0,110748.0,25090.0,7.0,34277.0,34527.0,99923.0,39170.0,16569.0,80612.0,36616.0,92165.0,44778.0,2089.0,91652.0,35801.0,88781.0,36978.0,189776.0,35233.0,151641.0,37044.0,15835.0,201187.0,41928.0,37059.0,33763.0,29850.0,26675.0,17828.0,29632.0,11544.0,21976.0,43617.0,49254.0,51589.0,41399.0,11734.0,41628.0,15075.0,26591.0,22906.0,33462.0,32747.0,33717.0,85218.0,23512.0,57853.0,33324.0,23803.0,31260.0,69428.0,15755.0,90946.0,51370.0,99941.0,15456.0,141603.0,2382.0,99544.0,21546.0,16293.0,40375.0,143191.0,363.0,59656.0,37878.0,20628.0,71205.0,26186.0,38157.0,30325.0,31561.0,66655.0,19029.0,11739.0,50423.0,25638.0,59798.0,5035.0,32284.0,40371.0,107569.0,96451.0,94851.0,108727.0,91979.0,76258.0,147574.0,104764.0,16934.0,13822.0,5250.0,33451.0,14291.0,16725.0,13002.0,18902.0,9732.0,18947.0,8402.0,17450.0,53986.0,15848.0,10770.0,14587.0,98625.0,10916.0,107173.0,10134.0,43056.0,10655.0,173601.0,14231.0,8985.0,84338.0,104290.0,45592.0,103960.0,110333.0,138516.0,49094.0,97526.0,87420.0,67052.0,58913.0,999999.0,14482.0,57084.0,90251.0,97320.0,80652.0,99816.0,115429.0,85549.0,83030.0,130168.0,80090.0,118593.0,143704.0,53507.0,48408.0,109672.0,28549.0,114500.0,67140.0,42168.0,80032.0,52240.0,34874.0,119689.0,37355.0,100947.0,26040.0,36638.0,137004.0,31794.0,131106.0,22013.0,42291.0,13155.0,24869.0,18454.0,16694.0,28922.0,23534.0,24581.0,35646.0,129873.0,28669.0,32454.0,21800.0,231769.0,23796.0,42506.0,6249.0,47496.0,10700.0,39604.0,250831.0,7275.0,8806.0,105115.0,57340.0,36167.0,44941.0,53102.0,26637.0,45814.0,17310.0,24116.0,14128.0,49882.0,38964.0,102705.0,71.0,98620.0,15825.0,29499.0,100255.0,174.0,167552.0,16956.0,36896.0,77281.0,24795.0,16771.0,28692.0,113821.0,19793.0,27940.0,24987.0,18367.0,14109.0,158781.0,27369.0,30208.0,24024.0,64999.0,8404.0,8884.0,24126.0,129659.0,31713.0,109996.0,6821.0,17867.0,110253.0,39364.0,4018.0,21054.0,48309.0,68666.0,34071.0,13600.0,44956.0,72607.0,33815.0,31491.0,32149.0,26654.0,36637.0,17000.0,15960.0,40774.0,40338.0,40505.0,30735.0,33965.0,7339.0,42470.0,40670.0,41233.0,13162.0,38744.0,14023.0,9741.0,31017.0,37786.0,32415.0,10421.0,29305.0,51309.0,38001.0,18849.0,43269.0,36989.0,29320.0,34244.0,32938.0,40793.0,94741.0,25011.0,363810.0,6881.0,80423.0,92405.0,15436.0,104665.0,16194.0,48188.0,65164.0,35930.0,167376.0,13674.0,9235.0,103002.0,12836.0,137728.0,6921.0,14359.0,58118.0,31124.0,25734.0,14059.0,13472.0,123983.0,35023.0,39509.0,4512.0,51884.0,4181.0,56703.0,4712.0,102800.0,7109.0,100943.0,3915.0,15550.0,62542.0,38370.0,671.0,61477.0,73891.0,168805.0,82564.0,85649.0,48374.0,11990.0,64111.0,28771.0,126708.0,27165.0,106546.0,54778.0,11729.0,85197.0,19130.0,72369.0,59646.0,68418.0,8400.0,45084.0,67037.0,64135.0,72377.0,39367.0,46540.0,40677.0,69438.0,96246.0,69719.0,75933.0,54325.0,24902.0,31793.0,16505.0,74361.0,27868.0,34011.0,19993.0,48115.0,22543.0,67091.0,28790.0,59391.0,18449.0,71824.0,19304.0,39159.0,18708.0,79430.0,12393.0,56329.0,12155.0,63291.0,36041.0,25810.0,130388.0,23878.0,15460.0,46710.0,65342.0,64061.0,93164.0,35629.0,118483.0,71573.0,33660.0,61168.0,42241.0,21004.0,45003.0,45278.0,1.0,24747.0,48707.0,2162.0,50874.0,70727.0,29382.0,33194.0,52084.0,51122.0,40286.0,55420.0,10282.0,85278.0,7258.0,93350.0,37166.0,69480.0,34679.0,24151.0,32796.0,67979.0,18690.0,78072.0,54251.0,32262.0,92358.0,90740.0,35225.0,129063.0,49985.0,52340.0,21406.0,16619.0,41293.0,37053.0,34532.0,13328.0,56836.0,48080.0,12271.0,97318.0,12717.0,12764.0,19951.0,32458.0,21616.0,17755.0,73846.0,15771.0,29168.0,159182.0,15296.0,30476.0,131754.0,26095.0,22107.0,31207.0,112810.0,19058.0,109137.0,24058.0,6967.0,118340.0,36145.0,33942.0,38868.0,36190.0,37177.0,39267.0,33350.0,57889.0,34081.0,26821.0,40577.0,52355.0,30620.0,22019.0,36742.0,32473.0,43406.0,34696.0,43519.0,37716.0,41627.0,29986.0,41496.0,20613.0,33475.0,32305.0,38148.0,39976.0,50513.0,31408.0,41351.0,32038.0,38279.0,30471.0,41569.0,31142.0,31598.0,31380.0,22179.0,29266.0,42156.0,30875.0,30609.0,29508.0,12837.0,29633.0,27461.0,74961.0,32154.0,37245.0,29345.0,25371.0,30054.0,11173.0,30902.0],\"z\":[6323.490950459149,17544.932161772158,21284.47116733063,14133.32810670184,22933.75440471666,16894.25825037295,22320.80969593348,13850.37101648748,22430.111025121994,8393.234246035572,22810.046255449764,4309.448435851838,23133.068593237083,-2700.481581555214,22790.341059392318,24150.65444281278,23497.704018771183,22393.200990210753,23277.37492327718,23535.745167655405,23167.240141686983,22873.150508685037,22908.453171108384,18802.52373350691,24011.110697922762,21633.761540452484,18492.52468787087,17894.99884851044,22718.306959001347,20040.036237072665,22385.16412777081,25281.635066573042,22651.511702274904,24912.95144366147,22369.56666140491,25017.668784643523,22553.342915873975,23280.946862139273,24219.102319645695,23323.45293460181,23763.872996332124,23254.990773072932,22197.220611295663,21630.17531689396,20004.645472942386,23600.09959949227,22923.395782015752,9209.872358739842,18658.872258925345,20090.743484221864,19488.812253597658,21832.659002772532,19205.855163383298,22389.702868359163,18562.398946719244,16852.035554786213,22542.329437715,16635.516527411994,21096.11092465464,18938.331227288116,21748.823219439015,22634.128266477957,22846.71816110378,20747.07296548644,14020.0833600685,21474.91504100943,9626.046090294607,20484.35686215898,-761.5688476860523,19665.19221638795,23180.873041678686,17527.684468830004,12563.165708646644,21734.773593246937,21103.804877905175,18339.10991373239,16279.008459554985,23032.16132037528,18413.55387609126,22534.173510645982,22591.97938790219,22749.14469784638,21426.812930996064,10725.088824158069,22838.08597551938,14649.101793732028,19771.174020668026,13499.323243326973,19852.1975005297,6297.177667506505,21893.85822194768,6004.635874677915,10279.396562311333,19462.85616453085,6090.464793778025,21845.934708877467,-3133.7268026391976,21632.51136185089,18825.026948340237,11094.813065806404,17792.43895554263,-644.2354431157,17191.400709633715,13089.636140509043,21926.124736337923,26396.661030080635,20417.278228557203,26335.997601734474,22575.62228614604,26161.865582193714,21610.127211646643,26574.007794597186,23241.000679195393,-3324.932705237996,26580.199155292008,21054.616901536938,26542.812861865852,9904.907341984566,21058.30790502811,20374.817403712776,-6837.85836584121,22039.698107464705,-9473.2824996477,14535.349825662095,22141.379300413653,-3277.6378717627376,-11684.179306131322,22264.551658851095,-18486.267729366664,-587.3058723495342,21655.476550502237,-6208.647050538566,-5064.940796199255,16481.78980700532,21888.60509358626,14033.940104621463,21050.568704159465,4465.87318216078,4196.489459623117,15181.484996472951,22254.193036150187,-15550.938867504708,-8338.818038732745,16589.364699077327,19683.885363101028,-8327.449760216754,-6169.953439725563,19583.8401120333,21345.84898344893,17660.58916390268,20510.551080483012,-2824.6493111113086,17682.318458648864,21742.0365356002,4612.54652007902,-16210.31638796907,18145.479864470195,23413.16813236149,9574.862584630493,-18073.477842093445,20993.684381011873,26242.472335854545,18002.437997727655,22922.383732671384,22931.78983834246,-899.5242918431759,10733.1685406873,20768.564130974934,-12261.640362019185,23025.969959680457,23530.030065475497,7193.5104774008505,23878.17503992794,14426.093744091224,23949.792414118536,-15850.653107450344,23406.500513151754,11265.580312820151,24223.283866347745,5310.35334623605,5363.427601264324,23365.363683920354,3512.372672242578,22899.166130065918,26593.53439371148,26643.779667042196,26562.81571949506,26615.263688457664,26567.995030845515,26597.16586488858,26482.923353606835,26419.70003574295,26473.636312564835,26471.255019989796,26535.788048769813,26464.289739208296,26502.50948503567,26453.454857992474,26461.313123489264,26442.0841859472,26407.257782038767,26398.804193397984,26264.499292172957,26097.392085728236,26324.210203488823,26137.278736358043,26312.95859607216,26386.957262837794,26332.544727500994,26227.767854204867,26261.879870340228,26228.24411271978,26453.81205187831,26166.3900380861,26667.83072204888,26948.942310517654,26394.75599602051,26051.79033291852,26580.61588149285,26035.180817208253,26819.39999444224,26005.4741923362,26440.7744750306,26565.1970120701,26765.880443821196,26487.15014792746,26510.486815161537,26583.1162386965,26848.808957742527,19576.965326487552,19143.867739424575,20748.680337974336,20825.684189851396,17949.41138384724,19357.43872047309,18374.30779622309,22428.65128665557,20372.376578823663,18312.110812399536,19710.10815081792,13037.412016108166,20873.071912092157,17613.320506291,15952.919010812882,5984.499667724129,10344.246324419044,27137.064423935954,23914.05874079885,28403.659659836907,22036.707207050174,17944.58926638309,28108.26031591883,25796.99202740239,19719.916697992943,26559.18424831843,24520.99068583036,26001.06880107289,26064.292118936777,17613.66341548087,25490.162479124498,28340.853068173863,19830.23007652629,16593.710558026563,12893.07711667521,19022.92664601188,12607.872083211318,12466.661433518864,20131.625505970325,16285.95706211077,12259.800925769377,10008.645990073215,23698.313633511774,22916.49003354879,26873.03860969236,16101.230684141163,11635.783206513152,26371.30026415782,21273.76963543985,26268.08551573148,26864.58502105158,24261.906053679995,25736.98345451476,26435.833292937838,27085.09271348873,27369.83577313414,25043.789185956586,26629.90863779327,26963.230065967422,23799.69716488896,26522.155148778576,25917.49971638946,26667.175866590813,25422.845716265496,24753.702502714004,22677.453506645747,24901.878433188424,22577.975009328686,25920.00007359311,27471.75509534031,23332.606626319233,26170.392987845466,27063.12528948486,23926.56052681757,24285.65944711445,17342.76042216178,22970.60490731336,27008.95088340575,22017.373489574995,26631.813671853393,23377.984534567222,26570.971646564547,22210.317720457446,26868.930880000815,22506.252855204977,26959.062803961337,22736.52384719951,26722.362322014757,27003.890636683907,23633.497227855492,27192.905734817963,26704.68122464558,26902.268976049498,22577.632100138348,26584.187820354942,24514.158754373435,26479.768140945118,23590.276767620817,26618.53796574846,21809.367583156098,24928.622727037407,22935.12364794733,23107.94595657196,8155.702705217525,21272.40039220918,21602.209413834848,26606.333841301966,22634.380680432077,26518.880871488247,20378.760821158066,26616.513867059723,26342.78428557329,21516.185219565872,25625.003171179444,19701.93793905247,21083.504358704202,25770.381082877982,21996.313334983308,25791.872248366475,21420.51679036906,18487.79067211412,18715.501774590462,18079.51806014497,18528.570307459682,17812.09890398197,19533.356709444895,18371.70265908679,15856.952920043841,17412.71089154994,26697.477814606857,8072.462245028,25947.37065350823,20089.77428896632,26444.227349264547,23392.569951588754,26854.22639835067,26831.06832805928,26883.278167764656,26949.954359862022,25504.093040687963,25949.335219882894,26267.833101777826,26896.79200312728,25634.230679906905,25216.685311592184,25223.829189316835,18765.3446064163,17078.020220145583,10664.573029833846,14453.07616719883,26110.72732414771,25377.0510818162,26404.51929557789,9908.095911097713,26922.80762450816,25708.541292940732,26899.947215788998,26479.589544001967,26918.759427130688,26841.96274158964,25941.060228184797,25419.79528353596,26752.902399288025,25934.928399804514,26031.489813717082,25527.42970792204,26933.761570352595,26291.898441480473,26934.05923192436,26525.96521689836,27228.14886492677,22442.61281114025,25095.999025661964,16106.855291084852,22804.793127089273,22989.402833959553,25385.087944256607,26234.018747213762,25334.737890993245,23842.38183429418,23565.49704014603,24999.928154960275,24965.339880309533,24829.42760659661,24470.62634787103,23151.806987568736,25006.536241855938,25110.062936550006,24791.684119284153,28139.871974851005,28689.593365769833,22840.586332723033,23267.194897519425,23418.585572969634,22369.745258348063,9986.857163012959,23569.797651476692,13836.499987239018,28169.042808893602,26187.716891327873,23236.476223303005,20679.577605683822,28748.82801857125,25825.32940904377,20255.693242652807,19490.836352286395,26090.60540188942,22759.6223851759,11391.865029830951,23162.53708885191,20483.285280500073,25852.95240291301,24870.042929694522,23371.61457692925,22506.55051677674,23313.92776430212,20998.19455220783,19181.877925387584,19806.655280034523,26443.33436454879,26470.957358418033,10733.4519175631,18818.730807712767,25951.0616569994,13706.452843256295,26406.781523523852,24012.525188772008,26157.16252935864,26496.318124340847,26513.1062369938,26746.651506278664,18631.932689906564,26229.791952893138,26469.885776759125,26385.707084235735,26401.483147544786,15086.14279823983,26359.870059798006,26551.2664505071,25265.50180937769,25813.48247848358,26570.376323420554,19328.372666362673,13378.041634253226,26379.3966589123,26712.420425514225,20349.06848098198,13967.590143487789,26090.962595775723,26472.86239247769,16756.367125588935,26813.80395689141,26349.392372468486,26596.451477115974,17185.65464453213,26562.994316438213,26452.74047021987,26099.654313674197,21611.244040923193,26288.25268560741,26927.03441882832,26270.80971749639,14481.087317876052,13828.344060169533,26334.271164617967,16488.338361586444,25880.21820289595,17186.950070752297,26337.188248021994,18756.221877621487,23941.800799296703,25994.163052605465,18199.35660897754,26010.593971372582,19746.184733327944,25664.47309560841,25931.237396313343,23364.33734988002,26288.788476436865,25398.794661258813,26794.93221323518,26291.898441480473,26880.599213617854,26853.512010578066,23773.324349621776,26483.161482864525,25315.018410239834,26956.145720556844,27382.099429894704,26298.254114422016,26696.76342683425,26961.384564221837,23175.27700412739,25505.462283918634,26927.03441882832,9675.369809517637,25692.215154106263,26622.645695440006,26426.784381153062,26952.276120122522,26957.514963787515,26945.489436284173,26541.384086321108,11159.124643554911,26867.502104455605,26850.5353948595,12934.213945907075,26756.89106435096,26955.133671212476,26734.09018794587,26525.667555326596,26718.790383152198,26548.230302473996,26843.15338787716,26454.585971965455,25968.102183606476,26748.020749509335,26585.854725157376,24505.86947797984,26710.039132939186,24834.606917947065,26736.41194820637,16856.993415105157,26719.385706295725,20198.482688540593,26823.745853391476,23025.969959680457,26722.83858052967,17584.84977532411,26690.33393688174,19670.743006321136,26725.99379319139,18103.733427398372,26768.67846259661,16891.179248251487,26794.158293148037,22079.53951047687,26393.982075933833,26107.453046856914,19269.316610504873,26573.650600710884,25850.154384137597,16878.61792991869,26270.5715882387,25869.38332168013,20434.78072898276,26534.29974091053,25875.634214689024,21455.402726591565,25635.242729251273,25643.636785577983,20588.5074493899,26427.558301240206,25201.490286730696,12663.237135577947,26253.247684756294,26264.916018373333,15180.546764139086,26214.254018842243,25662.984787749127,11745.30838026246,26669.25949759409,25043.19386281306,14437.061974632554,26363.561063289177,25323.948257395532,23677.372543548234,26745.04413379077,24141.41264938889,26384.15924406238,26036.133334238548,23843.5724805817,25597.26111268159,25870.573967967182,16343.258111459669,25868.668933907524,19369.22611871874,25727.27968727192,15210.089076764416,25362.70379405236,26900.423474303912,25456.229059932288,7784.101998901926,17192.696135853417,26754.390707147308,15657.922108399216,22746.868185204454,26799.278072184417,18105.043138314504,20945.42035228107,26440.417281144764,14945.558434613049,22468.628432521597,26583.89015878318,26971.683654608205,22563.999200146645,26516.499578913208,12995.546514407732,26496.496721284,14804.078692741226,25096.772945748642,25998.627976183314,26829.34189094277,11884.971189781558,26711.76557005616,15020.912059912924,19949.18992533954,26312.125143670943,21108.9699045592,22468.330770949367,19903.826301787514,19958.68652624637,20321.252605473623,19031.618363910355,22975.010298577137,12930.611044123303,13245.791794638615,8105.397899572272,26141.56506299274,18607.6744685648,11664.806406534277,25059.891480229795,25587.67641006736,19696.16330455849,16819.233249566983,9175.907976625487,24688.619398408104,13309.98191422876,12558.68410684308,16947.52538704034,16756.724319475237,14020.440553954802,11995.879891457967,13606.88385070255,13900.185278921388,12817.425829804037,17230.096713976003,26797.849296639208,24814.589775621425,26591.986553538125,27328.267933005467,26582.163721666206,27997.173017298803,26936.73818607116,27692.96289085364,27124.50310560316,26634.671222943347,26582.223253980745,27158.496057110373,26002.85477050394,20554.500213186722,26048.635120256804,12526.59618939599,25488.555106636602,15245.68940075906,12674.919753891416,26734.32831720356,12195.134547664318,26187.047751173843,15958.053074545227,26112.394228950143,12836.31185815623,26631.396945653018,19040.131484865677,26544.83696055459,20881.168306847103,25801.278354037553,26391.600783358794,15777.655877299141,26032.978121576365,26195.382275186013,26494.05589639442,25892.06513345614,25158.627020382322,15714.625441074371,24881.801758548245,26383.92111480469,7684.028178441338,28610.117726081982,25365.859006714076,25908.55558453733,25383.778233340476,25427.236822832376,25511.355983041227,25617.680696511175,25489.62668829551,26079.056132900994,26389.636216984596,25450.990216267295,26605.917115101125,26049.706701915246,26153.65012281062,25247.330168797635,26541.205489377957,26407.079185095616,25806.279068444856,26488.638455786742,26716.885349092074,25911.770329513587,26481.613642690703,26055.838530295994,15644.065363846254,26163.234825424384,28712.03704828862,13538.54075380275,26030.3586997441,28755.674234723672,25483.435327600688,25468.552249007393,19111.244031148497,25192.143713374157,26537.6335505154,17796.73956687376,25344.189244282432,17108.96273892373,24858.286494371016,28631.727956199553,14675.369829067029,25392.708080496173,14846.287103631534,25322.6385464794,7601.754519977607,25426.522435060237,9872.019328587689,25318.709413731005,26581.33026926499,6922.431280668825,25027.95359033346,25317.81642901525,23049.90195005806,25746.984883329365,25935.999981462955,26462.682366719935,25759.962927862536,26836.783430239186,26215.742326701526,24927.40351135796,24591.819855237845,24452.81190117728,25059.446184637025,26825.47229050845,25045.813284645323,24162.441841058433,25941.000695870724,26160.37727433443,25531.95416381443,23110.38678146107,25516.77342364937,19986.666714001447,26124.300691824406,21615.76849681558,25540.169623197988,22410.77730764728,25663.044320063666,19694.615464384668,26586.092854415067,18413.599123708904,24465.84947802499,17878.10595592484,26603.89301641239,15397.870674522128,27382.218494523782,17901.740284731146,26241.341221881565,26554.064469282515,23888.340780989733,11607.133878603112,26270.34774367744,19044.298746871762,24036.992969979066,26295.991886476055,17124.693554614205,24733.04478962673,24020.3834542688,22022.50755330734,24413.058599872515,19859.698572140653,25159.117563593667,25593.108135371935,20826.02709904127,25997.734991468024,21499.97814536048,27224.27926449245,23137.950243015774,21424.445923117455,18656.0599554535,19317.940226651262,19413.1919296477,18587.121535409708,19584.168736526743,20520.076250782702,12578.270238271449,13894.782123009674,26515.904255769216,26701.168818098027,27211.479816901963,25532.609019272495,26673.248162657022,26528.3465094734,26749.985315883532,26398.744661083445,26944.655983882956,26396.065706936643,27023.833961999044,26485.185581552796,20613.913462930825,26580.55634917831,26882.861441563815,26655.626597602386,17956.45048163971,26874.16972366534,14983.43527125055,26920.723993504886,22496.668152591214,26889.707657716703,8564.68970495928,26676.820101519115,26989.126622719225,18806.988657085225,18851.266414281912,22345.69420334138,16406.779090895783,17259.446144962218,14349.58043542644,20905.145544842817,18021.876495135482,16159.377077057958,18603.99774977006,16624.398269320838,-39400.629334595986,21733.611516352277,20429.482353003696,19687.040575762745,15570.007164766546,16562.291780733503,15421.414508091751,13259.869990223087,17502.828530814964,15188.657443589997,13614.489702246152,15363.682447846513,13071.509747547098,12808.660294894595,19410.362947950605,17249.785231807735,13602.597524067853,25824.43642432848,12083.109016710892,14902.559425410349,23781.59934131941,17831.26830920996,23181.989870955702,25447.894535920117,14238.328824559227,25300.194863960613,17818.21644766582,25973.803001089953,25342.8795333663,14439.59329475835,25631.25406418834,14790.714884929359,26213.539631069638,22542.21037308639,26740.876871784683,26043.515341220424,26425.415137922857,22833.992530524265,25802.230871067382,26122.990980908275,17436.195192805957,25401.9355892241,11167.918747856282,25817.29254660383,23127.829749572556,26226.220014031045,7565.947029646952,22411.19403384812,24993.54391262587,23455.80755414907,24696.47766390536,23190.82922287518,25166.306688936427,5199.075559506193,23394.727399602532,26999.78290699236,17570.085761359893,19182.175586959347,25370.919253435917,21152.383246433455,18202.407041706145,25938.262209409382,21100.411535985768,26493.520105564967,26088.34317394346,26682.951929899864,20858.23408111697,25204.407370134722,12785.292664738838,27519.79767303914,13028.482168952003,22885.726111714263,25767.88072567433,15395.279822081793,27513.665844658855,10156.867168165278,22818.395064158365,25327.52019625809,15530.908718919847,26047.9207324842,22829.40854231734,25815.923303373158,12123.531458170153,26345.701368977316,22164.492123086937,26036.490528124385,22734.394968578126,26684.083043872844,9446.958603965119,22198.485074593686,25725.67231478356,26093.820146865677,19958.284084741957,27023.714897369966,25763.072892906144,26087.747850799467,11180.658663132228,25636.07618165249,17279.5085349055,25885.88805745775,26460.360606459435,17264.20873011183,23948.52795082098,26052.75713464478,26270.63112055324,22183.944905190263,19739.979087936692,24263.632490796503,26714.384991888423,22383.55675528245,19505.362236993387,24278.8727632761,25649.29235544335,24378.053599021398,22241.050679370295,24110.872572115622,26511.97512302082,25341.822236403823,21400.45440042531,23890.54347662162,25112.668073686305,21998.099304414354,25502.009409684688,25855.05031861225,23763.620582378935,25102.84524181485,21373.129068127833,26740.460145583842,23985.43798573222,25457.136329344008,26944.120193053503,23213.37768532615,25274.536436466035,24362.218003398273,25671.571725715417,25779.429994662292,22005.347962071653,25261.736988876015,25169.83338018041,23716.054263195023,25321.983691021334,23314.404022817034,25485.399893974885,24331.082602981012,23863.4562735823,19419.740484228823,26035.06175257964,-294.7592924628407,25882.31611859519,16575.92468072474,19558.807970603928,26605.083662699908,18828.941796392202,25327.891674840357,18494.948834534734,21180.527746435255,25385.02841194207,8935.278361930512,25477.91310706036,26974.243544126395,18927.94403519435,26759.867680069525,14396.491899152286,25879.93482602015,26669.19996527955,21599.99243350653,25671.140714818146,21063.753915028647,25454.99316602666,26722.005128128454,12750.630573077593,25439.024221078493,20243.696284542326,26023.348171344493,19506.983894177713,26043.05336740194,19220.097671214957,26011.44170847023,16475.836575568188,25868.742750918027,17818.454576923512,22362.689482330345,25366.23048529681,18872.4884875915,24007.70307130739,28716.144777980167,20167.95689596329,18196.85625177389,11314.339671820868,13984.3330085231,18728.941792942118,19715.94231762644,18185.766563074663,20011.1487799054,20882.95427627815,15052.53800354153,20978.56317316089,16252.828525927383,19334.697376382537,28057.836445644964,17523.783905474003,21456.905319147278,18287.464434249327,19044.89407001529,17290.610114771407,22095.687052368186,19911.803631913383,18604.89073448535,18777.65351079544,20751.121162863914,20252.14987318311,19825.12458218634,20174.16254135454,18461.95364767639,16866.011363968253,18445.22506733751,18075.291265824344,19361.665514793713,26041.550774846226,20703.047622243408,26541.44361863518,18168.876064018346,25864.977930416353,20571.004948964342,26333.794906102587,19731.361187049188,26181.987504452,18601.67598950956,25810.08913656464,19060.074810180347,26425.71279949462,18319.90954558272,26374.81267070584,20264.532594572753,26410.29393007187,17867.106762462296,26786.240495336708,19242.362756790128,26800.409186157398,17595.83229056094,20450.1543507874,25987.49543339573,14833.45908664912,21174.24589050468,26603.654887155164,23511.203569437843,18705.79800734762,18782.058902059216,18281.556450429838,20474.681664309,15542.19128925819,18334.852156490088,23056.03377843881,18954.285887539852,22545.186988804955,21345.341762012336,22380.758736507036,19900.254362924956,25059.831947915256,24818.7117900094,22160.251044069882,28627.382097250316,22031.24451882392,20849.349481578916,25774.84600645583,24315.842330501415,21959.210418432485,23248.546998424456,22661.572663404047,21760.610617684666,25679.84671741305,19983.094775139354,25859.87243607687,20734.61642708676,25311.446471377276,22155.652771167457,21763.3038565279,24854.193049375433,25571.602685186546,19780.877787910867,25179.299018166028,14251.752164686099,20598.137399621774,24371.326447497122,17097.47300224984,17193.796286905184,24194.9322000104,14912.339403192978,23316.235239866655,19479.83715882385,25017.609252328984,26534.656934796833,20137.49063570099,24086.1071293368,24236.18809387088,24266.44479426788,22908.37935409788,20965.51131161675,25561.43694412522,15570.126229395159,25534.885531914886,26764.154006704222,25104.228769741487,25591.724607444834,25005.10746631073,26467.02822566917,20663.668193050195,25353.073843820486,25787.585921731777,15583.418613725808,25381.351693147328,25709.71765453182,15984.204438780434,24738.462230234873,24975.877099953592,25666.199532725383,15879.918108695652,25157.391126476694,16098.58029938722,24859.72955461219,25877.196339559276,14318.637916648295,24140.162470787298,25503.37865291536,23978.05597874988,25369.550010205247,24078.72512235446,25186.36907887971,24306.555289459415,21613.625333498232,24263.037167652976,25927.308263564948,23876.315253486857,24407.210148367565,24469.07850769721,26213.182437183335,24104.621679106727,25590.831622729078,23707.898336125538,25458.49128787825,23701.171184601728,25278.70369847212,23813.80632339511,25738.88848857442,23821.605056577828,26296.884871191345,24299.113750163,25600.833051543683,24020.919245098252,25144.160667989403,23284.80217787763,25654.233537536114,23830.237242162228,25616.728179481346,24013.120511915535,25710.015316103585,23817.25919762859,25670.069133159705,24410.855904240627,25655.90044233855,24971.590773318894,25781.751754923258,23782.313729092013,25685.964261096902,25701.799856720492,25767.344934844878,26759.808147754986,25759.903395547997,25889.207582366187,21829.356156089343,25609.822431014385,24074.676924976986,25777.04870208772,24781.56362584047,25734.84029119741,25626.80342530692,25684.356888609007],\"type\":\"scatter3d\"}],                        {\"template\":{\"data\":{\"bar\":[{\"error_x\":{\"color\":\"#2a3f5f\"},\"error_y\":{\"color\":\"#2a3f5f\"},\"marker\":{\"line\":{\"color\":\"#E5ECF6\",\"width\":0.5},\"pattern\":{\"fillmode\":\"overlay\",\"size\":10,\"solidity\":0.2}},\"type\":\"bar\"}],\"barpolar\":[{\"marker\":{\"line\":{\"color\":\"#E5ECF6\",\"width\":0.5},\"pattern\":{\"fillmode\":\"overlay\",\"size\":10,\"solidity\":0.2}},\"type\":\"barpolar\"}],\"carpet\":[{\"aaxis\":{\"endlinecolor\":\"#2a3f5f\",\"gridcolor\":\"white\",\"linecolor\":\"white\",\"minorgridcolor\":\"white\",\"startlinecolor\":\"#2a3f5f\"},\"baxis\":{\"endlinecolor\":\"#2a3f5f\",\"gridcolor\":\"white\",\"linecolor\":\"white\",\"minorgridcolor\":\"white\",\"startlinecolor\":\"#2a3f5f\"},\"type\":\"carpet\"}],\"choropleth\":[{\"colorbar\":{\"outlinewidth\":0,\"ticks\":\"\"},\"type\":\"choropleth\"}],\"contour\":[{\"colorbar\":{\"outlinewidth\":0,\"ticks\":\"\"},\"colorscale\":[[0.0,\"#0d0887\"],[0.1111111111111111,\"#46039f\"],[0.2222222222222222,\"#7201a8\"],[0.3333333333333333,\"#9c179e\"],[0.4444444444444444,\"#bd3786\"],[0.5555555555555556,\"#d8576b\"],[0.6666666666666666,\"#ed7953\"],[0.7777777777777778,\"#fb9f3a\"],[0.8888888888888888,\"#fdca26\"],[1.0,\"#f0f921\"]],\"type\":\"contour\"}],\"contourcarpet\":[{\"colorbar\":{\"outlinewidth\":0,\"ticks\":\"\"},\"type\":\"contourcarpet\"}],\"heatmap\":[{\"colorbar\":{\"outlinewidth\":0,\"ticks\":\"\"},\"colorscale\":[[0.0,\"#0d0887\"],[0.1111111111111111,\"#46039f\"],[0.2222222222222222,\"#7201a8\"],[0.3333333333333333,\"#9c179e\"],[0.4444444444444444,\"#bd3786\"],[0.5555555555555556,\"#d8576b\"],[0.6666666666666666,\"#ed7953\"],[0.7777777777777778,\"#fb9f3a\"],[0.8888888888888888,\"#fdca26\"],[1.0,\"#f0f921\"]],\"type\":\"heatmap\"}],\"heatmapgl\":[{\"colorbar\":{\"outlinewidth\":0,\"ticks\":\"\"},\"colorscale\":[[0.0,\"#0d0887\"],[0.1111111111111111,\"#46039f\"],[0.2222222222222222,\"#7201a8\"],[0.3333333333333333,\"#9c179e\"],[0.4444444444444444,\"#bd3786\"],[0.5555555555555556,\"#d8576b\"],[0.6666666666666666,\"#ed7953\"],[0.7777777777777778,\"#fb9f3a\"],[0.8888888888888888,\"#fdca26\"],[1.0,\"#f0f921\"]],\"type\":\"heatmapgl\"}],\"histogram\":[{\"marker\":{\"pattern\":{\"fillmode\":\"overlay\",\"size\":10,\"solidity\":0.2}},\"type\":\"histogram\"}],\"histogram2d\":[{\"colorbar\":{\"outlinewidth\":0,\"ticks\":\"\"},\"colorscale\":[[0.0,\"#0d0887\"],[0.1111111111111111,\"#46039f\"],[0.2222222222222222,\"#7201a8\"],[0.3333333333333333,\"#9c179e\"],[0.4444444444444444,\"#bd3786\"],[0.5555555555555556,\"#d8576b\"],[0.6666666666666666,\"#ed7953\"],[0.7777777777777778,\"#fb9f3a\"],[0.8888888888888888,\"#fdca26\"],[1.0,\"#f0f921\"]],\"type\":\"histogram2d\"}],\"histogram2dcontour\":[{\"colorbar\":{\"outlinewidth\":0,\"ticks\":\"\"},\"colorscale\":[[0.0,\"#0d0887\"],[0.1111111111111111,\"#46039f\"],[0.2222222222222222,\"#7201a8\"],[0.3333333333333333,\"#9c179e\"],[0.4444444444444444,\"#bd3786\"],[0.5555555555555556,\"#d8576b\"],[0.6666666666666666,\"#ed7953\"],[0.7777777777777778,\"#fb9f3a\"],[0.8888888888888888,\"#fdca26\"],[1.0,\"#f0f921\"]],\"type\":\"histogram2dcontour\"}],\"mesh3d\":[{\"colorbar\":{\"outlinewidth\":0,\"ticks\":\"\"},\"type\":\"mesh3d\"}],\"parcoords\":[{\"line\":{\"colorbar\":{\"outlinewidth\":0,\"ticks\":\"\"}},\"type\":\"parcoords\"}],\"pie\":[{\"automargin\":true,\"type\":\"pie\"}],\"scatter\":[{\"marker\":{\"colorbar\":{\"outlinewidth\":0,\"ticks\":\"\"}},\"type\":\"scatter\"}],\"scatter3d\":[{\"line\":{\"colorbar\":{\"outlinewidth\":0,\"ticks\":\"\"}},\"marker\":{\"colorbar\":{\"outlinewidth\":0,\"ticks\":\"\"}},\"type\":\"scatter3d\"}],\"scattercarpet\":[{\"marker\":{\"colorbar\":{\"outlinewidth\":0,\"ticks\":\"\"}},\"type\":\"scattercarpet\"}],\"scattergeo\":[{\"marker\":{\"colorbar\":{\"outlinewidth\":0,\"ticks\":\"\"}},\"type\":\"scattergeo\"}],\"scattergl\":[{\"marker\":{\"colorbar\":{\"outlinewidth\":0,\"ticks\":\"\"}},\"type\":\"scattergl\"}],\"scattermapbox\":[{\"marker\":{\"colorbar\":{\"outlinewidth\":0,\"ticks\":\"\"}},\"type\":\"scattermapbox\"}],\"scatterpolar\":[{\"marker\":{\"colorbar\":{\"outlinewidth\":0,\"ticks\":\"\"}},\"type\":\"scatterpolar\"}],\"scatterpolargl\":[{\"marker\":{\"colorbar\":{\"outlinewidth\":0,\"ticks\":\"\"}},\"type\":\"scatterpolargl\"}],\"scatterternary\":[{\"marker\":{\"colorbar\":{\"outlinewidth\":0,\"ticks\":\"\"}},\"type\":\"scatterternary\"}],\"surface\":[{\"colorbar\":{\"outlinewidth\":0,\"ticks\":\"\"},\"colorscale\":[[0.0,\"#0d0887\"],[0.1111111111111111,\"#46039f\"],[0.2222222222222222,\"#7201a8\"],[0.3333333333333333,\"#9c179e\"],[0.4444444444444444,\"#bd3786\"],[0.5555555555555556,\"#d8576b\"],[0.6666666666666666,\"#ed7953\"],[0.7777777777777778,\"#fb9f3a\"],[0.8888888888888888,\"#fdca26\"],[1.0,\"#f0f921\"]],\"type\":\"surface\"}],\"table\":[{\"cells\":{\"fill\":{\"color\":\"#EBF0F8\"},\"line\":{\"color\":\"white\"}},\"header\":{\"fill\":{\"color\":\"#C8D4E3\"},\"line\":{\"color\":\"white\"}},\"type\":\"table\"}]},\"layout\":{\"annotationdefaults\":{\"arrowcolor\":\"#2a3f5f\",\"arrowhead\":0,\"arrowwidth\":1},\"autotypenumbers\":\"strict\",\"coloraxis\":{\"colorbar\":{\"outlinewidth\":0,\"ticks\":\"\"}},\"colorscale\":{\"diverging\":[[0,\"#8e0152\"],[0.1,\"#c51b7d\"],[0.2,\"#de77ae\"],[0.3,\"#f1b6da\"],[0.4,\"#fde0ef\"],[0.5,\"#f7f7f7\"],[0.6,\"#e6f5d0\"],[0.7,\"#b8e186\"],[0.8,\"#7fbc41\"],[0.9,\"#4d9221\"],[1,\"#276419\"]],\"sequential\":[[0.0,\"#0d0887\"],[0.1111111111111111,\"#46039f\"],[0.2222222222222222,\"#7201a8\"],[0.3333333333333333,\"#9c179e\"],[0.4444444444444444,\"#bd3786\"],[0.5555555555555556,\"#d8576b\"],[0.6666666666666666,\"#ed7953\"],[0.7777777777777778,\"#fb9f3a\"],[0.8888888888888888,\"#fdca26\"],[1.0,\"#f0f921\"]],\"sequentialminus\":[[0.0,\"#0d0887\"],[0.1111111111111111,\"#46039f\"],[0.2222222222222222,\"#7201a8\"],[0.3333333333333333,\"#9c179e\"],[0.4444444444444444,\"#bd3786\"],[0.5555555555555556,\"#d8576b\"],[0.6666666666666666,\"#ed7953\"],[0.7777777777777778,\"#fb9f3a\"],[0.8888888888888888,\"#fdca26\"],[1.0,\"#f0f921\"]]},\"colorway\":[\"#636efa\",\"#EF553B\",\"#00cc96\",\"#ab63fa\",\"#FFA15A\",\"#19d3f3\",\"#FF6692\",\"#B6E880\",\"#FF97FF\",\"#FECB52\"],\"font\":{\"color\":\"#2a3f5f\"},\"geo\":{\"bgcolor\":\"white\",\"lakecolor\":\"white\",\"landcolor\":\"#E5ECF6\",\"showlakes\":true,\"showland\":true,\"subunitcolor\":\"white\"},\"hoverlabel\":{\"align\":\"left\"},\"hovermode\":\"closest\",\"mapbox\":{\"style\":\"light\"},\"paper_bgcolor\":\"white\",\"plot_bgcolor\":\"#E5ECF6\",\"polar\":{\"angularaxis\":{\"gridcolor\":\"white\",\"linecolor\":\"white\",\"ticks\":\"\"},\"bgcolor\":\"#E5ECF6\",\"radialaxis\":{\"gridcolor\":\"white\",\"linecolor\":\"white\",\"ticks\":\"\"}},\"scene\":{\"xaxis\":{\"backgroundcolor\":\"#E5ECF6\",\"gridcolor\":\"white\",\"gridwidth\":2,\"linecolor\":\"white\",\"showbackground\":true,\"ticks\":\"\",\"zerolinecolor\":\"white\"},\"yaxis\":{\"backgroundcolor\":\"#E5ECF6\",\"gridcolor\":\"white\",\"gridwidth\":2,\"linecolor\":\"white\",\"showbackground\":true,\"ticks\":\"\",\"zerolinecolor\":\"white\"},\"zaxis\":{\"backgroundcolor\":\"#E5ECF6\",\"gridcolor\":\"white\",\"gridwidth\":2,\"linecolor\":\"white\",\"showbackground\":true,\"ticks\":\"\",\"zerolinecolor\":\"white\"}},\"shapedefaults\":{\"line\":{\"color\":\"#2a3f5f\"}},\"ternary\":{\"aaxis\":{\"gridcolor\":\"white\",\"linecolor\":\"white\",\"ticks\":\"\"},\"baxis\":{\"gridcolor\":\"white\",\"linecolor\":\"white\",\"ticks\":\"\"},\"bgcolor\":\"#E5ECF6\",\"caxis\":{\"gridcolor\":\"white\",\"linecolor\":\"white\",\"ticks\":\"\"}},\"title\":{\"x\":0.05},\"xaxis\":{\"automargin\":true,\"gridcolor\":\"white\",\"linecolor\":\"white\",\"ticks\":\"\",\"title\":{\"standoff\":15},\"zerolinecolor\":\"white\",\"zerolinewidth\":2},\"yaxis\":{\"automargin\":true,\"gridcolor\":\"white\",\"linecolor\":\"white\",\"ticks\":\"\",\"title\":{\"standoff\":15},\"zerolinecolor\":\"white\",\"zerolinewidth\":2}}},\"scene\":{\"domain\":{\"x\":[0.0,1.0],\"y\":[0.0,1.0]},\"xaxis\":{\"title\":{\"text\":\"year\"}},\"yaxis\":{\"title\":{\"text\":\"mileage\"}},\"zaxis\":{\"title\":{\"text\":\"predict price\"}}},\"coloraxis\":{\"colorbar\":{\"title\":{\"text\":\"year\"}},\"colorscale\":[[0.0,\"#0d0887\"],[0.1111111111111111,\"#46039f\"],[0.2222222222222222,\"#7201a8\"],[0.3333333333333333,\"#9c179e\"],[0.4444444444444444,\"#bd3786\"],[0.5555555555555556,\"#d8576b\"],[0.6666666666666666,\"#ed7953\"],[0.7777777777777778,\"#fb9f3a\"],[0.8888888888888888,\"#fdca26\"],[1.0,\"#f0f921\"]]},\"legend\":{\"tracegroupgap\":0},\"margin\":{\"t\":60}},                        {\"responsive\": true}                    ).then(function(){\n",
              "                            \n",
              "var gd = document.getElementById('eed7954e-fab6-4366-a0c9-a9cd66883dc6');\n",
              "var x = new MutationObserver(function (mutations, observer) {{\n",
              "        var display = window.getComputedStyle(gd).display;\n",
              "        if (!display || display === 'none') {{\n",
              "            console.log([gd, 'removed!']);\n",
              "            Plotly.purge(gd);\n",
              "            observer.disconnect();\n",
              "        }}\n",
              "}});\n",
              "\n",
              "// Listen for the removal of the full notebook cells\n",
              "var notebookContainer = gd.closest('#notebook-container');\n",
              "if (notebookContainer) {{\n",
              "    x.observe(notebookContainer, {childList: true});\n",
              "}}\n",
              "\n",
              "// Listen for the clearing of the current output cell\n",
              "var outputEl = gd.closest('.output');\n",
              "if (outputEl) {{\n",
              "    x.observe(outputEl, {childList: true});\n",
              "}}\n",
              "\n",
              "                        })                };                            </script>        </div>\n",
              "</body>\n",
              "</html>"
            ]
          },
          "metadata": {}
        }
      ]
    },
    {
      "cell_type": "markdown",
      "source": [
        "Part 3 - Forbes Billionaires"
      ],
      "metadata": {
        "id": "DJJvkz6NcVYa"
      }
    },
    {
      "cell_type": "code",
      "source": [
        "forbes_billionaires_df = forbes_billionaires_df.drop_duplicates()\n",
        "forbes_billionaires_df = forbes_billionaires_df.dropna()\n",
        "forbes_billionaires_df"
      ],
      "metadata": {
        "colab": {
          "base_uri": "https://localhost:8080/",
          "height": 424
        },
        "id": "YwjEpL-CJJHM",
        "outputId": "48efbbd0-265c-4ed9-c326-48c85814de0e"
      },
      "execution_count": 71,
      "outputs": [
        {
          "output_type": "execute_result",
          "data": {
            "text/plain": [
              "                          Name NetWorth        Country         Source  Rank  \\\n",
              "0                   Jeff Bezos   $177 B  United States         Amazon     1   \n",
              "1                    Elon Musk   $151 B  United States  Tesla, SpaceX     2   \n",
              "2     Bernard Arnault & family   $150 B         France           LVMH     3   \n",
              "3                   Bill Gates   $124 B  United States      Microsoft     4   \n",
              "4              Mark Zuckerberg    $97 B  United States       Facebook     5   \n",
              "...                        ...      ...            ...            ...   ...   \n",
              "2750         Daniel Yong Zhang     $1 B          China     e-commerce  2674   \n",
              "2751             Zhang Yuqiang     $1 B          China     Fiberglass  2674   \n",
              "2752             Zhao Meiguang     $1 B          China    gold mining  2674   \n",
              "2753            Zhong Naixiong     $1 B          China   conglomerate  2674   \n",
              "2754           Zhou Wei family     $1 B          China       Software  2674   \n",
              "\n",
              "       Age          Industry  \n",
              "0     57.0        Technology  \n",
              "1     49.0        Automotive  \n",
              "2     72.0  Fashion & Retail  \n",
              "3     65.0        Technology  \n",
              "4     36.0        Technology  \n",
              "...    ...               ...  \n",
              "2750  49.0        Technology  \n",
              "2751  65.0     Manufacturing  \n",
              "2752  58.0   Metals & Mining  \n",
              "2753  58.0       Diversified  \n",
              "2754  54.0        Technology  \n",
              "\n",
              "[2676 rows x 7 columns]"
            ],
            "text/html": [
              "\n",
              "  <div id=\"df-eb654856-c45d-4b30-b17e-9a420c3f79c8\">\n",
              "    <div class=\"colab-df-container\">\n",
              "      <div>\n",
              "<style scoped>\n",
              "    .dataframe tbody tr th:only-of-type {\n",
              "        vertical-align: middle;\n",
              "    }\n",
              "\n",
              "    .dataframe tbody tr th {\n",
              "        vertical-align: top;\n",
              "    }\n",
              "\n",
              "    .dataframe thead th {\n",
              "        text-align: right;\n",
              "    }\n",
              "</style>\n",
              "<table border=\"1\" class=\"dataframe\">\n",
              "  <thead>\n",
              "    <tr style=\"text-align: right;\">\n",
              "      <th></th>\n",
              "      <th>Name</th>\n",
              "      <th>NetWorth</th>\n",
              "      <th>Country</th>\n",
              "      <th>Source</th>\n",
              "      <th>Rank</th>\n",
              "      <th>Age</th>\n",
              "      <th>Industry</th>\n",
              "    </tr>\n",
              "  </thead>\n",
              "  <tbody>\n",
              "    <tr>\n",
              "      <th>0</th>\n",
              "      <td>Jeff Bezos</td>\n",
              "      <td>$177 B</td>\n",
              "      <td>United States</td>\n",
              "      <td>Amazon</td>\n",
              "      <td>1</td>\n",
              "      <td>57.0</td>\n",
              "      <td>Technology</td>\n",
              "    </tr>\n",
              "    <tr>\n",
              "      <th>1</th>\n",
              "      <td>Elon Musk</td>\n",
              "      <td>$151 B</td>\n",
              "      <td>United States</td>\n",
              "      <td>Tesla, SpaceX</td>\n",
              "      <td>2</td>\n",
              "      <td>49.0</td>\n",
              "      <td>Automotive</td>\n",
              "    </tr>\n",
              "    <tr>\n",
              "      <th>2</th>\n",
              "      <td>Bernard Arnault &amp; family</td>\n",
              "      <td>$150 B</td>\n",
              "      <td>France</td>\n",
              "      <td>LVMH</td>\n",
              "      <td>3</td>\n",
              "      <td>72.0</td>\n",
              "      <td>Fashion &amp; Retail</td>\n",
              "    </tr>\n",
              "    <tr>\n",
              "      <th>3</th>\n",
              "      <td>Bill Gates</td>\n",
              "      <td>$124 B</td>\n",
              "      <td>United States</td>\n",
              "      <td>Microsoft</td>\n",
              "      <td>4</td>\n",
              "      <td>65.0</td>\n",
              "      <td>Technology</td>\n",
              "    </tr>\n",
              "    <tr>\n",
              "      <th>4</th>\n",
              "      <td>Mark Zuckerberg</td>\n",
              "      <td>$97 B</td>\n",
              "      <td>United States</td>\n",
              "      <td>Facebook</td>\n",
              "      <td>5</td>\n",
              "      <td>36.0</td>\n",
              "      <td>Technology</td>\n",
              "    </tr>\n",
              "    <tr>\n",
              "      <th>...</th>\n",
              "      <td>...</td>\n",
              "      <td>...</td>\n",
              "      <td>...</td>\n",
              "      <td>...</td>\n",
              "      <td>...</td>\n",
              "      <td>...</td>\n",
              "      <td>...</td>\n",
              "    </tr>\n",
              "    <tr>\n",
              "      <th>2750</th>\n",
              "      <td>Daniel Yong Zhang</td>\n",
              "      <td>$1 B</td>\n",
              "      <td>China</td>\n",
              "      <td>e-commerce</td>\n",
              "      <td>2674</td>\n",
              "      <td>49.0</td>\n",
              "      <td>Technology</td>\n",
              "    </tr>\n",
              "    <tr>\n",
              "      <th>2751</th>\n",
              "      <td>Zhang Yuqiang</td>\n",
              "      <td>$1 B</td>\n",
              "      <td>China</td>\n",
              "      <td>Fiberglass</td>\n",
              "      <td>2674</td>\n",
              "      <td>65.0</td>\n",
              "      <td>Manufacturing</td>\n",
              "    </tr>\n",
              "    <tr>\n",
              "      <th>2752</th>\n",
              "      <td>Zhao Meiguang</td>\n",
              "      <td>$1 B</td>\n",
              "      <td>China</td>\n",
              "      <td>gold mining</td>\n",
              "      <td>2674</td>\n",
              "      <td>58.0</td>\n",
              "      <td>Metals &amp; Mining</td>\n",
              "    </tr>\n",
              "    <tr>\n",
              "      <th>2753</th>\n",
              "      <td>Zhong Naixiong</td>\n",
              "      <td>$1 B</td>\n",
              "      <td>China</td>\n",
              "      <td>conglomerate</td>\n",
              "      <td>2674</td>\n",
              "      <td>58.0</td>\n",
              "      <td>Diversified</td>\n",
              "    </tr>\n",
              "    <tr>\n",
              "      <th>2754</th>\n",
              "      <td>Zhou Wei family</td>\n",
              "      <td>$1 B</td>\n",
              "      <td>China</td>\n",
              "      <td>Software</td>\n",
              "      <td>2674</td>\n",
              "      <td>54.0</td>\n",
              "      <td>Technology</td>\n",
              "    </tr>\n",
              "  </tbody>\n",
              "</table>\n",
              "<p>2676 rows × 7 columns</p>\n",
              "</div>\n",
              "      <button class=\"colab-df-convert\" onclick=\"convertToInteractive('df-eb654856-c45d-4b30-b17e-9a420c3f79c8')\"\n",
              "              title=\"Convert this dataframe to an interactive table.\"\n",
              "              style=\"display:none;\">\n",
              "        \n",
              "  <svg xmlns=\"http://www.w3.org/2000/svg\" height=\"24px\"viewBox=\"0 0 24 24\"\n",
              "       width=\"24px\">\n",
              "    <path d=\"M0 0h24v24H0V0z\" fill=\"none\"/>\n",
              "    <path d=\"M18.56 5.44l.94 2.06.94-2.06 2.06-.94-2.06-.94-.94-2.06-.94 2.06-2.06.94zm-11 1L8.5 8.5l.94-2.06 2.06-.94-2.06-.94L8.5 2.5l-.94 2.06-2.06.94zm10 10l.94 2.06.94-2.06 2.06-.94-2.06-.94-.94-2.06-.94 2.06-2.06.94z\"/><path d=\"M17.41 7.96l-1.37-1.37c-.4-.4-.92-.59-1.43-.59-.52 0-1.04.2-1.43.59L10.3 9.45l-7.72 7.72c-.78.78-.78 2.05 0 2.83L4 21.41c.39.39.9.59 1.41.59.51 0 1.02-.2 1.41-.59l7.78-7.78 2.81-2.81c.8-.78.8-2.07 0-2.86zM5.41 20L4 18.59l7.72-7.72 1.47 1.35L5.41 20z\"/>\n",
              "  </svg>\n",
              "      </button>\n",
              "      \n",
              "  <style>\n",
              "    .colab-df-container {\n",
              "      display:flex;\n",
              "      flex-wrap:wrap;\n",
              "      gap: 12px;\n",
              "    }\n",
              "\n",
              "    .colab-df-convert {\n",
              "      background-color: #E8F0FE;\n",
              "      border: none;\n",
              "      border-radius: 50%;\n",
              "      cursor: pointer;\n",
              "      display: none;\n",
              "      fill: #1967D2;\n",
              "      height: 32px;\n",
              "      padding: 0 0 0 0;\n",
              "      width: 32px;\n",
              "    }\n",
              "\n",
              "    .colab-df-convert:hover {\n",
              "      background-color: #E2EBFA;\n",
              "      box-shadow: 0px 1px 2px rgba(60, 64, 67, 0.3), 0px 1px 3px 1px rgba(60, 64, 67, 0.15);\n",
              "      fill: #174EA6;\n",
              "    }\n",
              "\n",
              "    [theme=dark] .colab-df-convert {\n",
              "      background-color: #3B4455;\n",
              "      fill: #D2E3FC;\n",
              "    }\n",
              "\n",
              "    [theme=dark] .colab-df-convert:hover {\n",
              "      background-color: #434B5C;\n",
              "      box-shadow: 0px 1px 3px 1px rgba(0, 0, 0, 0.15);\n",
              "      filter: drop-shadow(0px 1px 2px rgba(0, 0, 0, 0.3));\n",
              "      fill: #FFFFFF;\n",
              "    }\n",
              "  </style>\n",
              "\n",
              "      <script>\n",
              "        const buttonEl =\n",
              "          document.querySelector('#df-eb654856-c45d-4b30-b17e-9a420c3f79c8 button.colab-df-convert');\n",
              "        buttonEl.style.display =\n",
              "          google.colab.kernel.accessAllowed ? 'block' : 'none';\n",
              "\n",
              "        async function convertToInteractive(key) {\n",
              "          const element = document.querySelector('#df-eb654856-c45d-4b30-b17e-9a420c3f79c8');\n",
              "          const dataTable =\n",
              "            await google.colab.kernel.invokeFunction('convertToInteractive',\n",
              "                                                     [key], {});\n",
              "          if (!dataTable) return;\n",
              "\n",
              "          const docLinkHtml = 'Like what you see? Visit the ' +\n",
              "            '<a target=\"_blank\" href=https://colab.research.google.com/notebooks/data_table.ipynb>data table notebook</a>'\n",
              "            + ' to learn more about interactive tables.';\n",
              "          element.innerHTML = '';\n",
              "          dataTable['output_type'] = 'display_data';\n",
              "          await google.colab.output.renderOutput(dataTable, element);\n",
              "          const docLink = document.createElement('div');\n",
              "          docLink.innerHTML = docLinkHtml;\n",
              "          element.appendChild(docLink);\n",
              "        }\n",
              "      </script>\n",
              "    </div>\n",
              "  </div>\n",
              "  "
            ]
          },
          "metadata": {},
          "execution_count": 71
        }
      ]
    },
    {
      "cell_type": "markdown",
      "source": [
        "Q1"
      ],
      "metadata": {
        "id": "kFZJ3fkOck1c"
      }
    },
    {
      "cell_type": "code",
      "source": [
        "forbes_billionaires_df['NetWorth'] = forbes_billionaires_df['NetWorth'].apply(lambda x: float(x[1:-2]))"
      ],
      "metadata": {
        "id": "pBv2HawRQYML"
      },
      "execution_count": 72,
      "outputs": []
    },
    {
      "cell_type": "code",
      "source": [
        "g_by_industry = forbes_billionaires_df.groupby('Industry', as_index= False)\n",
        "industries = set(n for n in forbes_billionaires_df['Industry'])\n",
        "dict_industry = {}\n",
        "def filter_by_industry(df, industry_type):\n",
        "  df = df[df['Industry'] == industry_type]\n",
        "  corr,_ = pearsonr(df['NetWorth'],df['Age'])\n",
        "  return f\"{corr:.3f}\"\n",
        "for indus in industries:\n",
        "  dict_industry[indus] = filter_by_industry(forbes_billionaires_df, indus)\n",
        "display(dict_industry)\n",
        "col = ['Industry','Corrolation Value']\n",
        "df_corr = pd.DataFrame(list(dict_industry.items()), index=range(len(dict_industry)),columns=col)\n",
        "df_corr = df_corr.sort_values('Corrolation Value', ascending=False)\n",
        "display(df_corr)"
      ],
      "metadata": {
        "colab": {
          "base_uri": "https://localhost:8080/",
          "height": 935
        },
        "id": "7hAiQ46_cl0H",
        "outputId": "10c9d32e-c586-424e-bb58-06027c5ae17d"
      },
      "execution_count": 100,
      "outputs": [
        {
          "output_type": "display_data",
          "data": {
            "text/plain": [
              "{'Fashion & Retail': '0.137',\n",
              " 'Media & Entertainment': '0.129',\n",
              " 'Telecom': '0.219',\n",
              " 'Metals & Mining': '0.256',\n",
              " 'Finance & Investments': '0.102',\n",
              " 'Logistics': '0.243',\n",
              " 'Automotive': '-0.118',\n",
              " 'Food & Beverage': '0.044',\n",
              " 'Gambling & Casinos': '0.171',\n",
              " 'Healthcare': '0.148',\n",
              " 'Energy': '-0.114',\n",
              " 'Technology': '-0.011',\n",
              " 'Diversified': '0.040',\n",
              " 'Service': '-0.084',\n",
              " 'Sports': '0.315',\n",
              " 'Real Estate': '0.086',\n",
              " 'Manufacturing': '0.169',\n",
              " 'Construction & Engineering': '0.369'}"
            ]
          },
          "metadata": {}
        },
        {
          "output_type": "display_data",
          "data": {
            "text/plain": [
              "                      Industry Corrolation Value\n",
              "17  Construction & Engineering             0.369\n",
              "14                      Sports             0.315\n",
              "3              Metals & Mining             0.256\n",
              "5                    Logistics             0.243\n",
              "2                      Telecom             0.219\n",
              "8           Gambling & Casinos             0.171\n",
              "16               Manufacturing             0.169\n",
              "9                   Healthcare             0.148\n",
              "0             Fashion & Retail             0.137\n",
              "1        Media & Entertainment             0.129\n",
              "4        Finance & Investments             0.102\n",
              "15                 Real Estate             0.086\n",
              "7              Food & Beverage             0.044\n",
              "12                 Diversified             0.040\n",
              "6                   Automotive            -0.118\n",
              "10                      Energy            -0.114\n",
              "13                     Service            -0.084\n",
              "11                  Technology            -0.011"
            ],
            "text/html": [
              "\n",
              "  <div id=\"df-94d7d5ae-e15c-4cc4-a848-71a5e0c1b103\">\n",
              "    <div class=\"colab-df-container\">\n",
              "      <div>\n",
              "<style scoped>\n",
              "    .dataframe tbody tr th:only-of-type {\n",
              "        vertical-align: middle;\n",
              "    }\n",
              "\n",
              "    .dataframe tbody tr th {\n",
              "        vertical-align: top;\n",
              "    }\n",
              "\n",
              "    .dataframe thead th {\n",
              "        text-align: right;\n",
              "    }\n",
              "</style>\n",
              "<table border=\"1\" class=\"dataframe\">\n",
              "  <thead>\n",
              "    <tr style=\"text-align: right;\">\n",
              "      <th></th>\n",
              "      <th>Industry</th>\n",
              "      <th>Corrolation Value</th>\n",
              "    </tr>\n",
              "  </thead>\n",
              "  <tbody>\n",
              "    <tr>\n",
              "      <th>17</th>\n",
              "      <td>Construction &amp; Engineering</td>\n",
              "      <td>0.369</td>\n",
              "    </tr>\n",
              "    <tr>\n",
              "      <th>14</th>\n",
              "      <td>Sports</td>\n",
              "      <td>0.315</td>\n",
              "    </tr>\n",
              "    <tr>\n",
              "      <th>3</th>\n",
              "      <td>Metals &amp; Mining</td>\n",
              "      <td>0.256</td>\n",
              "    </tr>\n",
              "    <tr>\n",
              "      <th>5</th>\n",
              "      <td>Logistics</td>\n",
              "      <td>0.243</td>\n",
              "    </tr>\n",
              "    <tr>\n",
              "      <th>2</th>\n",
              "      <td>Telecom</td>\n",
              "      <td>0.219</td>\n",
              "    </tr>\n",
              "    <tr>\n",
              "      <th>8</th>\n",
              "      <td>Gambling &amp; Casinos</td>\n",
              "      <td>0.171</td>\n",
              "    </tr>\n",
              "    <tr>\n",
              "      <th>16</th>\n",
              "      <td>Manufacturing</td>\n",
              "      <td>0.169</td>\n",
              "    </tr>\n",
              "    <tr>\n",
              "      <th>9</th>\n",
              "      <td>Healthcare</td>\n",
              "      <td>0.148</td>\n",
              "    </tr>\n",
              "    <tr>\n",
              "      <th>0</th>\n",
              "      <td>Fashion &amp; Retail</td>\n",
              "      <td>0.137</td>\n",
              "    </tr>\n",
              "    <tr>\n",
              "      <th>1</th>\n",
              "      <td>Media &amp; Entertainment</td>\n",
              "      <td>0.129</td>\n",
              "    </tr>\n",
              "    <tr>\n",
              "      <th>4</th>\n",
              "      <td>Finance &amp; Investments</td>\n",
              "      <td>0.102</td>\n",
              "    </tr>\n",
              "    <tr>\n",
              "      <th>15</th>\n",
              "      <td>Real Estate</td>\n",
              "      <td>0.086</td>\n",
              "    </tr>\n",
              "    <tr>\n",
              "      <th>7</th>\n",
              "      <td>Food &amp; Beverage</td>\n",
              "      <td>0.044</td>\n",
              "    </tr>\n",
              "    <tr>\n",
              "      <th>12</th>\n",
              "      <td>Diversified</td>\n",
              "      <td>0.040</td>\n",
              "    </tr>\n",
              "    <tr>\n",
              "      <th>6</th>\n",
              "      <td>Automotive</td>\n",
              "      <td>-0.118</td>\n",
              "    </tr>\n",
              "    <tr>\n",
              "      <th>10</th>\n",
              "      <td>Energy</td>\n",
              "      <td>-0.114</td>\n",
              "    </tr>\n",
              "    <tr>\n",
              "      <th>13</th>\n",
              "      <td>Service</td>\n",
              "      <td>-0.084</td>\n",
              "    </tr>\n",
              "    <tr>\n",
              "      <th>11</th>\n",
              "      <td>Technology</td>\n",
              "      <td>-0.011</td>\n",
              "    </tr>\n",
              "  </tbody>\n",
              "</table>\n",
              "</div>\n",
              "      <button class=\"colab-df-convert\" onclick=\"convertToInteractive('df-94d7d5ae-e15c-4cc4-a848-71a5e0c1b103')\"\n",
              "              title=\"Convert this dataframe to an interactive table.\"\n",
              "              style=\"display:none;\">\n",
              "        \n",
              "  <svg xmlns=\"http://www.w3.org/2000/svg\" height=\"24px\"viewBox=\"0 0 24 24\"\n",
              "       width=\"24px\">\n",
              "    <path d=\"M0 0h24v24H0V0z\" fill=\"none\"/>\n",
              "    <path d=\"M18.56 5.44l.94 2.06.94-2.06 2.06-.94-2.06-.94-.94-2.06-.94 2.06-2.06.94zm-11 1L8.5 8.5l.94-2.06 2.06-.94-2.06-.94L8.5 2.5l-.94 2.06-2.06.94zm10 10l.94 2.06.94-2.06 2.06-.94-2.06-.94-.94-2.06-.94 2.06-2.06.94z\"/><path d=\"M17.41 7.96l-1.37-1.37c-.4-.4-.92-.59-1.43-.59-.52 0-1.04.2-1.43.59L10.3 9.45l-7.72 7.72c-.78.78-.78 2.05 0 2.83L4 21.41c.39.39.9.59 1.41.59.51 0 1.02-.2 1.41-.59l7.78-7.78 2.81-2.81c.8-.78.8-2.07 0-2.86zM5.41 20L4 18.59l7.72-7.72 1.47 1.35L5.41 20z\"/>\n",
              "  </svg>\n",
              "      </button>\n",
              "      \n",
              "  <style>\n",
              "    .colab-df-container {\n",
              "      display:flex;\n",
              "      flex-wrap:wrap;\n",
              "      gap: 12px;\n",
              "    }\n",
              "\n",
              "    .colab-df-convert {\n",
              "      background-color: #E8F0FE;\n",
              "      border: none;\n",
              "      border-radius: 50%;\n",
              "      cursor: pointer;\n",
              "      display: none;\n",
              "      fill: #1967D2;\n",
              "      height: 32px;\n",
              "      padding: 0 0 0 0;\n",
              "      width: 32px;\n",
              "    }\n",
              "\n",
              "    .colab-df-convert:hover {\n",
              "      background-color: #E2EBFA;\n",
              "      box-shadow: 0px 1px 2px rgba(60, 64, 67, 0.3), 0px 1px 3px 1px rgba(60, 64, 67, 0.15);\n",
              "      fill: #174EA6;\n",
              "    }\n",
              "\n",
              "    [theme=dark] .colab-df-convert {\n",
              "      background-color: #3B4455;\n",
              "      fill: #D2E3FC;\n",
              "    }\n",
              "\n",
              "    [theme=dark] .colab-df-convert:hover {\n",
              "      background-color: #434B5C;\n",
              "      box-shadow: 0px 1px 3px 1px rgba(0, 0, 0, 0.15);\n",
              "      filter: drop-shadow(0px 1px 2px rgba(0, 0, 0, 0.3));\n",
              "      fill: #FFFFFF;\n",
              "    }\n",
              "  </style>\n",
              "\n",
              "      <script>\n",
              "        const buttonEl =\n",
              "          document.querySelector('#df-94d7d5ae-e15c-4cc4-a848-71a5e0c1b103 button.colab-df-convert');\n",
              "        buttonEl.style.display =\n",
              "          google.colab.kernel.accessAllowed ? 'block' : 'none';\n",
              "\n",
              "        async function convertToInteractive(key) {\n",
              "          const element = document.querySelector('#df-94d7d5ae-e15c-4cc4-a848-71a5e0c1b103');\n",
              "          const dataTable =\n",
              "            await google.colab.kernel.invokeFunction('convertToInteractive',\n",
              "                                                     [key], {});\n",
              "          if (!dataTable) return;\n",
              "\n",
              "          const docLinkHtml = 'Like what you see? Visit the ' +\n",
              "            '<a target=\"_blank\" href=https://colab.research.google.com/notebooks/data_table.ipynb>data table notebook</a>'\n",
              "            + ' to learn more about interactive tables.';\n",
              "          element.innerHTML = '';\n",
              "          dataTable['output_type'] = 'display_data';\n",
              "          await google.colab.output.renderOutput(dataTable, element);\n",
              "          const docLink = document.createElement('div');\n",
              "          docLink.innerHTML = docLinkHtml;\n",
              "          element.appendChild(docLink);\n",
              "        }\n",
              "      </script>\n",
              "    </div>\n",
              "  </div>\n",
              "  "
            ]
          },
          "metadata": {}
        }
      ]
    },
    {
      "cell_type": "markdown",
      "source": [
        "Q2"
      ],
      "metadata": {
        "id": "nyiuY3gXcmd_"
      }
    },
    {
      "cell_type": "code",
      "source": [
        "fig = px.bar(df_corr, x=\"Industry\",y=\"Corrolation Value\",color='Industry')\n",
        "fig.show()"
      ],
      "metadata": {
        "colab": {
          "base_uri": "https://localhost:8080/",
          "height": 542
        },
        "id": "J32U7RGRcnKK",
        "outputId": "f8ec8011-069e-4471-fec0-1f207f167481"
      },
      "execution_count": 101,
      "outputs": [
        {
          "output_type": "display_data",
          "data": {
            "text/html": [
              "<html>\n",
              "<head><meta charset=\"utf-8\" /></head>\n",
              "<body>\n",
              "    <div>            <script src=\"https://cdnjs.cloudflare.com/ajax/libs/mathjax/2.7.5/MathJax.js?config=TeX-AMS-MML_SVG\"></script><script type=\"text/javascript\">if (window.MathJax) {MathJax.Hub.Config({SVG: {font: \"STIX-Web\"}});}</script>                <script type=\"text/javascript\">window.PlotlyConfig = {MathJaxConfig: 'local'};</script>\n",
              "        <script src=\"https://cdn.plot.ly/plotly-2.8.3.min.js\"></script>                <div id=\"f8b17cf0-0436-4da2-b153-21357c7a0265\" class=\"plotly-graph-div\" style=\"height:525px; width:100%;\"></div>            <script type=\"text/javascript\">                                    window.PLOTLYENV=window.PLOTLYENV || {};                                    if (document.getElementById(\"f8b17cf0-0436-4da2-b153-21357c7a0265\")) {                    Plotly.newPlot(                        \"f8b17cf0-0436-4da2-b153-21357c7a0265\",                        [{\"alignmentgroup\":\"True\",\"hovertemplate\":\"Industry=%{x}<br>Corrolation Value=%{y}<extra></extra>\",\"legendgroup\":\"Construction & Engineering\",\"marker\":{\"color\":\"#636efa\",\"pattern\":{\"shape\":\"\"}},\"name\":\"Construction & Engineering\",\"offsetgroup\":\"Construction & Engineering\",\"orientation\":\"v\",\"showlegend\":true,\"textposition\":\"auto\",\"x\":[\"Construction & Engineering\"],\"xaxis\":\"x\",\"y\":[\"0.369\"],\"yaxis\":\"y\",\"type\":\"bar\"},{\"alignmentgroup\":\"True\",\"hovertemplate\":\"Industry=%{x}<br>Corrolation Value=%{y}<extra></extra>\",\"legendgroup\":\"Sports\",\"marker\":{\"color\":\"#EF553B\",\"pattern\":{\"shape\":\"\"}},\"name\":\"Sports\",\"offsetgroup\":\"Sports\",\"orientation\":\"v\",\"showlegend\":true,\"textposition\":\"auto\",\"x\":[\"Sports\"],\"xaxis\":\"x\",\"y\":[\"0.315\"],\"yaxis\":\"y\",\"type\":\"bar\"},{\"alignmentgroup\":\"True\",\"hovertemplate\":\"Industry=%{x}<br>Corrolation Value=%{y}<extra></extra>\",\"legendgroup\":\"Metals & Mining\",\"marker\":{\"color\":\"#00cc96\",\"pattern\":{\"shape\":\"\"}},\"name\":\"Metals & Mining\",\"offsetgroup\":\"Metals & Mining\",\"orientation\":\"v\",\"showlegend\":true,\"textposition\":\"auto\",\"x\":[\"Metals & Mining\"],\"xaxis\":\"x\",\"y\":[\"0.256\"],\"yaxis\":\"y\",\"type\":\"bar\"},{\"alignmentgroup\":\"True\",\"hovertemplate\":\"Industry=%{x}<br>Corrolation Value=%{y}<extra></extra>\",\"legendgroup\":\"Logistics\",\"marker\":{\"color\":\"#ab63fa\",\"pattern\":{\"shape\":\"\"}},\"name\":\"Logistics\",\"offsetgroup\":\"Logistics\",\"orientation\":\"v\",\"showlegend\":true,\"textposition\":\"auto\",\"x\":[\"Logistics\"],\"xaxis\":\"x\",\"y\":[\"0.243\"],\"yaxis\":\"y\",\"type\":\"bar\"},{\"alignmentgroup\":\"True\",\"hovertemplate\":\"Industry=%{x}<br>Corrolation Value=%{y}<extra></extra>\",\"legendgroup\":\"Telecom\",\"marker\":{\"color\":\"#FFA15A\",\"pattern\":{\"shape\":\"\"}},\"name\":\"Telecom\",\"offsetgroup\":\"Telecom\",\"orientation\":\"v\",\"showlegend\":true,\"textposition\":\"auto\",\"x\":[\"Telecom\"],\"xaxis\":\"x\",\"y\":[\"0.219\"],\"yaxis\":\"y\",\"type\":\"bar\"},{\"alignmentgroup\":\"True\",\"hovertemplate\":\"Industry=%{x}<br>Corrolation Value=%{y}<extra></extra>\",\"legendgroup\":\"Gambling & Casinos\",\"marker\":{\"color\":\"#19d3f3\",\"pattern\":{\"shape\":\"\"}},\"name\":\"Gambling & Casinos\",\"offsetgroup\":\"Gambling & Casinos\",\"orientation\":\"v\",\"showlegend\":true,\"textposition\":\"auto\",\"x\":[\"Gambling & Casinos\"],\"xaxis\":\"x\",\"y\":[\"0.171\"],\"yaxis\":\"y\",\"type\":\"bar\"},{\"alignmentgroup\":\"True\",\"hovertemplate\":\"Industry=%{x}<br>Corrolation Value=%{y}<extra></extra>\",\"legendgroup\":\"Manufacturing\",\"marker\":{\"color\":\"#FF6692\",\"pattern\":{\"shape\":\"\"}},\"name\":\"Manufacturing\",\"offsetgroup\":\"Manufacturing\",\"orientation\":\"v\",\"showlegend\":true,\"textposition\":\"auto\",\"x\":[\"Manufacturing\"],\"xaxis\":\"x\",\"y\":[\"0.169\"],\"yaxis\":\"y\",\"type\":\"bar\"},{\"alignmentgroup\":\"True\",\"hovertemplate\":\"Industry=%{x}<br>Corrolation Value=%{y}<extra></extra>\",\"legendgroup\":\"Healthcare\",\"marker\":{\"color\":\"#B6E880\",\"pattern\":{\"shape\":\"\"}},\"name\":\"Healthcare\",\"offsetgroup\":\"Healthcare\",\"orientation\":\"v\",\"showlegend\":true,\"textposition\":\"auto\",\"x\":[\"Healthcare\"],\"xaxis\":\"x\",\"y\":[\"0.148\"],\"yaxis\":\"y\",\"type\":\"bar\"},{\"alignmentgroup\":\"True\",\"hovertemplate\":\"Industry=%{x}<br>Corrolation Value=%{y}<extra></extra>\",\"legendgroup\":\"Fashion & Retail\",\"marker\":{\"color\":\"#FF97FF\",\"pattern\":{\"shape\":\"\"}},\"name\":\"Fashion & Retail\",\"offsetgroup\":\"Fashion & Retail\",\"orientation\":\"v\",\"showlegend\":true,\"textposition\":\"auto\",\"x\":[\"Fashion & Retail\"],\"xaxis\":\"x\",\"y\":[\"0.137\"],\"yaxis\":\"y\",\"type\":\"bar\"},{\"alignmentgroup\":\"True\",\"hovertemplate\":\"Industry=%{x}<br>Corrolation Value=%{y}<extra></extra>\",\"legendgroup\":\"Media & Entertainment\",\"marker\":{\"color\":\"#FECB52\",\"pattern\":{\"shape\":\"\"}},\"name\":\"Media & Entertainment\",\"offsetgroup\":\"Media & Entertainment\",\"orientation\":\"v\",\"showlegend\":true,\"textposition\":\"auto\",\"x\":[\"Media & Entertainment\"],\"xaxis\":\"x\",\"y\":[\"0.129\"],\"yaxis\":\"y\",\"type\":\"bar\"},{\"alignmentgroup\":\"True\",\"hovertemplate\":\"Industry=%{x}<br>Corrolation Value=%{y}<extra></extra>\",\"legendgroup\":\"Finance & Investments\",\"marker\":{\"color\":\"#636efa\",\"pattern\":{\"shape\":\"\"}},\"name\":\"Finance & Investments\",\"offsetgroup\":\"Finance & Investments\",\"orientation\":\"v\",\"showlegend\":true,\"textposition\":\"auto\",\"x\":[\"Finance & Investments\"],\"xaxis\":\"x\",\"y\":[\"0.102\"],\"yaxis\":\"y\",\"type\":\"bar\"},{\"alignmentgroup\":\"True\",\"hovertemplate\":\"Industry=%{x}<br>Corrolation Value=%{y}<extra></extra>\",\"legendgroup\":\"Real Estate\",\"marker\":{\"color\":\"#EF553B\",\"pattern\":{\"shape\":\"\"}},\"name\":\"Real Estate\",\"offsetgroup\":\"Real Estate\",\"orientation\":\"v\",\"showlegend\":true,\"textposition\":\"auto\",\"x\":[\"Real Estate\"],\"xaxis\":\"x\",\"y\":[\"0.086\"],\"yaxis\":\"y\",\"type\":\"bar\"},{\"alignmentgroup\":\"True\",\"hovertemplate\":\"Industry=%{x}<br>Corrolation Value=%{y}<extra></extra>\",\"legendgroup\":\"Food & Beverage\",\"marker\":{\"color\":\"#00cc96\",\"pattern\":{\"shape\":\"\"}},\"name\":\"Food & Beverage\",\"offsetgroup\":\"Food & Beverage\",\"orientation\":\"v\",\"showlegend\":true,\"textposition\":\"auto\",\"x\":[\"Food & Beverage\"],\"xaxis\":\"x\",\"y\":[\"0.044\"],\"yaxis\":\"y\",\"type\":\"bar\"},{\"alignmentgroup\":\"True\",\"hovertemplate\":\"Industry=%{x}<br>Corrolation Value=%{y}<extra></extra>\",\"legendgroup\":\"Diversified\",\"marker\":{\"color\":\"#ab63fa\",\"pattern\":{\"shape\":\"\"}},\"name\":\"Diversified\",\"offsetgroup\":\"Diversified\",\"orientation\":\"v\",\"showlegend\":true,\"textposition\":\"auto\",\"x\":[\"Diversified\"],\"xaxis\":\"x\",\"y\":[\"0.040\"],\"yaxis\":\"y\",\"type\":\"bar\"},{\"alignmentgroup\":\"True\",\"hovertemplate\":\"Industry=%{x}<br>Corrolation Value=%{y}<extra></extra>\",\"legendgroup\":\"Automotive\",\"marker\":{\"color\":\"#FFA15A\",\"pattern\":{\"shape\":\"\"}},\"name\":\"Automotive\",\"offsetgroup\":\"Automotive\",\"orientation\":\"v\",\"showlegend\":true,\"textposition\":\"auto\",\"x\":[\"Automotive\"],\"xaxis\":\"x\",\"y\":[\"-0.118\"],\"yaxis\":\"y\",\"type\":\"bar\"},{\"alignmentgroup\":\"True\",\"hovertemplate\":\"Industry=%{x}<br>Corrolation Value=%{y}<extra></extra>\",\"legendgroup\":\"Energy\",\"marker\":{\"color\":\"#19d3f3\",\"pattern\":{\"shape\":\"\"}},\"name\":\"Energy\",\"offsetgroup\":\"Energy\",\"orientation\":\"v\",\"showlegend\":true,\"textposition\":\"auto\",\"x\":[\"Energy\"],\"xaxis\":\"x\",\"y\":[\"-0.114\"],\"yaxis\":\"y\",\"type\":\"bar\"},{\"alignmentgroup\":\"True\",\"hovertemplate\":\"Industry=%{x}<br>Corrolation Value=%{y}<extra></extra>\",\"legendgroup\":\"Service\",\"marker\":{\"color\":\"#FF6692\",\"pattern\":{\"shape\":\"\"}},\"name\":\"Service\",\"offsetgroup\":\"Service\",\"orientation\":\"v\",\"showlegend\":true,\"textposition\":\"auto\",\"x\":[\"Service\"],\"xaxis\":\"x\",\"y\":[\"-0.084\"],\"yaxis\":\"y\",\"type\":\"bar\"},{\"alignmentgroup\":\"True\",\"hovertemplate\":\"Industry=%{x}<br>Corrolation Value=%{y}<extra></extra>\",\"legendgroup\":\"Technology\",\"marker\":{\"color\":\"#B6E880\",\"pattern\":{\"shape\":\"\"}},\"name\":\"Technology\",\"offsetgroup\":\"Technology\",\"orientation\":\"v\",\"showlegend\":true,\"textposition\":\"auto\",\"x\":[\"Technology\"],\"xaxis\":\"x\",\"y\":[\"-0.011\"],\"yaxis\":\"y\",\"type\":\"bar\"}],                        {\"template\":{\"data\":{\"bar\":[{\"error_x\":{\"color\":\"#2a3f5f\"},\"error_y\":{\"color\":\"#2a3f5f\"},\"marker\":{\"line\":{\"color\":\"#E5ECF6\",\"width\":0.5},\"pattern\":{\"fillmode\":\"overlay\",\"size\":10,\"solidity\":0.2}},\"type\":\"bar\"}],\"barpolar\":[{\"marker\":{\"line\":{\"color\":\"#E5ECF6\",\"width\":0.5},\"pattern\":{\"fillmode\":\"overlay\",\"size\":10,\"solidity\":0.2}},\"type\":\"barpolar\"}],\"carpet\":[{\"aaxis\":{\"endlinecolor\":\"#2a3f5f\",\"gridcolor\":\"white\",\"linecolor\":\"white\",\"minorgridcolor\":\"white\",\"startlinecolor\":\"#2a3f5f\"},\"baxis\":{\"endlinecolor\":\"#2a3f5f\",\"gridcolor\":\"white\",\"linecolor\":\"white\",\"minorgridcolor\":\"white\",\"startlinecolor\":\"#2a3f5f\"},\"type\":\"carpet\"}],\"choropleth\":[{\"colorbar\":{\"outlinewidth\":0,\"ticks\":\"\"},\"type\":\"choropleth\"}],\"contour\":[{\"colorbar\":{\"outlinewidth\":0,\"ticks\":\"\"},\"colorscale\":[[0.0,\"#0d0887\"],[0.1111111111111111,\"#46039f\"],[0.2222222222222222,\"#7201a8\"],[0.3333333333333333,\"#9c179e\"],[0.4444444444444444,\"#bd3786\"],[0.5555555555555556,\"#d8576b\"],[0.6666666666666666,\"#ed7953\"],[0.7777777777777778,\"#fb9f3a\"],[0.8888888888888888,\"#fdca26\"],[1.0,\"#f0f921\"]],\"type\":\"contour\"}],\"contourcarpet\":[{\"colorbar\":{\"outlinewidth\":0,\"ticks\":\"\"},\"type\":\"contourcarpet\"}],\"heatmap\":[{\"colorbar\":{\"outlinewidth\":0,\"ticks\":\"\"},\"colorscale\":[[0.0,\"#0d0887\"],[0.1111111111111111,\"#46039f\"],[0.2222222222222222,\"#7201a8\"],[0.3333333333333333,\"#9c179e\"],[0.4444444444444444,\"#bd3786\"],[0.5555555555555556,\"#d8576b\"],[0.6666666666666666,\"#ed7953\"],[0.7777777777777778,\"#fb9f3a\"],[0.8888888888888888,\"#fdca26\"],[1.0,\"#f0f921\"]],\"type\":\"heatmap\"}],\"heatmapgl\":[{\"colorbar\":{\"outlinewidth\":0,\"ticks\":\"\"},\"colorscale\":[[0.0,\"#0d0887\"],[0.1111111111111111,\"#46039f\"],[0.2222222222222222,\"#7201a8\"],[0.3333333333333333,\"#9c179e\"],[0.4444444444444444,\"#bd3786\"],[0.5555555555555556,\"#d8576b\"],[0.6666666666666666,\"#ed7953\"],[0.7777777777777778,\"#fb9f3a\"],[0.8888888888888888,\"#fdca26\"],[1.0,\"#f0f921\"]],\"type\":\"heatmapgl\"}],\"histogram\":[{\"marker\":{\"pattern\":{\"fillmode\":\"overlay\",\"size\":10,\"solidity\":0.2}},\"type\":\"histogram\"}],\"histogram2d\":[{\"colorbar\":{\"outlinewidth\":0,\"ticks\":\"\"},\"colorscale\":[[0.0,\"#0d0887\"],[0.1111111111111111,\"#46039f\"],[0.2222222222222222,\"#7201a8\"],[0.3333333333333333,\"#9c179e\"],[0.4444444444444444,\"#bd3786\"],[0.5555555555555556,\"#d8576b\"],[0.6666666666666666,\"#ed7953\"],[0.7777777777777778,\"#fb9f3a\"],[0.8888888888888888,\"#fdca26\"],[1.0,\"#f0f921\"]],\"type\":\"histogram2d\"}],\"histogram2dcontour\":[{\"colorbar\":{\"outlinewidth\":0,\"ticks\":\"\"},\"colorscale\":[[0.0,\"#0d0887\"],[0.1111111111111111,\"#46039f\"],[0.2222222222222222,\"#7201a8\"],[0.3333333333333333,\"#9c179e\"],[0.4444444444444444,\"#bd3786\"],[0.5555555555555556,\"#d8576b\"],[0.6666666666666666,\"#ed7953\"],[0.7777777777777778,\"#fb9f3a\"],[0.8888888888888888,\"#fdca26\"],[1.0,\"#f0f921\"]],\"type\":\"histogram2dcontour\"}],\"mesh3d\":[{\"colorbar\":{\"outlinewidth\":0,\"ticks\":\"\"},\"type\":\"mesh3d\"}],\"parcoords\":[{\"line\":{\"colorbar\":{\"outlinewidth\":0,\"ticks\":\"\"}},\"type\":\"parcoords\"}],\"pie\":[{\"automargin\":true,\"type\":\"pie\"}],\"scatter\":[{\"marker\":{\"colorbar\":{\"outlinewidth\":0,\"ticks\":\"\"}},\"type\":\"scatter\"}],\"scatter3d\":[{\"line\":{\"colorbar\":{\"outlinewidth\":0,\"ticks\":\"\"}},\"marker\":{\"colorbar\":{\"outlinewidth\":0,\"ticks\":\"\"}},\"type\":\"scatter3d\"}],\"scattercarpet\":[{\"marker\":{\"colorbar\":{\"outlinewidth\":0,\"ticks\":\"\"}},\"type\":\"scattercarpet\"}],\"scattergeo\":[{\"marker\":{\"colorbar\":{\"outlinewidth\":0,\"ticks\":\"\"}},\"type\":\"scattergeo\"}],\"scattergl\":[{\"marker\":{\"colorbar\":{\"outlinewidth\":0,\"ticks\":\"\"}},\"type\":\"scattergl\"}],\"scattermapbox\":[{\"marker\":{\"colorbar\":{\"outlinewidth\":0,\"ticks\":\"\"}},\"type\":\"scattermapbox\"}],\"scatterpolar\":[{\"marker\":{\"colorbar\":{\"outlinewidth\":0,\"ticks\":\"\"}},\"type\":\"scatterpolar\"}],\"scatterpolargl\":[{\"marker\":{\"colorbar\":{\"outlinewidth\":0,\"ticks\":\"\"}},\"type\":\"scatterpolargl\"}],\"scatterternary\":[{\"marker\":{\"colorbar\":{\"outlinewidth\":0,\"ticks\":\"\"}},\"type\":\"scatterternary\"}],\"surface\":[{\"colorbar\":{\"outlinewidth\":0,\"ticks\":\"\"},\"colorscale\":[[0.0,\"#0d0887\"],[0.1111111111111111,\"#46039f\"],[0.2222222222222222,\"#7201a8\"],[0.3333333333333333,\"#9c179e\"],[0.4444444444444444,\"#bd3786\"],[0.5555555555555556,\"#d8576b\"],[0.6666666666666666,\"#ed7953\"],[0.7777777777777778,\"#fb9f3a\"],[0.8888888888888888,\"#fdca26\"],[1.0,\"#f0f921\"]],\"type\":\"surface\"}],\"table\":[{\"cells\":{\"fill\":{\"color\":\"#EBF0F8\"},\"line\":{\"color\":\"white\"}},\"header\":{\"fill\":{\"color\":\"#C8D4E3\"},\"line\":{\"color\":\"white\"}},\"type\":\"table\"}]},\"layout\":{\"annotationdefaults\":{\"arrowcolor\":\"#2a3f5f\",\"arrowhead\":0,\"arrowwidth\":1},\"autotypenumbers\":\"strict\",\"coloraxis\":{\"colorbar\":{\"outlinewidth\":0,\"ticks\":\"\"}},\"colorscale\":{\"diverging\":[[0,\"#8e0152\"],[0.1,\"#c51b7d\"],[0.2,\"#de77ae\"],[0.3,\"#f1b6da\"],[0.4,\"#fde0ef\"],[0.5,\"#f7f7f7\"],[0.6,\"#e6f5d0\"],[0.7,\"#b8e186\"],[0.8,\"#7fbc41\"],[0.9,\"#4d9221\"],[1,\"#276419\"]],\"sequential\":[[0.0,\"#0d0887\"],[0.1111111111111111,\"#46039f\"],[0.2222222222222222,\"#7201a8\"],[0.3333333333333333,\"#9c179e\"],[0.4444444444444444,\"#bd3786\"],[0.5555555555555556,\"#d8576b\"],[0.6666666666666666,\"#ed7953\"],[0.7777777777777778,\"#fb9f3a\"],[0.8888888888888888,\"#fdca26\"],[1.0,\"#f0f921\"]],\"sequentialminus\":[[0.0,\"#0d0887\"],[0.1111111111111111,\"#46039f\"],[0.2222222222222222,\"#7201a8\"],[0.3333333333333333,\"#9c179e\"],[0.4444444444444444,\"#bd3786\"],[0.5555555555555556,\"#d8576b\"],[0.6666666666666666,\"#ed7953\"],[0.7777777777777778,\"#fb9f3a\"],[0.8888888888888888,\"#fdca26\"],[1.0,\"#f0f921\"]]},\"colorway\":[\"#636efa\",\"#EF553B\",\"#00cc96\",\"#ab63fa\",\"#FFA15A\",\"#19d3f3\",\"#FF6692\",\"#B6E880\",\"#FF97FF\",\"#FECB52\"],\"font\":{\"color\":\"#2a3f5f\"},\"geo\":{\"bgcolor\":\"white\",\"lakecolor\":\"white\",\"landcolor\":\"#E5ECF6\",\"showlakes\":true,\"showland\":true,\"subunitcolor\":\"white\"},\"hoverlabel\":{\"align\":\"left\"},\"hovermode\":\"closest\",\"mapbox\":{\"style\":\"light\"},\"paper_bgcolor\":\"white\",\"plot_bgcolor\":\"#E5ECF6\",\"polar\":{\"angularaxis\":{\"gridcolor\":\"white\",\"linecolor\":\"white\",\"ticks\":\"\"},\"bgcolor\":\"#E5ECF6\",\"radialaxis\":{\"gridcolor\":\"white\",\"linecolor\":\"white\",\"ticks\":\"\"}},\"scene\":{\"xaxis\":{\"backgroundcolor\":\"#E5ECF6\",\"gridcolor\":\"white\",\"gridwidth\":2,\"linecolor\":\"white\",\"showbackground\":true,\"ticks\":\"\",\"zerolinecolor\":\"white\"},\"yaxis\":{\"backgroundcolor\":\"#E5ECF6\",\"gridcolor\":\"white\",\"gridwidth\":2,\"linecolor\":\"white\",\"showbackground\":true,\"ticks\":\"\",\"zerolinecolor\":\"white\"},\"zaxis\":{\"backgroundcolor\":\"#E5ECF6\",\"gridcolor\":\"white\",\"gridwidth\":2,\"linecolor\":\"white\",\"showbackground\":true,\"ticks\":\"\",\"zerolinecolor\":\"white\"}},\"shapedefaults\":{\"line\":{\"color\":\"#2a3f5f\"}},\"ternary\":{\"aaxis\":{\"gridcolor\":\"white\",\"linecolor\":\"white\",\"ticks\":\"\"},\"baxis\":{\"gridcolor\":\"white\",\"linecolor\":\"white\",\"ticks\":\"\"},\"bgcolor\":\"#E5ECF6\",\"caxis\":{\"gridcolor\":\"white\",\"linecolor\":\"white\",\"ticks\":\"\"}},\"title\":{\"x\":0.05},\"xaxis\":{\"automargin\":true,\"gridcolor\":\"white\",\"linecolor\":\"white\",\"ticks\":\"\",\"title\":{\"standoff\":15},\"zerolinecolor\":\"white\",\"zerolinewidth\":2},\"yaxis\":{\"automargin\":true,\"gridcolor\":\"white\",\"linecolor\":\"white\",\"ticks\":\"\",\"title\":{\"standoff\":15},\"zerolinecolor\":\"white\",\"zerolinewidth\":2}}},\"xaxis\":{\"anchor\":\"y\",\"domain\":[0.0,1.0],\"title\":{\"text\":\"Industry\"},\"categoryorder\":\"array\",\"categoryarray\":[\"Construction & Engineering\",\"Sports\",\"Metals & Mining\",\"Logistics\",\"Telecom\",\"Gambling & Casinos\",\"Manufacturing\",\"Healthcare\",\"Fashion & Retail\",\"Media & Entertainment\",\"Finance & Investments\",\"Real Estate\",\"Food & Beverage\",\"Diversified\",\"Automotive\",\"Energy\",\"Service\",\"Technology\"]},\"yaxis\":{\"anchor\":\"x\",\"domain\":[0.0,1.0],\"title\":{\"text\":\"Corrolation Value\"}},\"legend\":{\"title\":{\"text\":\"Industry\"},\"tracegroupgap\":0},\"margin\":{\"t\":60},\"barmode\":\"relative\"},                        {\"responsive\": true}                    ).then(function(){\n",
              "                            \n",
              "var gd = document.getElementById('f8b17cf0-0436-4da2-b153-21357c7a0265');\n",
              "var x = new MutationObserver(function (mutations, observer) {{\n",
              "        var display = window.getComputedStyle(gd).display;\n",
              "        if (!display || display === 'none') {{\n",
              "            console.log([gd, 'removed!']);\n",
              "            Plotly.purge(gd);\n",
              "            observer.disconnect();\n",
              "        }}\n",
              "}});\n",
              "\n",
              "// Listen for the removal of the full notebook cells\n",
              "var notebookContainer = gd.closest('#notebook-container');\n",
              "if (notebookContainer) {{\n",
              "    x.observe(notebookContainer, {childList: true});\n",
              "}}\n",
              "\n",
              "// Listen for the clearing of the current output cell\n",
              "var outputEl = gd.closest('.output');\n",
              "if (outputEl) {{\n",
              "    x.observe(outputEl, {childList: true});\n",
              "}}\n",
              "\n",
              "                        })                };                            </script>        </div>\n",
              "</body>\n",
              "</html>"
            ]
          },
          "metadata": {}
        }
      ]
    }
  ]
}